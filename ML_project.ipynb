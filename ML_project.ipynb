{
 "cells": [
  {
   "cell_type": "markdown",
   "metadata": {},
   "source": [
    "## Name : Abhishek Chauhan
    "House Price Prediction\n",
    "Description : This is a notebook for visualization of various features which the sales price of houses. Then data is taken from the \"Kaggle House Price Prediction\" challenge."
   ]
  },
  {
   "cell_type": "code",
   "execution_count": 26,
   "metadata": {},
   "outputs": [],
   "source": [
    "import numpy as np\n",
    "import pandas as pd\n",
    "import matplotlib.pyplot as plt \n",
    "import seaborn as sns \n",
    "from scipy import stats\n",
    "from scipy.stats import skew,norm\n",
    "from scipy.stats.stats import pearsonr"
   ]
  },
  {
   "cell_type": "markdown",
   "metadata": {},
   "source": [
    "# Loading the Data"
   ]
  },
  {
   "cell_type": "code",
   "execution_count": 155,
   "metadata": {},
   "outputs": [],
   "source": [
    "train=pd.read_csv('train.csv')\n",
    "test=pd.read_csv('test.csv')"
   ]
  },
  {
   "cell_type": "markdown",
   "metadata": {},
   "source": [
    "## Preview the data"
   ]
  },
  {
   "cell_type": "code",
   "execution_count": 156,
   "metadata": {},
   "outputs": [
    {
     "data": {
      "text/html": [
       "<div>\n",
       "<style scoped>\n",
       "    .dataframe tbody tr th:only-of-type {\n",
       "        vertical-align: middle;\n",
       "    }\n",
       "\n",
       "    .dataframe tbody tr th {\n",
       "        vertical-align: top;\n",
       "    }\n",
       "\n",
       "    .dataframe thead th {\n",
       "        text-align: right;\n",
       "    }\n",
       "</style>\n",
       "<table border=\"1\" class=\"dataframe\">\n",
       "  <thead>\n",
       "    <tr style=\"text-align: right;\">\n",
       "      <th></th>\n",
       "      <th>Id</th>\n",
       "      <th>MSSubClass</th>\n",
       "      <th>MSZoning</th>\n",
       "      <th>LotFrontage</th>\n",
       "      <th>LotArea</th>\n",
       "      <th>Street</th>\n",
       "      <th>Alley</th>\n",
       "      <th>LotShape</th>\n",
       "      <th>LandContour</th>\n",
       "      <th>Utilities</th>\n",
       "      <th>...</th>\n",
       "      <th>PoolArea</th>\n",
       "      <th>PoolQC</th>\n",
       "      <th>Fence</th>\n",
       "      <th>MiscFeature</th>\n",
       "      <th>MiscVal</th>\n",
       "      <th>MoSold</th>\n",
       "      <th>YrSold</th>\n",
       "      <th>SaleType</th>\n",
       "      <th>SaleCondition</th>\n",
       "      <th>SalePrice</th>\n",
       "    </tr>\n",
       "  </thead>\n",
       "  <tbody>\n",
       "    <tr>\n",
       "      <th>0</th>\n",
       "      <td>1</td>\n",
       "      <td>60</td>\n",
       "      <td>RL</td>\n",
       "      <td>65.0</td>\n",
       "      <td>8450</td>\n",
       "      <td>Pave</td>\n",
       "      <td>NaN</td>\n",
       "      <td>Reg</td>\n",
       "      <td>Lvl</td>\n",
       "      <td>AllPub</td>\n",
       "      <td>...</td>\n",
       "      <td>0</td>\n",
       "      <td>NaN</td>\n",
       "      <td>NaN</td>\n",
       "      <td>NaN</td>\n",
       "      <td>0</td>\n",
       "      <td>2</td>\n",
       "      <td>2008</td>\n",
       "      <td>WD</td>\n",
       "      <td>Normal</td>\n",
       "      <td>208500</td>\n",
       "    </tr>\n",
       "    <tr>\n",
       "      <th>1</th>\n",
       "      <td>2</td>\n",
       "      <td>20</td>\n",
       "      <td>RL</td>\n",
       "      <td>80.0</td>\n",
       "      <td>9600</td>\n",
       "      <td>Pave</td>\n",
       "      <td>NaN</td>\n",
       "      <td>Reg</td>\n",
       "      <td>Lvl</td>\n",
       "      <td>AllPub</td>\n",
       "      <td>...</td>\n",
       "      <td>0</td>\n",
       "      <td>NaN</td>\n",
       "      <td>NaN</td>\n",
       "      <td>NaN</td>\n",
       "      <td>0</td>\n",
       "      <td>5</td>\n",
       "      <td>2007</td>\n",
       "      <td>WD</td>\n",
       "      <td>Normal</td>\n",
       "      <td>181500</td>\n",
       "    </tr>\n",
       "    <tr>\n",
       "      <th>2</th>\n",
       "      <td>3</td>\n",
       "      <td>60</td>\n",
       "      <td>RL</td>\n",
       "      <td>68.0</td>\n",
       "      <td>11250</td>\n",
       "      <td>Pave</td>\n",
       "      <td>NaN</td>\n",
       "      <td>IR1</td>\n",
       "      <td>Lvl</td>\n",
       "      <td>AllPub</td>\n",
       "      <td>...</td>\n",
       "      <td>0</td>\n",
       "      <td>NaN</td>\n",
       "      <td>NaN</td>\n",
       "      <td>NaN</td>\n",
       "      <td>0</td>\n",
       "      <td>9</td>\n",
       "      <td>2008</td>\n",
       "      <td>WD</td>\n",
       "      <td>Normal</td>\n",
       "      <td>223500</td>\n",
       "    </tr>\n",
       "    <tr>\n",
       "      <th>3</th>\n",
       "      <td>4</td>\n",
       "      <td>70</td>\n",
       "      <td>RL</td>\n",
       "      <td>60.0</td>\n",
       "      <td>9550</td>\n",
       "      <td>Pave</td>\n",
       "      <td>NaN</td>\n",
       "      <td>IR1</td>\n",
       "      <td>Lvl</td>\n",
       "      <td>AllPub</td>\n",
       "      <td>...</td>\n",
       "      <td>0</td>\n",
       "      <td>NaN</td>\n",
       "      <td>NaN</td>\n",
       "      <td>NaN</td>\n",
       "      <td>0</td>\n",
       "      <td>2</td>\n",
       "      <td>2006</td>\n",
       "      <td>WD</td>\n",
       "      <td>Abnorml</td>\n",
       "      <td>140000</td>\n",
       "    </tr>\n",
       "    <tr>\n",
       "      <th>4</th>\n",
       "      <td>5</td>\n",
       "      <td>60</td>\n",
       "      <td>RL</td>\n",
       "      <td>84.0</td>\n",
       "      <td>14260</td>\n",
       "      <td>Pave</td>\n",
       "      <td>NaN</td>\n",
       "      <td>IR1</td>\n",
       "      <td>Lvl</td>\n",
       "      <td>AllPub</td>\n",
       "      <td>...</td>\n",
       "      <td>0</td>\n",
       "      <td>NaN</td>\n",
       "      <td>NaN</td>\n",
       "      <td>NaN</td>\n",
       "      <td>0</td>\n",
       "      <td>12</td>\n",
       "      <td>2008</td>\n",
       "      <td>WD</td>\n",
       "      <td>Normal</td>\n",
       "      <td>250000</td>\n",
       "    </tr>\n",
       "  </tbody>\n",
       "</table>\n",
       "<p>5 rows × 81 columns</p>\n",
       "</div>"
      ],
      "text/plain": [
       "   Id  MSSubClass MSZoning  LotFrontage  LotArea Street Alley LotShape  \\\n",
       "0   1          60       RL         65.0     8450   Pave   NaN      Reg   \n",
       "1   2          20       RL         80.0     9600   Pave   NaN      Reg   \n",
       "2   3          60       RL         68.0    11250   Pave   NaN      IR1   \n",
       "3   4          70       RL         60.0     9550   Pave   NaN      IR1   \n",
       "4   5          60       RL         84.0    14260   Pave   NaN      IR1   \n",
       "\n",
       "  LandContour Utilities    ...     PoolArea PoolQC Fence MiscFeature MiscVal  \\\n",
       "0         Lvl    AllPub    ...            0    NaN   NaN         NaN       0   \n",
       "1         Lvl    AllPub    ...            0    NaN   NaN         NaN       0   \n",
       "2         Lvl    AllPub    ...            0    NaN   NaN         NaN       0   \n",
       "3         Lvl    AllPub    ...            0    NaN   NaN         NaN       0   \n",
       "4         Lvl    AllPub    ...            0    NaN   NaN         NaN       0   \n",
       "\n",
       "  MoSold YrSold  SaleType  SaleCondition  SalePrice  \n",
       "0      2   2008        WD         Normal     208500  \n",
       "1      5   2007        WD         Normal     181500  \n",
       "2      9   2008        WD         Normal     223500  \n",
       "3      2   2006        WD        Abnorml     140000  \n",
       "4     12   2008        WD         Normal     250000  \n",
       "\n",
       "[5 rows x 81 columns]"
      ]
     },
     "execution_count": 156,
     "metadata": {},
     "output_type": "execute_result"
    }
   ],
   "source": [
    "train.head()"
   ]
  },
  {
   "cell_type": "code",
   "execution_count": 157,
   "metadata": {},
   "outputs": [
    {
     "data": {
      "text/html": [
       "<div>\n",
       "<style scoped>\n",
       "    .dataframe tbody tr th:only-of-type {\n",
       "        vertical-align: middle;\n",
       "    }\n",
       "\n",
       "    .dataframe tbody tr th {\n",
       "        vertical-align: top;\n",
       "    }\n",
       "\n",
       "    .dataframe thead th {\n",
       "        text-align: right;\n",
       "    }\n",
       "</style>\n",
       "<table border=\"1\" class=\"dataframe\">\n",
       "  <thead>\n",
       "    <tr style=\"text-align: right;\">\n",
       "      <th></th>\n",
       "      <th>Id</th>\n",
       "      <th>MSSubClass</th>\n",
       "      <th>MSZoning</th>\n",
       "      <th>LotFrontage</th>\n",
       "      <th>LotArea</th>\n",
       "      <th>Street</th>\n",
       "      <th>Alley</th>\n",
       "      <th>LotShape</th>\n",
       "      <th>LandContour</th>\n",
       "      <th>Utilities</th>\n",
       "      <th>...</th>\n",
       "      <th>ScreenPorch</th>\n",
       "      <th>PoolArea</th>\n",
       "      <th>PoolQC</th>\n",
       "      <th>Fence</th>\n",
       "      <th>MiscFeature</th>\n",
       "      <th>MiscVal</th>\n",
       "      <th>MoSold</th>\n",
       "      <th>YrSold</th>\n",
       "      <th>SaleType</th>\n",
       "      <th>SaleCondition</th>\n",
       "    </tr>\n",
       "  </thead>\n",
       "  <tbody>\n",
       "    <tr>\n",
       "      <th>0</th>\n",
       "      <td>1461</td>\n",
       "      <td>20</td>\n",
       "      <td>RH</td>\n",
       "      <td>80.0</td>\n",
       "      <td>11622</td>\n",
       "      <td>Pave</td>\n",
       "      <td>NaN</td>\n",
       "      <td>Reg</td>\n",
       "      <td>Lvl</td>\n",
       "      <td>AllPub</td>\n",
       "      <td>...</td>\n",
       "      <td>120</td>\n",
       "      <td>0</td>\n",
       "      <td>NaN</td>\n",
       "      <td>MnPrv</td>\n",
       "      <td>NaN</td>\n",
       "      <td>0</td>\n",
       "      <td>6</td>\n",
       "      <td>2010</td>\n",
       "      <td>WD</td>\n",
       "      <td>Normal</td>\n",
       "    </tr>\n",
       "    <tr>\n",
       "      <th>1</th>\n",
       "      <td>1462</td>\n",
       "      <td>20</td>\n",
       "      <td>RL</td>\n",
       "      <td>81.0</td>\n",
       "      <td>14267</td>\n",
       "      <td>Pave</td>\n",
       "      <td>NaN</td>\n",
       "      <td>IR1</td>\n",
       "      <td>Lvl</td>\n",
       "      <td>AllPub</td>\n",
       "      <td>...</td>\n",
       "      <td>0</td>\n",
       "      <td>0</td>\n",
       "      <td>NaN</td>\n",
       "      <td>NaN</td>\n",
       "      <td>Gar2</td>\n",
       "      <td>12500</td>\n",
       "      <td>6</td>\n",
       "      <td>2010</td>\n",
       "      <td>WD</td>\n",
       "      <td>Normal</td>\n",
       "    </tr>\n",
       "    <tr>\n",
       "      <th>2</th>\n",
       "      <td>1463</td>\n",
       "      <td>60</td>\n",
       "      <td>RL</td>\n",
       "      <td>74.0</td>\n",
       "      <td>13830</td>\n",
       "      <td>Pave</td>\n",
       "      <td>NaN</td>\n",
       "      <td>IR1</td>\n",
       "      <td>Lvl</td>\n",
       "      <td>AllPub</td>\n",
       "      <td>...</td>\n",
       "      <td>0</td>\n",
       "      <td>0</td>\n",
       "      <td>NaN</td>\n",
       "      <td>MnPrv</td>\n",
       "      <td>NaN</td>\n",
       "      <td>0</td>\n",
       "      <td>3</td>\n",
       "      <td>2010</td>\n",
       "      <td>WD</td>\n",
       "      <td>Normal</td>\n",
       "    </tr>\n",
       "    <tr>\n",
       "      <th>3</th>\n",
       "      <td>1464</td>\n",
       "      <td>60</td>\n",
       "      <td>RL</td>\n",
       "      <td>78.0</td>\n",
       "      <td>9978</td>\n",
       "      <td>Pave</td>\n",
       "      <td>NaN</td>\n",
       "      <td>IR1</td>\n",
       "      <td>Lvl</td>\n",
       "      <td>AllPub</td>\n",
       "      <td>...</td>\n",
       "      <td>0</td>\n",
       "      <td>0</td>\n",
       "      <td>NaN</td>\n",
       "      <td>NaN</td>\n",
       "      <td>NaN</td>\n",
       "      <td>0</td>\n",
       "      <td>6</td>\n",
       "      <td>2010</td>\n",
       "      <td>WD</td>\n",
       "      <td>Normal</td>\n",
       "    </tr>\n",
       "    <tr>\n",
       "      <th>4</th>\n",
       "      <td>1465</td>\n",
       "      <td>120</td>\n",
       "      <td>RL</td>\n",
       "      <td>43.0</td>\n",
       "      <td>5005</td>\n",
       "      <td>Pave</td>\n",
       "      <td>NaN</td>\n",
       "      <td>IR1</td>\n",
       "      <td>HLS</td>\n",
       "      <td>AllPub</td>\n",
       "      <td>...</td>\n",
       "      <td>144</td>\n",
       "      <td>0</td>\n",
       "      <td>NaN</td>\n",
       "      <td>NaN</td>\n",
       "      <td>NaN</td>\n",
       "      <td>0</td>\n",
       "      <td>1</td>\n",
       "      <td>2010</td>\n",
       "      <td>WD</td>\n",
       "      <td>Normal</td>\n",
       "    </tr>\n",
       "  </tbody>\n",
       "</table>\n",
       "<p>5 rows × 80 columns</p>\n",
       "</div>"
      ],
      "text/plain": [
       "     Id  MSSubClass MSZoning  LotFrontage  LotArea Street Alley LotShape  \\\n",
       "0  1461          20       RH         80.0    11622   Pave   NaN      Reg   \n",
       "1  1462          20       RL         81.0    14267   Pave   NaN      IR1   \n",
       "2  1463          60       RL         74.0    13830   Pave   NaN      IR1   \n",
       "3  1464          60       RL         78.0     9978   Pave   NaN      IR1   \n",
       "4  1465         120       RL         43.0     5005   Pave   NaN      IR1   \n",
       "\n",
       "  LandContour Utilities      ...       ScreenPorch PoolArea PoolQC  Fence  \\\n",
       "0         Lvl    AllPub      ...               120        0    NaN  MnPrv   \n",
       "1         Lvl    AllPub      ...                 0        0    NaN    NaN   \n",
       "2         Lvl    AllPub      ...                 0        0    NaN  MnPrv   \n",
       "3         Lvl    AllPub      ...                 0        0    NaN    NaN   \n",
       "4         HLS    AllPub      ...               144        0    NaN    NaN   \n",
       "\n",
       "  MiscFeature MiscVal MoSold  YrSold  SaleType  SaleCondition  \n",
       "0         NaN       0      6    2010        WD         Normal  \n",
       "1        Gar2   12500      6    2010        WD         Normal  \n",
       "2         NaN       0      3    2010        WD         Normal  \n",
       "3         NaN       0      6    2010        WD         Normal  \n",
       "4         NaN       0      1    2010        WD         Normal  \n",
       "\n",
       "[5 rows x 80 columns]"
      ]
     },
     "execution_count": 157,
     "metadata": {},
     "output_type": "execute_result"
    }
   ],
   "source": [
    "test.head()"
   ]
  },
  {
   "cell_type": "code",
   "execution_count": 158,
   "metadata": {},
   "outputs": [
    {
     "data": {
      "text/html": [
       "<div>\n",
       "<style scoped>\n",
       "    .dataframe tbody tr th:only-of-type {\n",
       "        vertical-align: middle;\n",
       "    }\n",
       "\n",
       "    .dataframe tbody tr th {\n",
       "        vertical-align: top;\n",
       "    }\n",
       "\n",
       "    .dataframe thead th {\n",
       "        text-align: right;\n",
       "    }\n",
       "</style>\n",
       "<table border=\"1\" class=\"dataframe\">\n",
       "  <thead>\n",
       "    <tr style=\"text-align: right;\">\n",
       "      <th></th>\n",
       "      <th>Id</th>\n",
       "      <th>MSSubClass</th>\n",
       "      <th>LotFrontage</th>\n",
       "      <th>LotArea</th>\n",
       "      <th>OverallQual</th>\n",
       "      <th>OverallCond</th>\n",
       "      <th>YearBuilt</th>\n",
       "      <th>YearRemodAdd</th>\n",
       "      <th>MasVnrArea</th>\n",
       "      <th>BsmtFinSF1</th>\n",
       "      <th>...</th>\n",
       "      <th>WoodDeckSF</th>\n",
       "      <th>OpenPorchSF</th>\n",
       "      <th>EnclosedPorch</th>\n",
       "      <th>3SsnPorch</th>\n",
       "      <th>ScreenPorch</th>\n",
       "      <th>PoolArea</th>\n",
       "      <th>MiscVal</th>\n",
       "      <th>MoSold</th>\n",
       "      <th>YrSold</th>\n",
       "      <th>SalePrice</th>\n",
       "    </tr>\n",
       "  </thead>\n",
       "  <tbody>\n",
       "    <tr>\n",
       "      <th>count</th>\n",
       "      <td>1460.000000</td>\n",
       "      <td>1460.000000</td>\n",
       "      <td>1201.000000</td>\n",
       "      <td>1460.000000</td>\n",
       "      <td>1460.000000</td>\n",
       "      <td>1460.000000</td>\n",
       "      <td>1460.000000</td>\n",
       "      <td>1460.000000</td>\n",
       "      <td>1452.000000</td>\n",
       "      <td>1460.000000</td>\n",
       "      <td>...</td>\n",
       "      <td>1460.000000</td>\n",
       "      <td>1460.000000</td>\n",
       "      <td>1460.000000</td>\n",
       "      <td>1460.000000</td>\n",
       "      <td>1460.000000</td>\n",
       "      <td>1460.000000</td>\n",
       "      <td>1460.000000</td>\n",
       "      <td>1460.000000</td>\n",
       "      <td>1460.000000</td>\n",
       "      <td>1460.000000</td>\n",
       "    </tr>\n",
       "    <tr>\n",
       "      <th>mean</th>\n",
       "      <td>730.500000</td>\n",
       "      <td>56.897260</td>\n",
       "      <td>70.049958</td>\n",
       "      <td>10516.828082</td>\n",
       "      <td>6.099315</td>\n",
       "      <td>5.575342</td>\n",
       "      <td>1971.267808</td>\n",
       "      <td>1984.865753</td>\n",
       "      <td>103.685262</td>\n",
       "      <td>443.639726</td>\n",
       "      <td>...</td>\n",
       "      <td>94.244521</td>\n",
       "      <td>46.660274</td>\n",
       "      <td>21.954110</td>\n",
       "      <td>3.409589</td>\n",
       "      <td>15.060959</td>\n",
       "      <td>2.758904</td>\n",
       "      <td>43.489041</td>\n",
       "      <td>6.321918</td>\n",
       "      <td>2007.815753</td>\n",
       "      <td>180921.195890</td>\n",
       "    </tr>\n",
       "    <tr>\n",
       "      <th>std</th>\n",
       "      <td>421.610009</td>\n",
       "      <td>42.300571</td>\n",
       "      <td>24.284752</td>\n",
       "      <td>9981.264932</td>\n",
       "      <td>1.382997</td>\n",
       "      <td>1.112799</td>\n",
       "      <td>30.202904</td>\n",
       "      <td>20.645407</td>\n",
       "      <td>181.066207</td>\n",
       "      <td>456.098091</td>\n",
       "      <td>...</td>\n",
       "      <td>125.338794</td>\n",
       "      <td>66.256028</td>\n",
       "      <td>61.119149</td>\n",
       "      <td>29.317331</td>\n",
       "      <td>55.757415</td>\n",
       "      <td>40.177307</td>\n",
       "      <td>496.123024</td>\n",
       "      <td>2.703626</td>\n",
       "      <td>1.328095</td>\n",
       "      <td>79442.502883</td>\n",
       "    </tr>\n",
       "    <tr>\n",
       "      <th>min</th>\n",
       "      <td>1.000000</td>\n",
       "      <td>20.000000</td>\n",
       "      <td>21.000000</td>\n",
       "      <td>1300.000000</td>\n",
       "      <td>1.000000</td>\n",
       "      <td>1.000000</td>\n",
       "      <td>1872.000000</td>\n",
       "      <td>1950.000000</td>\n",
       "      <td>0.000000</td>\n",
       "      <td>0.000000</td>\n",
       "      <td>...</td>\n",
       "      <td>0.000000</td>\n",
       "      <td>0.000000</td>\n",
       "      <td>0.000000</td>\n",
       "      <td>0.000000</td>\n",
       "      <td>0.000000</td>\n",
       "      <td>0.000000</td>\n",
       "      <td>0.000000</td>\n",
       "      <td>1.000000</td>\n",
       "      <td>2006.000000</td>\n",
       "      <td>34900.000000</td>\n",
       "    </tr>\n",
       "    <tr>\n",
       "      <th>25%</th>\n",
       "      <td>365.750000</td>\n",
       "      <td>20.000000</td>\n",
       "      <td>59.000000</td>\n",
       "      <td>7553.500000</td>\n",
       "      <td>5.000000</td>\n",
       "      <td>5.000000</td>\n",
       "      <td>1954.000000</td>\n",
       "      <td>1967.000000</td>\n",
       "      <td>0.000000</td>\n",
       "      <td>0.000000</td>\n",
       "      <td>...</td>\n",
       "      <td>0.000000</td>\n",
       "      <td>0.000000</td>\n",
       "      <td>0.000000</td>\n",
       "      <td>0.000000</td>\n",
       "      <td>0.000000</td>\n",
       "      <td>0.000000</td>\n",
       "      <td>0.000000</td>\n",
       "      <td>5.000000</td>\n",
       "      <td>2007.000000</td>\n",
       "      <td>129975.000000</td>\n",
       "    </tr>\n",
       "    <tr>\n",
       "      <th>50%</th>\n",
       "      <td>730.500000</td>\n",
       "      <td>50.000000</td>\n",
       "      <td>69.000000</td>\n",
       "      <td>9478.500000</td>\n",
       "      <td>6.000000</td>\n",
       "      <td>5.000000</td>\n",
       "      <td>1973.000000</td>\n",
       "      <td>1994.000000</td>\n",
       "      <td>0.000000</td>\n",
       "      <td>383.500000</td>\n",
       "      <td>...</td>\n",
       "      <td>0.000000</td>\n",
       "      <td>25.000000</td>\n",
       "      <td>0.000000</td>\n",
       "      <td>0.000000</td>\n",
       "      <td>0.000000</td>\n",
       "      <td>0.000000</td>\n",
       "      <td>0.000000</td>\n",
       "      <td>6.000000</td>\n",
       "      <td>2008.000000</td>\n",
       "      <td>163000.000000</td>\n",
       "    </tr>\n",
       "    <tr>\n",
       "      <th>75%</th>\n",
       "      <td>1095.250000</td>\n",
       "      <td>70.000000</td>\n",
       "      <td>80.000000</td>\n",
       "      <td>11601.500000</td>\n",
       "      <td>7.000000</td>\n",
       "      <td>6.000000</td>\n",
       "      <td>2000.000000</td>\n",
       "      <td>2004.000000</td>\n",
       "      <td>166.000000</td>\n",
       "      <td>712.250000</td>\n",
       "      <td>...</td>\n",
       "      <td>168.000000</td>\n",
       "      <td>68.000000</td>\n",
       "      <td>0.000000</td>\n",
       "      <td>0.000000</td>\n",
       "      <td>0.000000</td>\n",
       "      <td>0.000000</td>\n",
       "      <td>0.000000</td>\n",
       "      <td>8.000000</td>\n",
       "      <td>2009.000000</td>\n",
       "      <td>214000.000000</td>\n",
       "    </tr>\n",
       "    <tr>\n",
       "      <th>max</th>\n",
       "      <td>1460.000000</td>\n",
       "      <td>190.000000</td>\n",
       "      <td>313.000000</td>\n",
       "      <td>215245.000000</td>\n",
       "      <td>10.000000</td>\n",
       "      <td>9.000000</td>\n",
       "      <td>2010.000000</td>\n",
       "      <td>2010.000000</td>\n",
       "      <td>1600.000000</td>\n",
       "      <td>5644.000000</td>\n",
       "      <td>...</td>\n",
       "      <td>857.000000</td>\n",
       "      <td>547.000000</td>\n",
       "      <td>552.000000</td>\n",
       "      <td>508.000000</td>\n",
       "      <td>480.000000</td>\n",
       "      <td>738.000000</td>\n",
       "      <td>15500.000000</td>\n",
       "      <td>12.000000</td>\n",
       "      <td>2010.000000</td>\n",
       "      <td>755000.000000</td>\n",
       "    </tr>\n",
       "  </tbody>\n",
       "</table>\n",
       "<p>8 rows × 38 columns</p>\n",
       "</div>"
      ],
      "text/plain": [
       "                Id   MSSubClass  LotFrontage        LotArea  OverallQual  \\\n",
       "count  1460.000000  1460.000000  1201.000000    1460.000000  1460.000000   \n",
       "mean    730.500000    56.897260    70.049958   10516.828082     6.099315   \n",
       "std     421.610009    42.300571    24.284752    9981.264932     1.382997   \n",
       "min       1.000000    20.000000    21.000000    1300.000000     1.000000   \n",
       "25%     365.750000    20.000000    59.000000    7553.500000     5.000000   \n",
       "50%     730.500000    50.000000    69.000000    9478.500000     6.000000   \n",
       "75%    1095.250000    70.000000    80.000000   11601.500000     7.000000   \n",
       "max    1460.000000   190.000000   313.000000  215245.000000    10.000000   \n",
       "\n",
       "       OverallCond    YearBuilt  YearRemodAdd   MasVnrArea   BsmtFinSF1  \\\n",
       "count  1460.000000  1460.000000   1460.000000  1452.000000  1460.000000   \n",
       "mean      5.575342  1971.267808   1984.865753   103.685262   443.639726   \n",
       "std       1.112799    30.202904     20.645407   181.066207   456.098091   \n",
       "min       1.000000  1872.000000   1950.000000     0.000000     0.000000   \n",
       "25%       5.000000  1954.000000   1967.000000     0.000000     0.000000   \n",
       "50%       5.000000  1973.000000   1994.000000     0.000000   383.500000   \n",
       "75%       6.000000  2000.000000   2004.000000   166.000000   712.250000   \n",
       "max       9.000000  2010.000000   2010.000000  1600.000000  5644.000000   \n",
       "\n",
       "           ...         WoodDeckSF  OpenPorchSF  EnclosedPorch    3SsnPorch  \\\n",
       "count      ...        1460.000000  1460.000000    1460.000000  1460.000000   \n",
       "mean       ...          94.244521    46.660274      21.954110     3.409589   \n",
       "std        ...         125.338794    66.256028      61.119149    29.317331   \n",
       "min        ...           0.000000     0.000000       0.000000     0.000000   \n",
       "25%        ...           0.000000     0.000000       0.000000     0.000000   \n",
       "50%        ...           0.000000    25.000000       0.000000     0.000000   \n",
       "75%        ...         168.000000    68.000000       0.000000     0.000000   \n",
       "max        ...         857.000000   547.000000     552.000000   508.000000   \n",
       "\n",
       "       ScreenPorch     PoolArea       MiscVal       MoSold       YrSold  \\\n",
       "count  1460.000000  1460.000000   1460.000000  1460.000000  1460.000000   \n",
       "mean     15.060959     2.758904     43.489041     6.321918  2007.815753   \n",
       "std      55.757415    40.177307    496.123024     2.703626     1.328095   \n",
       "min       0.000000     0.000000      0.000000     1.000000  2006.000000   \n",
       "25%       0.000000     0.000000      0.000000     5.000000  2007.000000   \n",
       "50%       0.000000     0.000000      0.000000     6.000000  2008.000000   \n",
       "75%       0.000000     0.000000      0.000000     8.000000  2009.000000   \n",
       "max     480.000000   738.000000  15500.000000    12.000000  2010.000000   \n",
       "\n",
       "           SalePrice  \n",
       "count    1460.000000  \n",
       "mean   180921.195890  \n",
       "std     79442.502883  \n",
       "min     34900.000000  \n",
       "25%    129975.000000  \n",
       "50%    163000.000000  \n",
       "75%    214000.000000  \n",
       "max    755000.000000  \n",
       "\n",
       "[8 rows x 38 columns]"
      ]
     },
     "execution_count": 158,
     "metadata": {},
     "output_type": "execute_result"
    }
   ],
   "source": [
    "train.describe()"
   ]
  },
  {
   "cell_type": "code",
   "execution_count": 159,
   "metadata": {},
   "outputs": [
    {
     "name": "stdout",
     "output_type": "stream",
     "text": [
      "<class 'pandas.core.frame.DataFrame'>\n",
      "RangeIndex: 1460 entries, 0 to 1459\n",
      "Data columns (total 81 columns):\n",
      "Id               1460 non-null int64\n",
      "MSSubClass       1460 non-null int64\n",
      "MSZoning         1460 non-null object\n",
      "LotFrontage      1201 non-null float64\n",
      "LotArea          1460 non-null int64\n",
      "Street           1460 non-null object\n",
      "Alley            91 non-null object\n",
      "LotShape         1460 non-null object\n",
      "LandContour      1460 non-null object\n",
      "Utilities        1460 non-null object\n",
      "LotConfig        1460 non-null object\n",
      "LandSlope        1460 non-null object\n",
      "Neighborhood     1460 non-null object\n",
      "Condition1       1460 non-null object\n",
      "Condition2       1460 non-null object\n",
      "BldgType         1460 non-null object\n",
      "HouseStyle       1460 non-null object\n",
      "OverallQual      1460 non-null int64\n",
      "OverallCond      1460 non-null int64\n",
      "YearBuilt        1460 non-null int64\n",
      "YearRemodAdd     1460 non-null int64\n",
      "RoofStyle        1460 non-null object\n",
      "RoofMatl         1460 non-null object\n",
      "Exterior1st      1460 non-null object\n",
      "Exterior2nd      1460 non-null object\n",
      "MasVnrType       1452 non-null object\n",
      "MasVnrArea       1452 non-null float64\n",
      "ExterQual        1460 non-null object\n",
      "ExterCond        1460 non-null object\n",
      "Foundation       1460 non-null object\n",
      "BsmtQual         1423 non-null object\n",
      "BsmtCond         1423 non-null object\n",
      "BsmtExposure     1422 non-null object\n",
      "BsmtFinType1     1423 non-null object\n",
      "BsmtFinSF1       1460 non-null int64\n",
      "BsmtFinType2     1422 non-null object\n",
      "BsmtFinSF2       1460 non-null int64\n",
      "BsmtUnfSF        1460 non-null int64\n",
      "TotalBsmtSF      1460 non-null int64\n",
      "Heating          1460 non-null object\n",
      "HeatingQC        1460 non-null object\n",
      "CentralAir       1460 non-null object\n",
      "Electrical       1459 non-null object\n",
      "1stFlrSF         1460 non-null int64\n",
      "2ndFlrSF         1460 non-null int64\n",
      "LowQualFinSF     1460 non-null int64\n",
      "GrLivArea        1460 non-null int64\n",
      "BsmtFullBath     1460 non-null int64\n",
      "BsmtHalfBath     1460 non-null int64\n",
      "FullBath         1460 non-null int64\n",
      "HalfBath         1460 non-null int64\n",
      "BedroomAbvGr     1460 non-null int64\n",
      "KitchenAbvGr     1460 non-null int64\n",
      "KitchenQual      1460 non-null object\n",
      "TotRmsAbvGrd     1460 non-null int64\n",
      "Functional       1460 non-null object\n",
      "Fireplaces       1460 non-null int64\n",
      "FireplaceQu      770 non-null object\n",
      "GarageType       1379 non-null object\n",
      "GarageYrBlt      1379 non-null float64\n",
      "GarageFinish     1379 non-null object\n",
      "GarageCars       1460 non-null int64\n",
      "GarageArea       1460 non-null int64\n",
      "GarageQual       1379 non-null object\n",
      "GarageCond       1379 non-null object\n",
      "PavedDrive       1460 non-null object\n",
      "WoodDeckSF       1460 non-null int64\n",
      "OpenPorchSF      1460 non-null int64\n",
      "EnclosedPorch    1460 non-null int64\n",
      "3SsnPorch        1460 non-null int64\n",
      "ScreenPorch      1460 non-null int64\n",
      "PoolArea         1460 non-null int64\n",
      "PoolQC           7 non-null object\n",
      "Fence            281 non-null object\n",
      "MiscFeature      54 non-null object\n",
      "MiscVal          1460 non-null int64\n",
      "MoSold           1460 non-null int64\n",
      "YrSold           1460 non-null int64\n",
      "SaleType         1460 non-null object\n",
      "SaleCondition    1460 non-null object\n",
      "SalePrice        1460 non-null int64\n",
      "dtypes: float64(3), int64(35), object(43)\n",
      "memory usage: 924.0+ KB\n"
     ]
    }
   ],
   "source": [
    "train.info()"
   ]
  },
  {
   "cell_type": "code",
   "execution_count": 160,
   "metadata": {},
   "outputs": [
    {
     "name": "stdout",
     "output_type": "stream",
     "text": [
      "<class 'pandas.core.frame.DataFrame'>\n",
      "RangeIndex: 1459 entries, 0 to 1458\n",
      "Data columns (total 80 columns):\n",
      "Id               1459 non-null int64\n",
      "MSSubClass       1459 non-null int64\n",
      "MSZoning         1455 non-null object\n",
      "LotFrontage      1232 non-null float64\n",
      "LotArea          1459 non-null int64\n",
      "Street           1459 non-null object\n",
      "Alley            107 non-null object\n",
      "LotShape         1459 non-null object\n",
      "LandContour      1459 non-null object\n",
      "Utilities        1457 non-null object\n",
      "LotConfig        1459 non-null object\n",
      "LandSlope        1459 non-null object\n",
      "Neighborhood     1459 non-null object\n",
      "Condition1       1459 non-null object\n",
      "Condition2       1459 non-null object\n",
      "BldgType         1459 non-null object\n",
      "HouseStyle       1459 non-null object\n",
      "OverallQual      1459 non-null int64\n",
      "OverallCond      1459 non-null int64\n",
      "YearBuilt        1459 non-null int64\n",
      "YearRemodAdd     1459 non-null int64\n",
      "RoofStyle        1459 non-null object\n",
      "RoofMatl         1459 non-null object\n",
      "Exterior1st      1458 non-null object\n",
      "Exterior2nd      1458 non-null object\n",
      "MasVnrType       1443 non-null object\n",
      "MasVnrArea       1444 non-null float64\n",
      "ExterQual        1459 non-null object\n",
      "ExterCond        1459 non-null object\n",
      "Foundation       1459 non-null object\n",
      "BsmtQual         1415 non-null object\n",
      "BsmtCond         1414 non-null object\n",
      "BsmtExposure     1415 non-null object\n",
      "BsmtFinType1     1417 non-null object\n",
      "BsmtFinSF1       1458 non-null float64\n",
      "BsmtFinType2     1417 non-null object\n",
      "BsmtFinSF2       1458 non-null float64\n",
      "BsmtUnfSF        1458 non-null float64\n",
      "TotalBsmtSF      1458 non-null float64\n",
      "Heating          1459 non-null object\n",
      "HeatingQC        1459 non-null object\n",
      "CentralAir       1459 non-null object\n",
      "Electrical       1459 non-null object\n",
      "1stFlrSF         1459 non-null int64\n",
      "2ndFlrSF         1459 non-null int64\n",
      "LowQualFinSF     1459 non-null int64\n",
      "GrLivArea        1459 non-null int64\n",
      "BsmtFullBath     1457 non-null float64\n",
      "BsmtHalfBath     1457 non-null float64\n",
      "FullBath         1459 non-null int64\n",
      "HalfBath         1459 non-null int64\n",
      "BedroomAbvGr     1459 non-null int64\n",
      "KitchenAbvGr     1459 non-null int64\n",
      "KitchenQual      1458 non-null object\n",
      "TotRmsAbvGrd     1459 non-null int64\n",
      "Functional       1457 non-null object\n",
      "Fireplaces       1459 non-null int64\n",
      "FireplaceQu      729 non-null object\n",
      "GarageType       1383 non-null object\n",
      "GarageYrBlt      1381 non-null float64\n",
      "GarageFinish     1381 non-null object\n",
      "GarageCars       1458 non-null float64\n",
      "GarageArea       1458 non-null float64\n",
      "GarageQual       1381 non-null object\n",
      "GarageCond       1381 non-null object\n",
      "PavedDrive       1459 non-null object\n",
      "WoodDeckSF       1459 non-null int64\n",
      "OpenPorchSF      1459 non-null int64\n",
      "EnclosedPorch    1459 non-null int64\n",
      "3SsnPorch        1459 non-null int64\n",
      "ScreenPorch      1459 non-null int64\n",
      "PoolArea         1459 non-null int64\n",
      "PoolQC           3 non-null object\n",
      "Fence            290 non-null object\n",
      "MiscFeature      51 non-null object\n",
      "MiscVal          1459 non-null int64\n",
      "MoSold           1459 non-null int64\n",
      "YrSold           1459 non-null int64\n",
      "SaleType         1458 non-null object\n",
      "SaleCondition    1459 non-null object\n",
      "dtypes: float64(11), int64(26), object(43)\n",
      "memory usage: 912.0+ KB\n"
     ]
    }
   ],
   "source": [
    "test.info()"
   ]
  },
  {
   "cell_type": "markdown",
   "metadata": {},
   "source": [
    "## Data Manipulation and Visualization\n",
    "Lets check for NaN (null) values in the data"
   ]
  },
  {
   "cell_type": "code",
   "execution_count": 161,
   "metadata": {},
   "outputs": [
    {
     "data": {
      "text/plain": [
       "Id                  0\n",
       "MSSubClass          0\n",
       "MSZoning            0\n",
       "LotFrontage       259\n",
       "LotArea             0\n",
       "Street              0\n",
       "Alley            1369\n",
       "LotShape            0\n",
       "LandContour         0\n",
       "Utilities           0\n",
       "LotConfig           0\n",
       "LandSlope           0\n",
       "Neighborhood        0\n",
       "Condition1          0\n",
       "Condition2          0\n",
       "BldgType            0\n",
       "HouseStyle          0\n",
       "OverallQual         0\n",
       "OverallCond         0\n",
       "YearBuilt           0\n",
       "YearRemodAdd        0\n",
       "RoofStyle           0\n",
       "RoofMatl            0\n",
       "Exterior1st         0\n",
       "Exterior2nd         0\n",
       "MasVnrType          8\n",
       "MasVnrArea          8\n",
       "ExterQual           0\n",
       "ExterCond           0\n",
       "Foundation          0\n",
       "                 ... \n",
       "BedroomAbvGr        0\n",
       "KitchenAbvGr        0\n",
       "KitchenQual         0\n",
       "TotRmsAbvGrd        0\n",
       "Functional          0\n",
       "Fireplaces          0\n",
       "FireplaceQu       690\n",
       "GarageType         81\n",
       "GarageYrBlt        81\n",
       "GarageFinish       81\n",
       "GarageCars          0\n",
       "GarageArea          0\n",
       "GarageQual         81\n",
       "GarageCond         81\n",
       "PavedDrive          0\n",
       "WoodDeckSF          0\n",
       "OpenPorchSF         0\n",
       "EnclosedPorch       0\n",
       "3SsnPorch           0\n",
       "ScreenPorch         0\n",
       "PoolArea            0\n",
       "PoolQC           1453\n",
       "Fence            1179\n",
       "MiscFeature      1406\n",
       "MiscVal             0\n",
       "MoSold              0\n",
       "YrSold              0\n",
       "SaleType            0\n",
       "SaleCondition       0\n",
       "SalePrice           0\n",
       "Length: 81, dtype: int64"
      ]
     },
     "execution_count": 161,
     "metadata": {},
     "output_type": "execute_result"
    }
   ],
   "source": [
    "train.isnull().sum()"
   ]
  },
  {
   "cell_type": "code",
   "execution_count": 162,
   "metadata": {},
   "outputs": [
    {
     "data": {
      "text/plain": [
       "Id                  0\n",
       "MSSubClass          0\n",
       "MSZoning            4\n",
       "LotFrontage       227\n",
       "LotArea             0\n",
       "Street              0\n",
       "Alley            1352\n",
       "LotShape            0\n",
       "LandContour         0\n",
       "Utilities           2\n",
       "LotConfig           0\n",
       "LandSlope           0\n",
       "Neighborhood        0\n",
       "Condition1          0\n",
       "Condition2          0\n",
       "BldgType            0\n",
       "HouseStyle          0\n",
       "OverallQual         0\n",
       "OverallCond         0\n",
       "YearBuilt           0\n",
       "YearRemodAdd        0\n",
       "RoofStyle           0\n",
       "RoofMatl            0\n",
       "Exterior1st         1\n",
       "Exterior2nd         1\n",
       "MasVnrType         16\n",
       "MasVnrArea         15\n",
       "ExterQual           0\n",
       "ExterCond           0\n",
       "Foundation          0\n",
       "                 ... \n",
       "HalfBath            0\n",
       "BedroomAbvGr        0\n",
       "KitchenAbvGr        0\n",
       "KitchenQual         1\n",
       "TotRmsAbvGrd        0\n",
       "Functional          2\n",
       "Fireplaces          0\n",
       "FireplaceQu       730\n",
       "GarageType         76\n",
       "GarageYrBlt        78\n",
       "GarageFinish       78\n",
       "GarageCars          1\n",
       "GarageArea          1\n",
       "GarageQual         78\n",
       "GarageCond         78\n",
       "PavedDrive          0\n",
       "WoodDeckSF          0\n",
       "OpenPorchSF         0\n",
       "EnclosedPorch       0\n",
       "3SsnPorch           0\n",
       "ScreenPorch         0\n",
       "PoolArea            0\n",
       "PoolQC           1456\n",
       "Fence            1169\n",
       "MiscFeature      1408\n",
       "MiscVal             0\n",
       "MoSold              0\n",
       "YrSold              0\n",
       "SaleType            1\n",
       "SaleCondition       0\n",
       "Length: 80, dtype: int64"
      ]
     },
     "execution_count": 162,
     "metadata": {},
     "output_type": "execute_result"
    }
   ],
   "source": [
    "test.isnull().sum()"
   ]
  },
  {
   "cell_type": "markdown",
   "metadata": {},
   "source": [
    "Lets check for the mean, standard deviation for Sales price"
   ]
  },
  {
   "cell_type": "code",
   "execution_count": 163,
   "metadata": {},
   "outputs": [
    {
     "data": {
      "text/plain": [
       "count      1460.000000\n",
       "mean     180921.195890\n",
       "std       79442.502883\n",
       "min       34900.000000\n",
       "25%      129975.000000\n",
       "50%      163000.000000\n",
       "75%      214000.000000\n",
       "max      755000.000000\n",
       "Name: SalePrice, dtype: float64"
      ]
     },
     "execution_count": 163,
     "metadata": {},
     "output_type": "execute_result"
    }
   ],
   "source": [
    "train['SalePrice'].describe()"
   ]
  },
  {
   "cell_type": "code",
   "execution_count": 164,
   "metadata": {},
   "outputs": [
    {
     "name": "stdout",
     "output_type": "stream",
     "text": [
      "Skew is: 1.8828757597682129\n"
     ]
    }
   ],
   "source": [
    "# Determining the Skewness of data \n",
    "print (\"Skew is:\", train.SalePrice.skew())"
   ]
  },
  {
   "cell_type": "code",
   "execution_count": 165,
   "metadata": {},
   "outputs": [
    {
     "data": {
      "image/png": "iVBORw0KGgoAAAANSUhEUgAAAXoAAAD8CAYAAAB5Pm/hAAAABHNCSVQICAgIfAhkiAAAAAlwSFlzAAALEgAACxIB0t1+/AAAADl0RVh0U29mdHdhcmUAbWF0cGxvdGxpYiB2ZXJzaW9uIDIuMi4zLCBodHRwOi8vbWF0cGxvdGxpYi5vcmcvIxREBQAAExhJREFUeJzt3V+MXOV5x/HvU4whIQk2sCDLdrqgWDRcNOCsqBFVlOIkxSbCXIBkFNUWdbVVS6ugVEpNI7WK1AvoRUhRKxIrJDVVQiAk1BbQEMuAqlbCyfInDsRQL9TBKzv28s8kQWlK8vRi3sXDenZndj3jGb/6fqTROec575zzrGf82+Mz54wjM5Ek1eu3+t2AJKm3DHpJqpxBL0mVM+glqXIGvSRVzqCXpMoZ9JJUOYNekipn0EtS5Rb0uwGAc845J4eHh/vdhiSdVJ544omXM3Oo3biBCPrh4WHGxsb63YYknVQi4iedjPPUjSRVzqCXpMoZ9JJUOYNekipn0EtS5Qx6SaqcQS9JlTPoJalyBr0kVW4g7ow9WQ1vfrAv+913y1V92a+kk5NH9JJUOYNekirXNugj4sKIeLrp8UZE3BQRZ0XEjojYW6aLy/iIiNsjYjwidkfEyt7/GJKkmbQN+sx8PjMvzsyLgQ8DbwL3A5uBnZm5AthZlgHWACvKYxS4oxeNS5I6M9dTN6uBFzLzJ8A6YGupbwWuKfPrgLuy4XFgUUQs6Uq3kqQ5m2vQrwfuLvPnZeZBgDI9t9SXAvubnjNRau8QEaMRMRYRY5OTk3NsQ5LUqY6DPiIWAlcD32o3tEUtjylkbsnMkcwcGRpq+x+kSJLmaS5H9GuAJzPzUFk+NHVKpkwPl/oEsLzpecuAA8fbqCRpfuYS9Ndz9LQNwHZgY5nfCGxrqm8oV9+sAo5MneKRJJ14Hd0ZGxHvBj4O/GlT+Rbg3ojYBLwEXFfqDwFrgXEaV+jc0LVuJUlz1lHQZ+abwNnTaq/QuApn+tgEbuxKd5Kk4+adsZJUOYNekipn0EtS5Qx6SaqcQS9JlTPoJalyBr0kVc6gl6TKGfSSVDmDXpIqZ9BLUuUMekmqnEEvSZUz6CWpcga9JFXOoJekyhn0klQ5g16SKmfQS1LlOgr6iFgUEfdFxHMRsSciLouIsyJiR0TsLdPFZWxExO0RMR4RuyNiZW9/BEnSbDo9ov9H4LuZ+TvAh4A9wGZgZ2auAHaWZYA1wIryGAXu6GrHkqQ5aRv0EfE+4CPAnQCZ+avMfB1YB2wtw7YC15T5dcBd2fA4sCgilnS9c0lSRzo5or8AmAS+FhFPRcRXIuIM4LzMPAhQpueW8UuB/U3Pnyg1SVIfdBL0C4CVwB2ZeQnwC46epmklWtTymEERoxExFhFjk5OTHTUrSZq7ToJ+ApjIzF1l+T4awX9o6pRMmR5uGr+86fnLgAPTN5qZWzJzJDNHhoaG5tu/JKmNtkGfmT8F9kfEhaW0GvgxsB3YWGobgW1lfjuwoVx9swo4MnWKR5J04i3ocNxfAl+PiIXAi8ANNH5J3BsRm4CXgOvK2IeAtcA48GYZK0nqk46CPjOfBkZarFrdYmwCNx5nX5KkLvHOWEmqnEEvSZUz6CWpcga9JFXOoJekyhn0klQ5g16SKmfQS1LlDHpJqpxBL0mVM+glqXIGvSRVzqCXpMoZ9JJUOYNekipn0EtS5Qx6SaqcQS9JlTPoJalyBr0kVa6joI+IfRHxo4h4OiLGSu2siNgREXvLdHGpR0TcHhHjEbE7Ilb28geQJM1uLkf0f5CZF2fmSFneDOzMzBXAzrIMsAZYUR6jwB3dalaSNHfHc+pmHbC1zG8Frmmq35UNjwOLImLJcexHknQcOg36BL4XEU9ExGipnZeZBwHK9NxSXwrsb3ruRKlJkvpgQYfjLs/MAxFxLrAjIp6bZWy0qOUxgxq/MEYB3v/+93fYhiRprjo6os/MA2V6GLgfuBQ4NHVKpkwPl+ETwPKmpy8DDrTY5pbMHMnMkaGhofn/BJKkWbUN+og4IyLeOzUPfAJ4BtgObCzDNgLbyvx2YEO5+mYVcGTqFI8k6cTr5NTNecD9ETE1/huZ+d2I+AFwb0RsAl4CrivjHwLWAuPAm8ANXe9aktSxtkGfmS8CH2pRfwVY3aKewI1d6U6SdNy8M1aSKmfQS1LlDHpJqpxBL0mVM+glqXIGvSRVzqCXpMoZ9JJUOYNekipn0EtS5Qx6SaqcQS9JlTPoJalyBr0kVc6gl6TKGfSSVDmDXpIqZ9BLUuUMekmqnEEvSZXrOOgj4pSIeCoiHijL50fErojYGxH3RMTCUj+tLI+X9cO9aV2S1Im5HNF/GtjTtHwrcFtmrgBeAzaV+ibgtcz8AHBbGSdJ6pOOgj4ilgFXAV8pywFcAdxXhmwFrinz68oyZf3qMl6S1AedHtF/Efgs8JuyfDbwema+VZYngKVlfimwH6CsP1LGv0NEjEbEWESMTU5OzrN9SVI7bYM+Ij4JHM7MJ5rLLYZmB+uOFjK3ZOZIZo4MDQ111Kwkae4WdDDmcuDqiFgLnA68j8YR/qKIWFCO2pcBB8r4CWA5MBERC4AzgVe73rkkqSNtj+gz8+bMXJaZw8B64JHM/BTwKHBtGbYR2Fbmt5dlyvpHMvOYI3pJ0olxPNfR/zXwmYgYp3EO/s5SvxM4u9Q/A2w+vhYlScejk1M3b8vMx4DHyvyLwKUtxvwSuK4LvUmSusA7YyWpcga9JFVuTqduNBiGNz/Yt33vu+Wqvu1b0vx4RC9JlTPoJalyBr0kVc6gl6TKGfSSVDmDXpIqZ9BLUuUMekmqnEEvSZUz6CWpcga9JFXOoJekyhn0klQ5g16SKmfQS1LlDHpJqlzboI+I0yPi+xHxw4h4NiI+X+rnR8SuiNgbEfdExMJSP60sj5f1w739ESRJs+nkiP5/gSsy80PAxcCVEbEKuBW4LTNXAK8Bm8r4TcBrmfkB4LYyTpLUJ22DPht+XhZPLY8ErgDuK/WtwDVlfl1ZpqxfHRHRtY4lSXPS0Tn6iDglIp4GDgM7gBeA1zPzrTJkAlha5pcC+wHK+iPA2d1sWpLUuY6CPjN/nZkXA8uAS4EPthpWpq2O3nN6ISJGI2IsIsYmJyc77VeSNEdzuuomM18HHgNWAYsiYkFZtQw4UOYngOUAZf2ZwKsttrUlM0cyc2RoaGh+3UuS2urkqpuhiFhU5t8FfAzYAzwKXFuGbQS2lfntZZmy/pHMPOaIXpJ0YixoP4QlwNaIOIXGL4Z7M/OBiPgx8M2I+HvgKeDOMv5O4F8jYpzGkfz6HvQtSepQ26DPzN3AJS3qL9I4Xz+9/kvguq50J0k6bt4ZK0mVM+glqXIGvSRVzqCXpMoZ9JJUOYNekipn0EtS5Qx6SaqcQS9JlTPoJalyBr0kVc6gl6TKGfSSVDmDXpIqZ9BLUuUMekmqnEEvSZUz6CWpcga9JFXOoJekyrUN+ohYHhGPRsSeiHg2Ij5d6mdFxI6I2Fumi0s9IuL2iBiPiN0RsbLXP4QkaWadHNG/BfxVZn4QWAXcGBEXAZuBnZm5AthZlgHWACvKYxS4o+tdS5I61jboM/NgZj5Z5n8G7AGWAuuArWXYVuCaMr8OuCsbHgcWRcSSrncuSerInM7RR8QwcAmwCzgvMw9C45cBcG4ZthTY3/S0iVKTJPVBx0EfEe8Bvg3clJlvzDa0RS1bbG80IsYiYmxycrLTNiRJc9RR0EfEqTRC/uuZ+Z1SPjR1SqZMD5f6BLC86enLgAPTt5mZWzJzJDNHhoaG5tu/JKmNTq66CeBOYE9mfqFp1XZgY5nfCGxrqm8oV9+sAo5MneKRJJ14CzoYcznwR8CPIuLpUvsb4Bbg3ojYBLwEXFfWPQSsBcaBN4EbutqxJGlO2gZ9Zv4nrc+7A6xuMT6BG4+zL0lSl3hnrCRVzqCXpMoZ9JJUOYNekipn0EtS5Qx6SaqcQS9JlTPoJalyBr0kVa6Tr0AYaMObH+x3C5I00Dyil6TKGfSSVDmDXpIqd9Kfo9eJ1a/PRPbdclVf9ivVwCN6SaqcQS9JlTPoJalyBr0kVc6gl6TKtQ36iPhqRByOiGeaamdFxI6I2Fumi0s9IuL2iBiPiN0RsbKXzUuS2uvkiP5fgCun1TYDOzNzBbCzLAOsAVaUxyhwR3falCTNV9ugz8z/AF6dVl4HbC3zW4Frmup3ZcPjwKKIWNKtZiVJczffc/TnZeZBgDI9t9SXAvubxk2UmiSpT7r9YWy0qGXLgRGjETEWEWOTk5NdbkOSNGW+QX9o6pRMmR4u9QlgedO4ZcCBVhvIzC2ZOZKZI0NDQ/NsQ5LUznyDfjuwscxvBLY11TeUq29WAUemTvFIkvqj7ZeaRcTdwEeBcyJiAvg74Bbg3ojYBLwEXFeGPwSsBcaBN4EbetCzJGkO2gZ9Zl4/w6rVLcYmcOPxNiVJ6h7vjJWkyhn0klQ5g16SKmfQS1LlDHpJqpxBL0mVM+glqXIGvSRVzqCXpMq1vTNWGgTDmx/sy3733XJVX/YrdZNH9JJUOYNekipn0EtS5Qx6SaqcQS9JlTPoJalyBr0kVc6gl6TKecOUNIt+3agF3qyl7vGIXpIq15Ogj4grI+L5iBiPiM292IckqTNdD/qIOAX4Z2ANcBFwfURc1O39SJI604sj+kuB8cx8MTN/BXwTWNeD/UiSOtCLD2OXAvublieA3+vBfqSq9fODYJ04J+JD914EfbSo5TGDIkaB0bL484h4BXi5B/102znYZzedLH3CydOrfXZXT/uMW4/r6b/dyaBeBP0EsLxpeRlwYPqgzNwCbJlajoixzBzpQT9dZZ/ddbL0CSdPr/bZXSdLn7PpxTn6HwArIuL8iFgIrAe292A/kqQOdP2IPjPfioi/AB4GTgG+mpnPdns/kqTO9OTO2Mx8CHhojk/b0n7IQLDP7jpZ+oSTp1f77K6Tpc8ZReYxn5NKkiriVyBIUu0ys68P4ErgeWAc2NzD/XwVOAw801Q7C9gB7C3TxaUewO2lp93AyqbnbCzj9wIbm+ofBn5UnnM7R/+11HIfs/S5HHgU2AM8C3x6EHsFTge+D/yw9Pn5Uj8f2FW2cQ+wsNRPK8vjZf1w07ZuLvXngT9s996YaR9t/lxPAZ4CHhjwPveV1+ZpYGwQX/syfhFwH/AcjffqZYPWJ3Bh+XOcerwB3DRofZ6IR9923PSX7wXgAmAhjdC4qEf7+giwkncG/T9M/cUENgO3lvm1wL+XF34VsKvpxXuxTBeX+ak3yffLmz3Kc9fMto9Z+lwy9QYD3gv8N42vkhioXstz31PmT6URaKuAe4H1pf4l4M/K/J8DXyrz64F7yvxF5XU/jUYwvlDeFzO+N2baR5s/188A3+Bo0A9qn/uAc6bVBuq1L2O2An9S5hfSCP6B63Na1vyUxnXnA9tnrx79DvrLgIeblm8Gbu7h/oZ5Z9A/Dywp80uA58v8l4Hrp48Drge+3FT/cqktAZ5rqr89bqZ9zKHnbcDHB7lX4N3AkzTugH4ZWDD99aVxFdZlZX5BGRfTX/OpcTO9N8pzWu5jlv6WATuBK4AHZttGP/ss4/ZxbNAP1GsPvA/4H8rR66D2Oa23TwD/Neh99urR73P0rb4uYekJ3P95mXkQoEzPbdPXbPWJFvXZ9tFWRAwDl9A4Wh64XiPilIh4msYpsR00jmxfz8y3Wmz77X7K+iPA2fPo/+xZ9jGTLwKfBX5TlmfbRj/7hMZd5N+LiCfK3eMweK/9BcAk8LWIeCoivhIRZwxgn83WA3e32cYg9NkT/Q76jr4uoQ9m6muu9fk3EPEe4NvATZn5xmxD59hT13rNzF9n5sU0jpgvBT44y7a71eec+o+ITwKHM/OJ5vKg9dnk8sxcSePbX2+MiI/MMrZfr/0CGqdB78jMS4Bf0Dg9MZO+/n0qN25eDXyr3dA59jOo+XWMfgd9R1+X0EOHImIJQJkebtPXbPVlLeqz7WNGEXEqjZD/emZ+Z5B7BcjM14HHaJzXXBQRU/dnNG/77X7K+jOBV+fR/8uz7KOVy4GrI2IfjW9SvYLGEf6g9QlAZh4o08PA/TR+gQ7aaz8BTGTmrrJ8H43gH7Q+p6wBnszMQ2220e8+e6bfQd/vr0vYTuPTdMp0W1N9QzSsAo6Uf349DHwiIhZHxGIa5/0eLut+FhGrIiKADdO21WofLZXn3wnsycwvDGqvETEUEYvK/LuAj9G4+uJR4NoZ+pza9rXAI9k4gbkdWB8Rp0XE+cAKGh9wtXxvlOfMtI9jZObNmbksM4fLNh7JzE8NWp/lz/GMiHjv1DyN1+wZBuy1z8yfAvsj4sJSWg38eND6bHI9R0/bzLaNfvfZO/38gKB8ULGWxpUlLwCf6+F+7gYOAv9H4zfxJhrnUXfSuARqJ3BWGRs0/vOUF2hcOjXStJ0/pnEp1ThwQ1N9hMZfyheAf+LoZVYt9zFLn79P459/uzl6WdjaQesV+F0alyvuLtv621K/gEYAjtP4p/JppX56WR4v6y9o2tbnSi/PU65amO29MdM+OngPfJSjV90MXJ9l/A85esnq52Z7Xfr12pfxFwNj5fX/NxpXowxin+8GXgHObKoNXJ+9fnhnrCRVrt+nbiRJPWbQS1LlDHpJqpxBL0mVM+glqXIGvSRVzqCXpMoZ9JJUuf8H4uWLrAbzKvQAAAAASUVORK5CYII=\n",
      "text/plain": [
       "<Figure size 432x288 with 1 Axes>"
      ]
     },
     "metadata": {
      "needs_background": "light"
     },
     "output_type": "display_data"
    },
    {
     "name": "stderr",
     "output_type": "stream",
     "text": [
      "C:\\ProgramData\\Anaconda3\\lib\\site-packages\\scipy\\stats\\stats.py:1713: FutureWarning: Using a non-tuple sequence for multidimensional indexing is deprecated; use `arr[tuple(seq)]` instead of `arr[seq]`. In the future this will be interpreted as an array index, `arr[np.array(seq)]`, which will result either in an error or a different result.\n",
      "  return np.add.reduce(sorted[indexer] * weights, axis=axis) / sumval\n"
     ]
    },
    {
     "data": {
      "image/png": "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\n",
      "text/plain": [
       "<Figure size 432x288 with 1 Axes>"
      ]
     },
     "metadata": {
      "needs_background": "light"
     },
     "output_type": "display_data"
    },
    {
     "data": {
      "image/png": "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\n",
      "text/plain": [
       "<Figure size 432x288 with 1 Axes>"
      ]
     },
     "metadata": {
      "needs_background": "light"
     },
     "output_type": "display_data"
    },
    {
     "name": "stdout",
     "output_type": "stream",
     "text": [
      "skewness: 1.882876\n",
      "kurtosis: 6.536282\n"
     ]
    }
   ],
   "source": [
    "plt.hist(train.SalePrice)\n",
    "plt.show()\n",
    "sns.distplot(train.SalePrice,fit=norm)\n",
    "plt.ylabel =('Frequency')\n",
    "plt.title = ('SalePrice Distribution')\n",
    "#Get the fitted parameters used by the function\n",
    "(mu, sigma) = norm.fit(train['SalePrice'])\n",
    "#QQ plot\n",
    "fig = plt.figure()\n",
    "res = stats.probplot(train['SalePrice'], plot=plt)\n",
    "plt.show()\n",
    "print(\"skewness: %f\" % train['SalePrice'].skew())\n",
    "print(\"kurtosis: %f\" % train ['SalePrice'].kurt())"
   ]
  },
  {
   "cell_type": "markdown",
   "metadata": {},
   "source": [
    "Sales price is right skewed. So, we perform log transformation so that the skewness is nearly zero"
   ]
  },
  {
   "cell_type": "code",
   "execution_count": 166,
   "metadata": {},
   "outputs": [
    {
     "name": "stdout",
     "output_type": "stream",
     "text": [
      "Skew is: 0.12134661989685333\n"
     ]
    },
    {
     "data": {
      "image/png": "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\n",
      "text/plain": [
       "<Figure size 432x288 with 1 Axes>"
      ]
     },
     "metadata": {
      "needs_background": "light"
     },
     "output_type": "display_data"
    },
    {
     "name": "stderr",
     "output_type": "stream",
     "text": [
      "C:\\ProgramData\\Anaconda3\\lib\\site-packages\\scipy\\stats\\stats.py:1713: FutureWarning: Using a non-tuple sequence for multidimensional indexing is deprecated; use `arr[tuple(seq)]` instead of `arr[seq]`. In the future this will be interpreted as an array index, `arr[np.array(seq)]`, which will result either in an error or a different result.\n",
      "  return np.add.reduce(sorted[indexer] * weights, axis=axis) / sumval\n"
     ]
    },
    {
     "data": {
      "image/png": "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\n",
      "text/plain": [
       "<Figure size 432x288 with 1 Axes>"
      ]
     },
     "metadata": {
      "needs_background": "light"
     },
     "output_type": "display_data"
    },
    {
     "data": {
      "image/png": "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\n",
      "text/plain": [
       "<Figure size 432x288 with 1 Axes>"
      ]
     },
     "metadata": {
      "needs_background": "light"
     },
     "output_type": "display_data"
    }
   ],
   "source": [
    "train[\"skewed_SP\"] = np.log1p(train[\"SalePrice\"])\n",
    "print (\"Skew is:\", train['skewed_SP'].skew())\n",
    "plt.hist(train['skewed_SP'], color='blue')\n",
    "plt.show()\n",
    "sns.distplot(train.SalePrice,fit=norm)\n",
    "plt.ylabel=('Frequency')\n",
    "plt.title=('SalePrice distribution');\n",
    "\n",
    "(mu,sigma)= norm.fit(train['SalePrice']);\n",
    "\n",
    "fig =plt.figure()\n",
    "res =stats. probplot(train['SalePrice'], plot=plt)\n",
    "plt.show() "
   ]
  },
  {
   "cell_type": "markdown",
   "metadata": {},
   "source": [
    "Exploring the variables"
   ]
  },
  {
   "cell_type": "code",
   "execution_count": 167,
   "metadata": {},
   "outputs": [
    {
     "data": {
      "image/png": "iVBORw0KGgoAAAANSUhEUgAAAqsAAAJPCAYAAABbzp1lAAAABHNCSVQICAgIfAhkiAAAAAlwSFlzAAALEgAACxIB0t1+/AAAADl0RVh0U29mdHdhcmUAbWF0cGxvdGxpYiB2ZXJzaW9uIDIuMi4zLCBodHRwOi8vbWF0cGxvdGxpYi5vcmcvIxREBQAAIABJREFUeJzs3XecXVW5//HPl/SQQiBICxBAOoYAMQjSu40iShEVLDdyLSheQGwQgWsvPxRbQAwdFBWRiyAgISA1QEhCVxIkiJAQSkLaZOb5/bHXkZ0zZ8o6UzKTfN+v13lln73XXmvtM+fMPFln7fUoIjAzMzMz64nWWtUdMDMzMzNriYNVMzMzM+uxHKyamZmZWY/lYNXMzMzMeiwHq2ZmZmbWYzlYNTMzM7Mey8GqmZmZmfVYDlbNzMzMrMdysGpmZmZmPZaDVTMzMzPrsfqu6g6sSRrmP5OV2/Znu56V3cYyZZYnP91u7v9whjVldgpYktlIY3YLsET5117PtXS1ero0IPPSm/Kb4LXM13dE5F9Ibr9yPx+Q/1pB/mdkYB0v8OLMRuq5jtcz2+hXRxv9M8+p5xP42lp5jQys471Yz8hP7mdkeB39GpH5y3F+n+wmGJj5M6znc7g885x63idnPnt5j/gFnxsr5Oo3cssecZ05PLJqZmZmZj2WR1YzSVoUEUNq7J8M3BAR13Z/r8zMzGy10FTPd4WrN4+smpmZmVmP5ZHVOkkS8BPgAGA29U2RMTMzM3tT1HOXwOrNI6v1OwrYFngb8F/Anqu2O2ZmZmarHwer9dsHuCoiGiPiX8BfaxWSNEHSNEnTLrr0qu7toZmZmfUuTU1d++iFPA2gY9pcXiIiJgGToOuXozAzMzNb3XhktX5TgeMk9ZG0EbD/qu6QmZmZ9W4RTV366I08slq/P1DcXDUTeAq4Y9V2x8zMzGz142A1U2WN1YgI4LOruDtmZma2Ouml80q7kqcBmJmZmVmP5ZHVbvSzXc/KKv/ph87JbmOrbY7IKn/IsG2z2xjXODCr/HN98v+XuElj/v+jcvOSNyh/adx6riXXPJZnlX+u8Y3sNlZEXoaUyRvlZ1T5ywsbZZUfWMdL+1Lmb7B6ctdvv2xF9jlDlXfO1AF5nymAY4e9lFX+tlfekt3G0rbvIV3JFg3ZTfBk/7zyLyv/vbhJ5L1R6rkTtqEbVtpeWkcbr/Xp/H5UW5z567qe/Ey5P/duuOyu00vnlXYlB6u2WqgnCDEzM+txnG61GU8DMDMzM7Meq1uCVUkh6bLS876S5km6IT3fQNINkh6R9JikG9P+tST9WNIsSTMlPSBpizbamizpAy0cGy9pqqQnJT0h6SJJgyWdJOmCzrxmMzMzs2zR1LWPXqi7pgG8AewkaVBELAEOBp4vHT8HuCUizgeQNCbtPxbYGBgTEU2SRqW6sknaAPgtcFxE3CNJwNHA0LquyMzMzMy6XHdOA/gz8J60fTxQzj26ETC38iQiZpT2vxBpFduImBsRrwBIWlQpL+kDkiaX6jtI0p2SnpL03rTvM8AlEXFPqisi4tqIeLHcSUnvk3SfpIcl3ZqCXCTtK2l6ejwsaaikjdJI7fQ0+rt3h14hMzMzW7M53Woz3RmsXk2R8WkgMAa4r3Tsp8CvJN0u6auSNk77fwO8LwWDP5C0SzvbGg3sSxEc/yK1uRPwYDvOvQt4R0Tskvp8Rtp/GvCZiBgL7A0sAT4E3Jz27QxMr65M0gRJ0yRNu3vR0+3svpmZmZlBNwarabR0NMWo6o1Vx24GtgQuBLYDHpa0fkTMBbYFvgw0AbdJOrAdzf0mIpoi4mngmVRne40CbpY0Ezgd2DHt/xvwQ0mnAOtExArgAeBjkiYCb4uIhTWue1JEjIuIcXsO2TqjG2ZmZramcbrV5rp7NYDrge+z8hQAACJiQURcGREfoQgC90n7l0XEnyPidOCbwJGVU0qnVy9SWL2QUQCPAru1o48/AS6IiLcBn6rUHRHfBj4JDALulbRdRExN/XweuEzSR9tRv5mZmZm1U3cHqxcD50TEzPJOSQdIGpy2hwJbAf+UtGtlSoCktSimDzybTntR0vZp/1FV7XwwrSSwFcWI7ZPABcCJknYvtfthSRtWnTucN2/+OrFUdquImBkR3wGmAdtJ2hx4KSIuBH4F7FrPi2JmZmYGeM5qDd2aFCB9rX9+jUO7ARdIWkERQF8UEQ9IOgy4UNKAVO5+iqAT4EzgBuA5YBYwpFTfk8AdwAbAyRGxFFgq6Tjg+5LeQjGtYCrw+6q+TAR+K+l54F6gslTWFyTtT5F84zGKG8aOA06X1AAsAjyyamZmZtaJuiVYjYghNfZNAaak7e8B36tR5ibgphbqvBa4tsb+k1rpxz0UN0dVm5weRMQfgT/WOPdzNc67JD3MzMzMOq6XzivtSk632o2WZeZ13mqbI7Lb+MdTzeLsVi3+n//KbuOFewa0Xajk8uXrZLex+fL8dHOL18qb1bKZlmS3sXffvOTn05YPz25j3xV5H8vxey7ObqPfBoOyyt9w/frZbazInGT07nfObbtQldvv3LjtQiXP9M+f+bRe32XZ58xi7azyRw+en93G7197S1b5j277XHYbr/4r731yf8PI7DY+ss6LbRcqGbzu8uw2pj4xKqv8uk0rstuYNaBf9jkbr8j7o7Ckjol7u7Co7UIld67VbGypTd2R7voTb/1XVnk5P+dqxcGqrRZyA1UzM7MeqSl/sGZ157/wZmZmZtZjdUuwWs421Y6yR0raofR8sqTZpexRp3RSn/aTtGdn1GVmZmbWKaKpax+9UE+cBnAkxV3+j5X2nZ5uqKpJUp+IyB0334/iDv67s3toZmZmZt1ilU0DkLS5pNskzUj/bpZGOg8HvpdGUbdq5fxFks6RdB+wh6QDJT0saaakiyvLXUmaI+kbkh5Kx7aTNBo4GTg1tbO3pPdJui/VcaukDdL560u6JZ3/S0nPShqZjn1Y0v2pjl9K6tPFL5uZmZmtzrzOajOrcs7qBcClETEGuAL4cUTcTZHl6vSIGBsR/0hlK8HrdElvS/vWBmZFxO4Ui/RPBo5Nmaf6Av9damt+ROwK/Bw4LSLmAL8AfpTauRO4C3hHROwCXA2ckc49G/hrOv8PwGYAkrYHjgXeGRFjKdZfPaEzXyAzMzOzNd2qDFb3AK5M25cBe7VSthK8ji1lv2oEfpe2twVmR8RT6fklpHStSWXh/weB0S20MQq4WdJM4HRgx7R/L4rgtbLu6ytp/4EUyQwekDQ9Pd+yulJJEyRNkzTtvkVPt3KJZmZmtsbznNVmetJqALkrtS0tzVNta7G6ykKJjbQ8T/cnwAVpZPZTwMA26hZwSSmI3jYiJlYXiohJETEuIsbtPmTrNrppZmZmZmWrMli9myJdKRRfn9+VthcCQzPregIYLemt6flHKNKttqa6neHA82n7xNL+u4BjACQdAoxI+28DPpBStyJpXUmbZ/bbzMzM7E2es9pMdwWrgyXNLT2+CJwCfEzSDIrg8vOp7NXA6elGpxZvsCqLiKXAx4Dfpq/xmyjmpLbmT8BRlRusgInp/DuBcjqZbwCHSHoIeBfwArAwIh4Dvgb8JV3DLcBG7emvmZmZWS0RjV366I26ZemqiGgpKD6gRtm/ATuUdp3UQp1Dqp7fBuxSo9zo0vY0iiWrSPNbx1QVr5Wr9DXg0IhYIWkPYP+IWJbquAa4plb/zMzMzKzjeuI6qz3NZsBvJK0FLAf+axX3x8zMzFZXvfQmqK7kYLUNEfE0NUZs67Es8x6yQ4Ztm93G4v/Ji6UH/+DC7Dae2OlrWeXX6Z8/2+SZ/tmnZOvTMLDtQlW2aMz7CmXdxvxfOo8OyPtYbvH44Ow2Bj7bkFV+qdq6h7G5xZk/9nmz8n8e68SKrPIjmvLfWC+tyO/XosxmnnxlRNuFqqwYkFf+mcfXy25j5DpvZJV/rl92E8z+d961D3gx/zO14X/usW2ff62V+eICS/I/IryauTL3gNzbkIGnm9bOKp//2yT/s95Qz2v1r0FZ5SPyG1k/+wzrLg5WzczMzHqKXnoTVFfqSUtXmZmZmZmtpFcHq5IWZZQ9UtIOVfv6Spov6Vud3zszMzOzTE4K0EyvDlYzHcnKqwwAHAI8CRwj1Z6UJylzVpGZmZmZdZbVLliVtLmk2yTNSP9uJmlP4HDge2ld1cr6rccD5wP/BN5RqmOOpLMk3QV8UNJWkm6S9KCkOyVtl8q9T9J9aU3YWyVt0M2Xa2ZmZquTpsauffRCq12wClwAXBoRY4ArgB9HxN3A9cDpKTXqPyQNAg4EbgCuoghcy5ZGxF4RcTUwCfhcROwGnAb8LJW5C3hHROxCkczgjOrOSJogaZqkadMW/b3zr9bMzMxsNbY6rgawB/D+tH0Z8N0Wyr0XuD0iFkv6HfB1SafGm+kdrgGQNATYkyK7VeXcyromo4BrJG0E9AdmVzcSEZMogl3O3fyEOhYeMTMzszVGL51X2pVWx2C1WksB4vHAOyXNSc/XA/YHbk3PKwsMrgW8GhFja9TxE+CHEXG9pP0oUraamZmZWSdZHacB3A0cl7ZPoPiqHmAhMBRA0jBgL2CziBidUrJ+huZTAYiI14HZkj6YzpWkndPh4cDzafvEzr8UMzMzW6M0NXXtoxfq7cHqYElzS48vAqcAH5M0A/gI8PlU9mrgdEkPAx8E/hoR5bQmfwQOl1QrdckJwCckPQI8ChyR9k+kmB5wJzC/sy/OzMzMbE3Xq6cBRERLwfYBNcr+jZWXrvpV1fEFvJltbXTVsdnAYTXq/CNFkGtmZmbWcT1gzqqkwyhWS+oDXBQR3646/iOKqZNQZOl9S0Ssk441AjPTsX9GxOEd7U+vDlZ7m9xh7HGN+TnJX7gnL6f1Ezt9LbuN98w6L6v8l8Z9JbuN804Zmn1OLFueVb5hxvNtF6oy9768PNsP1PHdxafWfyGr/LpHbJTdRtP817LKHzD139ltXP5y3kpuoz771uw2Hj93QVb5kSuaeGRAXs7w4z7TP6s8wHZX5L1ej8xfL7uNh2l3ThQA/vvghdltNC3KW+bmlHH5y1JrROb7d2H+dTzz85eyyo9e75XsNu6Yl/8zHEPee2tAHbfoNtReQrxF8/vkN7J5Q14bz/bLb2OzKz6dVV4D8n5X25vS+vI/BQ4G5gIPSLo+Ih6rlImIU0vlPwfsUqpiSQv3+dTNwaqtFnIDVVsz5QaqZmbdbtXPKx0P/D0ingGQdDXF9MfHWih/PHB2V3aot89ZNTMzM7POswnwXOn53LSvGUmbA1sAfy3tHpjWl79X0pGd0aFuDVYljZL0R0lPS/qHpPMl5X/HltfmovTvaEmzSvv3knS/pCckPSnpM53RjpmZmVndung1gHKyovSYUNWDWl9BtTR34zjg2tIa9VCstDQO+BDw/0pZQ+vWbcGqihX1fw9cFxFbA9sAQ4D/7WC92VMZJG0IXAmcHBHbAe8EPi7pqI70xczMzKwni4hJETGu9JhUVWQusGnp+SjgXy1UdxxFFtBy/f9K/z4DTGHl+ax16c6R1QMoUpj+GiBF4adSBIkPSNqxUlDSFEm7SVpb0sXp+MOSjkjHT5L0W0l/Av4iaYik2yQ9JGlmpVwrPgNMjoiHUl/mU6RKPT3VP1nSB0r9qYzO5rZjZmZm1m4RjV36aIcHgK0lbZG+/T6OImX9SiRtC4wA7intG1FZAlTSSIrBwJbmurZbd95gtSPwYHlHRLwu6Z/ADcAxwNkpdenGEfGgpG9SrIf6cUnrAPdLqmSY2gMYExEL0ujqUam+kcC96c61loatdwQuqdo3jZWXtqplaWY7ZmZmZu23im+wiogVkj4L3EyxdNXFEfGopHOAaRFRCVyPB66uioG2B34pqYliQPTb5VUE6tWdwaqoPedBFMPEP6e4m+wY4Lfp2CEUC/Wflp4PBDZL27ektVErdXxT0j5AE8VE4A2AltaPaakv7bmGnHZIc0EmAByx7njePiR/eR4zMzOz7hIRNwI3Vu07q+r5xBrn3Q28rbP7053TAB4FxpV3pLSnm1IMOb8saQxwLEW2KSiCw6MjYmx6bBYRj6djb5SqOoFiQf/d0tpeL1IEtu3uC7AbxegqwArSa5Pm2lZuAsttZ6W5IQ5UzczMrFXR1LWPXqg7g9XbKNKjfhT+s+jsDyjmji6mCFDPAIZHRCXzwc3A51LAiKSWJukOB16KiAZJ+wObt9GXnwInSRqb6l2P4kavc9PxORTBKxRri/Wrsx0zMzMz64BuC1bTnIajgA9Kehp4imIOaCW90bUUk3h/UzrtXIpAcUZadupcarsCGCdpGsXo5xNt9OUF4MPAJElPUtzl9uOIuCMVuRDYV9L9wO68OYqb1Y6ZmZlZli5euqo36tYMVhHxHPC+Fo69WN2fiFgCfKpG2cnA5NLz+RQ3XNWqd0j6dw6wU2n/VIosDaQ1Vr8i6aaIeCX15R2lar7c3nbMzMzMrPM43SoQET+lmBpgZmZmtur00nmlXUledan7/GTTD2e92P/uk/+Gzc18vk5T/kyQf621Iqv8d6Z9M7uNbbbNz89w3oC8GxCn9l+W3cZGkZdwbZPG/Fz09/VdmlV+cfvWzVvJQPXJKj++sdX7CGvKfffO6ZN/Hf0z3/G7L83/fXfJgDfaLlRlW+V90bJhY/7ncHafvM/h4Dpmfa0deedcveyZ7Da2GbB+Vvkh+Xlg2KlpUFb5xcp/n2zRkP9Zfz3vY8igOmKYBZltbJD3tgLgxcwfybA6ruPpvnm/H4ZmvncBvv7sFfk/xC6w5NZfdGlgNuigk3vEdebwyKqtFnIDVTMzsx6pl84r7UrduRqAmZmZmVmWLg9WJY2S9EdJT0v6h6TzU/qurmyzkh51dFpFoLJ/vKSpkp6U9ISkiyQN7oT2JpYSF5iZmZnVx+usNtOlwWpaH/X3wHURsTWwDTCEYk3TjtSbPX1B0gYUmbG+FBHbUqQEuwkY2pG+mJmZmVnX6eqR1QOApRHxa4CIaAROBT4u6QFJO1YKSpoiaTdJa0u6OB1/WNIR6fhJkn4r6U/AXyQNkXSbpIckzayUa8VngEsi4p7Ul4iIayPiRUnrSrpO0gxJ96ZMWpUR04tT356RdEqpv19NI7S3Att24mtmZmZmayqvs9pMV99gtSPwYHlHRLwu6Z/ADcAxwNmSNgI2jogHJX0T+GtEfFzSOsD9KSCEYo3TMRGxII2uHpXqGwncK+n6aHl5g52AS1o49g3g4Yg4UtIBwKXA2HRsO2B/ihHYJyX9HBhDkcBgF4rX8KHq6zQzMzOzjuvqkVUBtYJHAVOAD6bnx1B8RQ9wCHCmpOmpzEBgs3TslohYUKrjm5JmALcCmwAb1NnPvYDLACLir8B6koanY/8XEctSQoCXUht7A3+IiMUR8TpwfUsVS5ogaZqkaX9b9HSd3TMzM7M1gkdWm+nqYPVRYFx5h6RhwKbAA8DL6Sv3Y4GrK0WAoyNibHpsFhGPp2PlBQ9PANYHdouIscCLFIFta33ZrYVjtdYcqwTZ5cU4G3lzNLpd66BFxKSIGBcR4945ZOv2nGJmZmZmSVcHq7cBgyV9FEBSH+AHwOSIWEwRoJ4BDI+Imemcm4HPpZuzkLRLC3UPB16KiAZJ+wObt9GXC4ATJe1e2SHpw5I2BKZSBL9I2g+Yn0ZMWzIVOErSIElDaSGFrJmZmVkWrwbQTJcGq2n+6FHAByU9DTwFLAW+kopcSzH38zel084F+gEz0rJT57ZQ/RXAOEnTKALNJ9roy4upre+nG6Mep/g6/3VgYqprBvBt4MQ26noIuAaYDvwOuLO18mZmZmZWny7PYBURz9HCyGMKIPtW7VsCfKpG2cnA5NLz+RQ3XNWqd0j6dw7FjVWV/fdQBKjVFgPNVhOIiIlVz8t1/S8dXILLzMzMbCW9dF5pV3K61W60JHMce5M68oVvvjwvf/IzdaRnOO+UvKVpt9n2qOw2nnryD9nnNFzzw6zy+176WHYbCxe0Ni26uasaRmS3cfySvGTeu+w5L7uNV/8+IKv8n17Lu26Au4vcHO12Wh251Rsj85y14C/98vLE//p9+cnSn/vza1nlL2FYdhsvxNKs8kcvXzu7jeFNDVnlv3jHt7LbWHHthVnlm+bnvbYAs69bnn3O4uX9ssofszT/BtqvrL1zVvnZ/fJTxo9oyvuM1NPGOpltvJL3Kw6Asz+a1y+tP7ztQtZrOFi11UJuoGprptxA1dZMuYGqWafqpfNKu1KXp1s1MzMzM6tXjw5WVbhL0rtK+46RdFMn1H25pNmSpkt6QtLX2nHOUZJOT9vnSfpC2v54WlXAzMzMrH5eZ7WZHj0NICJC0snAbyXdDvShuKnpsI7Um7JfAZwaEddJGgQ8IemSdENYS/1paSLlxymyWP27I/0yMzOzNZynATTTo0dWASJiFvAn4EvA2cClEfEPSSdKuj+NjP5M0loAkialjFGPSjqrUo+kuZK+LulvFMtplQ2iWOR/cansOmn7HZV0r5I+Ken/lU+UdCxFatZrUl/quGXJzMzMzGrp8cFq8g3gQ8C7gO9K2oki4NwzZa/qS7GGKsCZETEO2Bk4WNIOpXreiIh3RkQlteuPUlrX5yiC4JdzOxYRlfVWj00Zt/JvOzUzMzMDTwOooVcEqxHxBsUi/JdFxDLgIODtwLQUbO4LbJWKHy/pIYqv5bcHysHqNVVVn5qC3Q2Bd0sa39l9lzQhjfROu29R/tImZmZmZmuyHj1ntUpTegAIuDgivl4uIGlr4PPA+Ih4VdLlQHmByDdqVRwRCyXdAewF3A+s4M1APn+ByZXrngRMAvju5h/OX8DOzMzM1hy9dPSzK/WKkdUabgWOkTQSQNJ6kjYDhgELgdclbQQc2p7KJPUDxgP/SLvmALul7aPbUcVCIG+lfDMzMzNrU28aWf2PiJgp6RvArenGqgbgZGAa8BgwC3gG+FsbVf1I0kRgAHAzcH3aPxG4UNK/KUZa2/Jr4CJJSyhGdT1v1czMzPKFv4St1muC1YiYWPX8SuDKGkU/0sL5o6qef7iVtqYAW9fYf1Fp+2ul7d8Av2mpPjMzMzOrT68JVs3MzMxWe56z2oyD1W7UmFm+Xx3fBCxeq+unIceyvFkO5w14W3YbDdf8MPucfsd+Mav8s+eekd3Ga5H3kWkYlP9DHLTWiqzyr8/OX9p38Rt552y/LK9PAC8NGpxVfuTIedltzHpxZFb5gSi7jVjSkH3Oq4uHZZVfu3/+53ag+mSV31RLstv4t/LuL22a9pfsNlY8+UJe+QX578XlK0ZklR/cP/9nPr7fFtnn9Mv8o9C3G74dHlDHZyT3jOG5fwyBaMj7mSjz75T1bA5WbbWQG6iamZn1SB5Zbaa3rgZgZmZmZmuAVoNVFe6S9K7SvmMk3dTRhiVdLml2SlH6iKT9O1pnZvvnSfpC6Xl/SQskndvKOQdJuq6FY/9J0WpmZmZWl2jq2kcv1GqwGhFBsSTUDyUNlLQ28L/AZzrSqKTK9INKBqnTgJ91pM5OcBjFslfHruJ+mJmZmVnS5jSAiJgF/An4EnA2cGlE/EPSiZLuTyOjP0vrnSJpUkov+qiksyr1pJHHr0v6G3BUVTP3AJuUyr5d0h2SHpT0Z0kbpP13SfqhpDslPSZpnKQ/SHo6rZdaOf8MSbPS43Ol/WdJelLSLTRfmup44IfAi5LeXjrnPemcu4AjSvvXl3SLpIck/Zz8OeZmZmZmK2tq6tpHL9TeOavfAD4EvAv4rqSdKALOPdPIaF/guFT2zIgYB+wMHCxph1I9b0TEOyPit1X1HwZcByBpAHA+cHRE7AZcDpS/ml8SEXsDv0rnnAy8DZggaR1J44ETKDJS7QF8WtKYtP9oYCzwgXSc1ObawL7AjcBVFIErkgYDvwTeDewNbFz1mtweEbsCN1UdMzMzM7NO0K7VACLiDUnXAIsiYpmkg4C3A9MkAQwCnkvFj5f0iVT3xsAOFF+vA1xTVfWPJP0IGMmbweP2wI4U2akA+gBzS+dUskzNBGZGxIsAkuYAoyiCyt9FxOK0/zpgL2Bw2r8EWCLpT6U6DwduiYilkn6bruu01PenIuIfqa4rgI+mc/ahCGKJiD9KWljrtZM0AZgAcOS64xk/pFmuATMzM7OCM1g1k7N0VVN6QPGV98UR8fVyAUlbA5+nSDn6qqTLgfJCfW9U1XkqxRSDU4HJwO6p7hlp9LSWZaX+LCvtb0rX09rX8S29A44Hdk8BL8BbKILRRa2c01p9bxaImARMAvjW5h/2O9DMzMwsQ71LV90KHCNpJICk9SRtBgwDFgKvS9oIOLStiiKiEfgBMFjSgRSjsJukr+0rd+nvmNG3qcBRkgZJGkIxz/TOtP/96UaxYcB7U/0jKILkURExOiJGA6dQBLCPAdtI2kLFMO/xVe2ckOp4HzA0o49mZmZmzXnOajN1BasRMZNizuatkmYAfwE2AB6iCPBmARcCf2tnfQGcB5wREcso5pT+UNIjwMMUwWR7+3Y/xbzTB4B7gZ9HxMy0/w/AI8BvKYJNKOax3hIR5fQY11HMyW2gmBP7Z4qA95lSmbOBgyQ9BOwHPN/ePpqZmZlZ+7R7GkBETKx6fiVwZY2iH2nh/FFVzz9c9fwa0pzWiHiIYp5pdR17lbZvpRjhrXXsu8B3a5x/DnBOje5dVFVuHsVUAID/S4/quuYBB5V2/U+Nes3MzMzar5eOfnYlp1vtRkuUN2W1QfmrYW2Wmf+7T0Ne7m+Ahhl5g8hT++flbwfY99LH2i5UduknefbZdbNOGT+r2f9n2jR7709nlb9jSV5OcoB5MSCr/DYb5OfAHjQi75xXHs9/nzTRP6v88C3zr2PxS3lfDm2+PHi5b97nat59+V9A9Vsr74/NTsvqmM4+IO9nsv5687KbGLZ0aVb5Z895OLuNkVusyCqvOv5qLWrol3dCQz/eyPzzuOGg/ABjSeav+NEr8v8mvJb59l2c+XcKYGnm36qldSz0GEvyfj80zJyd30hP0UsX7u9KTrdqq4XcQNXWTLmBqq2ZcgNVM+ta/kSamZmZ9RDR5IWDqnXLyKqkkHRZ6XlfSfMk3VAscdoaAAAgAElEQVRHXVMkHVq17wuSstO1pn7Ml/St3HPNzMzMrOt11zSAN4CdJA1Kzw+m/rvnr+LNbFkVx6X97SKpT9o8BHiSYhmumt8PlsqamZmZdS0vXdVMd85Z/TPwnrR9PKXgUtJ4SXdLejj9u23av6Ok+yVNlzQjJR24FnhvSsuKpNEUmbLukrRfGnm9VtITkq6oBKGS5kg6S9JdwAdL/Tgf+CfwjlJ/VioraStJN0l6UNKdkrZL5d4n6b7U71slbdBFr52ZmZnZGqk7g9WrgeMkDQTGAPeVjj0B7BMRuwBnAd9M+08Gzo+IscA4YG5EvAzcDxyWyhwHXJPWagXYBfgCRarULYF3ltpZGhF7RcTVaZT3QOAGisC5vOD/SmUpMlB9LiJ2A04DKlMO7gLekfp9NXBGPS+MmZmZGVCsBtCVj16o226wiogZaRT0eODGqsPDgUvSyGkAlXVG7gG+KmkU8PuIeDrtr0wF+GP69+Oluu6PiLkAkqYDoymCSkjruCbvBW6PiMWSfgd8XdKpKaPWf8qmLFh7Ar8tzRSorC00CrgmZevqDzRbK0PSBGACwHvWHc+uQ9/a0ktkZmZmZlW6e+mq64Hv03x+6bkUgeNOwPuAgfCfxAOHA0uAmyUdkMpfBxwoaVdgUEoiULGstN3IygH5G6Xt4ykyUM0BHgTWA/avUXYt4NWIGFt6bJ+O/QS4ICLeBnyq0u+yiJgUEeMiYpwDVTMzM2tVU3Ttoxfq7mD1YuCclK61bDhv3nB1UmWnpC2BZyLixxSB7hiAiFgETEn1tfvGqlK9wygyZG0WEaMjYjTwGZpPBSAiXgdmS/pgOleSdq7R7xNz+2FmZmZmrevWYDUi5kbE+TUOfRf4lqS/AeW7748FZqWv87cDLi0duwrYmWKuaK73A3+NiPIo7B+Bwys3blU5AfiEpEeAR4Ej0v6JFNMD7gTm19EPMzMzszd5NYBmumXOakQMqbFvCsXoKBFxD7BN6fDX0/5vATXXQI2IPwCq2vefOtPzz5a2R5e2JwOTq85dAKyfno6uOjabN2/oKu//I0WQa2ZmZmZdwBmszMzMzHqKXjr62ZUcrHajYU15ecmf65P/ht27b0NW+S0aG9suVGXufWtnld8o+me3sXBBs3vVWrXu0MXMfn1Y1jmz9/50VnmALe7MS5Q2YNzXs9s4esGUrPKv7b53dhuNLyzIKn9Js3Uu2pa76PCcaetkt3H497fMKv+70/Mv5M5X1m+7UJVXMlOJzO6X97kFGJg5i+u2V96S3cY+Q17OKv/8K0Oz21j6RN6foRHrLc5uY0jm6/vain5tF6rSh7zf79A98/C2Xb4iq/yjA/LDgmWZl752HbFYw+zXs8pH3mVbD+dg1VYLuYGqmZlZjxS98479rtTdqwGYmZmZmbVbtwWrkhpT2tRHJD0kac9OqHOspHeXnp8kaV5qZ7qkS9P+cyQd1EZdG0i6IfXvMUk3pv2jJS0p1TldUn9J20m6R9IySad19FrMzMzMvBpAc905DWBJSpuKpEMp7vLft4N1VtKwljNiXVNeBQAgIs5qR13nALdUltaSNKZ07B+VvldIWgCcAhxZT8fNzMzMrG2rahrAMOAVAEkbSZqaRixnSdo77V8k6TuSHpR0q6TxkqZIekbS4ZL6UwSYx6Zzj22pMUmTJX0gbc+R9I00ujtT0nap2EbA3Mo5ETGjtQuIiJci4gEg/84IMzMzs1qcwaqZ7gxWB6Wg8gngIooUqwAfAm5OI5c7A9PT/rWBKRGxG7AQOA84GDiKIgvWcuAsipHUsRFxTTqvErxOl/SxFvoyPyJ2BX4OVL7C/ynwK0m3S/qqpI1L5bcq1fnTjr4QZmZmZtY+q2oawB7ApZJ2Ah4ALpbUD7guIirB6nLgprQ9E1gWEQ2SZlK1aH+VZtMAavh9+vdBimxWRMTNKb3rYcC7gIdT/6DGNID2kjQBmABw9IjxvGPI1vVUY2ZmZmuC6J3zSrvSKpkGkDJWjQTWj4ipwD7A88Blkj6aijVE/Gf9hiZgWTq3iY4H2ZU0q43luiJiQURcGREfoQii9+lgO0TEpIgYFxHjHKiamZlZqzwNoJlVEqymeaJ9gJclbQ68FBEXAr8Cds2oaiGQvwp17T4dIGlw2h4KbAX8szPqNjMzM7P6dOc0gEGSKl/xCzgxIhol7QecLqkBWAR8tKUKargdODPV+60O9m834AJJKyiC+Isi4gFJo2sVlrQhMI3iZrEmSV8AdoiIvDQbZmZmZkn00uWlulK3BasRUTMBYURcAlxSY/+Q0vbEWsciYgHw9qpTJ9eo66TS9ujS9jRgv7T9PeB7Nc6dA+xUY/+/gVHNLsjMzMzMOo3TrZqZmZn1FL10XmlXcrC6mpm2fHhW+XUb879ueCBzpvPmjcpu46qGEXknDIIG8j7gdyzJbAMYMO7rWeW/Pu3ctgtVeWTXU7LK3zIpf+r5Cq2fVX7tAY3ZbWzYmNevvyp/+vmrX3wy74Q+/bPbeKxf/rUPjbxr3zj6ZbexPPP9/u8++X8A71q0Xlb5RwetyG5jncj7ufd/eVh2G6Myf83Ny3+bsMOK/M/h/Myfyfr5Ly/P9uv6P/O5V57/boeLpm+a10Yd8d6p+adYN3GwaquF3EDVzMysR/LSVc1022oAkhrTovqPpOxRe3ZCnWMlvbv0/CRJ80oL+F+a9p8j6aA26tpA0g2pf49JujHtHy1pSanO6ZL6SzpB0oz0uFvSzh29HjMzMzNb2apKCnAoxd37+3awzrHAOODG0r5mSQEi4qx21HUOcEtEnJ/6OKZ0rFlSAEmzgX0j4hVJ7wImAbvXcQ1mZmZmBc9ZbWaVrLNKsdzTKwCSNpI0NY1YzpK0d9q/SNJ3JD0o6VZJ4yVNkfSMpMMl9acIMCvpVY9tqTFJkyV9IG3PkfSNNLo7M635CrARMLdyTkTMaO0CIuLuiHglPb0XrwxgZmZm1um6M1gdlILKJ4CLgMqdJx8Cbk4jlzsDlbVY1wamRMRuFIv/nwccDBwFnBMRy4GzKEZSx0bENem8SvA6XdLHWujL/IjYFfg5cFra91PgV5Jul/RVSRuXym9VqvOnNer7BPDnvJfDzMzMrEpTU9c+eqFVNQ1gD+BSSTtRpDW9WFI/4LqIqASry4Gb0vZMYFlENEiaCYxupZ1m0wBq+H3690Hg/QARcbOkLYHDgHcBD6f+QY1pABWS9qcIVvdq4fgEYALA0SPG45SrZmZmZu23SqYBRMQ9wEhg/YiYCuwDPA9cJqmSwaohIioTN5qAZencJjoeZC9L/zaW64qIBRFxZUR8hCKI3qe1StK81ouAIyLi5VplImJSRIyLiHEOVM3MzKxVTdG1j15olQSraZ5oH+BlSZsDL0XEhcCvgF0zqloI5C/OWLtPB0ganLaHAlsB/2yl/GYUI7QfiYinOqMPZmZmZray7pwGMEhS5St+ASdGRKOk/YDTJTUAi4CPtlRBDbcDZ6Z6v9XB/u0GXCBpBUUQf1FEPCBpdAvlzwLWA34mCWBFRIzrYB/MzMxsTeZ1VpvptmA1Ivq0sP8S4JIa+4eUtifWOhYRC4C3V506uUZdJ5W2R5e2pwH7pe3vAd+rce4cYKca+z8JfLLZBZmZmZlZp1lVS1eZmZmZWbUeMGdV0mGSnpT0d0ln1jhenYTpk6VjJ0p6Oj1O7IyXxOlWe7B5LM8+Z98VeT/SRwfkvwU+tf4LWeW/MW9EdhvHL6k5EN+qQWvlJc6eFwOy2zh6wZSs8o/sekp2G9c+9OOs8m98Pn+A/41n8so/9/zGbReqkpv/e/++r2a3sf9rT2eV//CIXbLbOGV4zXsnW3XZq2/JKr/nsmVtF6ryWL+89+++Axdkt3Hv4nWzyh+zPP931oC+jVnllzTk/866u9+grPI7LMv7XQLweB2/S4c3Kav87P7ZTbAsMxV1X/L6BLBu3o+QF/vk3+TzvliUVV7qnTcS9QSS+lAs53kwxfrzD0i6PiIeqyrabPUlSesCZ1MkbArgwXTuK3SAg1VbLeQGqmZmZj1RrPq1UMcDf4+IZwAkXQ0cAVQHq7UcSpENdEE69xaKJUGv6kiHPA3AzMzMzCo2AZ4rPZ+b9lU7WtIMSddK2jTz3CyrLFiV1JjmOTySUp/u2Ql1jpX07tLziZJOqyozR9LINurZLvXtYUlbpYxWj6YfynRJu6dyU9KcjsqcjQ909BrMzMxsDdbFc1YlTZA0rfSYUNWDWnNBqudV/AkYHRFjgFt580b59pybbVVOAyhntDqUYumpfTtY51iKeRI3drCeI4E/RsTZKdvWe4FdI2JZCnTLM4dOSKsKmJmZmXVMFy/cHxGTgEmtFJkLbFp6Pgr4V1Ud5cn8FwLfKZ27X9W5U+rs6n/0lGkAw4BXACRtJGlqGqmcJWnvtH+RpO9IelDSrZLGp5HNZyQdLqk/cA5wbDr32NYalDRa0uOSLkyjpn+RNCiNzH4B+KSk24GNgPkRUcmgNT8i/tVa3WZmZma91APA1pK2SLHVccD15QKSNio9PRx4PG3fDBwiaYSkEcAhaV+HrMqR1UqSgIEUAeEBaf+HgJsj4n/THWmD0/61gSkR8SVJfwDOo7hTbQfgkoi4XtJZwLjK3WmSJrbRh62B4yPivyT9Bjg6Ii6X9AtgUUR8X9IQ4CxJT1EMdV8TEXeU6rhC0pK0fWBLaVfNzMzM2rSKkwJExApJn6UIMvsAF0fEo5LOAaZFxPXAKZIOB1YAC4CT0rkLJJ1LEfACnFO52aojeso0gD2ASyXtRHGBF0vqB1wXEZWsV8uBm9L2TGBZRDRImgmMbqGNlsbSK/tnl+p/sFY9EbFI0m7A3sD+wDWSzoyIyalIq9MA0lyQCQBHjxjPO4Zs3VJRMzMzs1UuIm6kakplRJxV2v4y8OUWzr0YuLgz+9MjpgFExD3ASGD9iJgK7AM8D1wmqZJ+tSEiKkFmE1D5Wr6JloPul4HqRT6HApUFHcuLGza2VE9ENEbElIg4G/gscHTGtU2KiHERMc6BqpmZmbWqByQF6Gl6RLAqaTuKoeaXJW0OvBQRFwK/AnbNqGohRTBaMRU4XNLQ1M77gUciot1LGEvaVlI5yhwLPJvRJzMzMzOrU0+YswrFUgcnRkSjpP2A0yU1AIuAj7ZUQQ23A2emer8VEddIugC4S0U6i5eA3HQ/Q4CfSFqHYm7G30lf65uZmZl1puilo59daZUFqxFRM59mRFzCm+t1lfcPKW1PrHUsTeJ9e9WxXwK/rFHfHGCn0vPv16o/Ih4Eaq4BGxH71dpvZmZmZp3D6VbNzMzMegqPrDbjYLUbNdXK69CK5xrfyG5j/J6Ls8pv8fjgtgtVWfeIjdouVLL4wvzr2GXPednnvD67f9uFSrbZYHl2G6/tvndW+Vsm5U8Lf+PzeTNV1j7/ouw2Bs3Lm3Z9/2HnZ7exg9bOKr/5ISuy23jowVFZ5X/zYv6vvAFr5/drxWt55f/RZ0B2G8/2yVveZuDghuw23r3J3Kzyjcszf8kBa29b80u2FvVZL+99BTD0d3k/kL7D2n1bw3/c0jAs+5ztVuS9Hzdfnh/EDMnMMz9zYN7PAyD3xz6wZpKj1m131lbZ59jqw8GqrRZyA1UzM7MeKfM/GGuCHrEagJmZmZlZLV0WrEpaL6U9nS7p35KeLz1vNgwmaV1JJ7ej3r6SXk3bb5W0JNX5iKS/VS0zVW/fD5D0jtLz7SXdkdp5XNLP0/6DJL1Wuq4OpxQzMzOzNZjXWW2my6YBpLSjlQxVE0npS1s5ZV3gZOAXmU09WcqE9RngTOAT2R1e2QHAfODe9PwC4LsR8X+SRGkVAeD2iDiyg+2ZmZmZWQ2rZBqApDMkzUqPz6Xd3wa2TSOU35Y0TNJfJT0kaYak97aj6mHAK6mNt0l6INU3Q9KWaSR2lqSLJT0q6VJJh0q6W9JTksZJ2opiLdbT07l7AhsBcwGiMLPzXxUzMzNb43lktZluv8FK0njgBGA8Rdaq+yXdQTEi+tbSKGk/4IiIWCjpLcDfgBtqVLltSgIwDBgA7J72fxr4fkoMMIAi8cAoYFvgGOAJ4CFgWUTsKelo4MyI+ICki4D5EfH/Ul9+CEyV9DfgL8CvI6Jye+n+peQGV0fEt6uudwIpicD71x3P7k65amZmZtZuq2JkdW/gdxGxOCIWAtcBe9UoJ+A7kmZQBIibShpZo9yTETE2IrYEzuDNaQR3A1+TdAawaUQsTfv/HhGPRUQT8Bhwa9o/Exhdq8MRcRGwA3AtcCBwT2ne7e2p/bHVgWo6d1JEjIuIcQ5UzczMrDUR0aWP3mhVBKvtXWDto8BwYNc02jofGNjGOdcD+wBExGXAUcAy4BZJ+6Qyy0rlm0rPm2hlpDkino+IiyPifRSv2/btvA4zMzMzq9OqCFanAkdJGiRpCHAEcCewEBhaKjcceCkiVkg6GNikHXXvBfwDQNKWEfH3iDgf+D9gTEYfV+qLpMMk9U3bGwMjgH9l1GdmZmbWNs9Zbabb56xGxP2SrgIeSLt+XrlhSdI0STMpgssfAn+SNI1ibunTLVRZmbMqilHSCWn/hyQdDzRQBJZfA2pNI6jlj8BvJb0f+AzwLuB8SUuBAL4QEfOKhQHMzMzMrKt0S7AaEROrnn8X+G6NcsdW7dq9ukyyTir/d2BQC22eB5xXtftV0nJaqcyHS9t/rxyLiCeAt5XOu7uFNm7lzTmvZmZmZh3TS0c/u5LTrXajAZnvvxWRn5+63wY1Y/cWDXw2P1940/y8PNsDlZ/3/NW/55+z+I28lKuDRizPbqPxhQVZ5Vdo/ew23ngmr/ygec9mt7HW+ptnlV9ax3txQOY3D33eOiq7jYW3vJBVvp55TwPWy099OO9feZ+rd6zI71m/yPv1PWKHFdlttP8Wg8Jz9w7JbmHI9kvbLtRBUt4v3yVL+2W3MbBP/s8w929CPe/fPuQ1Uk+YlPtqLamjjcgN4Brreb9bT+Vg1VYLuYGqmZlZT5QdmK8BHKyamZmZ9RQOVptZJRmsOiploHpJ0qw2yu2XMlBVnk+U9HzKTDVd0rfT/imSxrVQx3slPSzpEUmPSfpUa3WZmZmZWefprSOrk4ELgEvbKLcfsIiVb5D6UUR8vz2NpMxXk4DxETE3PR9dT11mZmZmbcqfJr/a65UjqxExFVjpThdJp6SRzxmSrpY0GjgZODWNfO7dnrolLZJ0jqT7KFYj6Au8nNpdFhFPdua1mJmZmVnLemWw2oIzgV0iYgxwckTMoUi9+qOUCvXOVO7U0lf3h9aoZ21gVkTsnoLi64FnJV0l6QRJ5desrbrMzMzM2i2aoksfvdHqFKzOAK6Q9GGgtTUrKsHr2Ii4ucbxRuB3lScR8UngQOB+4DTg4oy6kDQhJTuYdveilvIamJmZmVktq1Ow+h7gp8BuwIOV9Kh1WBqx8qKSETEzIn4EHAwcnVNZREyKiHERMW7PIVvX2SUzMzNbIzjdajOrRbCavprfNCJuB86gyHA1BFgIDO1AvUMk7VfaNRbIX4HdzMzMzOrSK1cDkHQVxZ3+IyXNBc4FPiJpOEXKlR9FxKuS/gRcK+kI4HP1NAWcIemXFEk33gBO6oRLMDMzM2vOqwE00yuD1Yg4vsbuX9Yo9xQwprTrzuoyqdx+pe0hpe2FwLtbOGdi+3prZmZmZvXqlcGqmZmZ2eqot96x35UcrHaj3JH9yRs1tl2oyg3Xr59VfqmU3cYBU/+dVX584/DsNv702sDsc7Zf1toiEM298nh+G5fMziu/9oD8n+Fzz2+cVf7+w87PbmNp5PXrNw/lt3HVzmdlldc222W3cd6Kl7PKvy3/7U7fdfJ/Tf7gK5tklW+a/c/sNq69NK9fAw7cJbuNGWfNySr/NIOz21h4Y/+s8oua+mW38dpafbLKb9V3UXYb2zfk3wLyfOZba2Rj/ht4hfKufUgdX0ErM7ZqID8Ye+XXj2Sfk2vwf3d5E1YnB6u2WsgNVM3MzHokz1ltZrVYDcDMzMzMVk+9IliVtKmk2yU9LulRSZ/PPH+KpHFpe46kmaXMU3tKGi1pVgvnriXpx5JmpfMekLRFS3V1/GrNzMxsTeUMVs31lmkAK4D/iYiHJA2lWPT/loh4rM769o+I+ZUnkkbXKpQSC3wQ2BgYExFNkkZRLGFVsy4zMzMz6zy9IliNiBeAF9L2QkmPA5tI+hlwH7A/RSKAT0TEnZIGAb8GdgAeBwa1ty1JJ1FkwxoIrA3cALwQEU2p/bmddV1mZmZmK/Gc1WZ6RbBalkZBd6EIUgH6RsR4Se8GzgYOAv4bWBwRYySNAR6qquZ2SY3AsojYvUYze1CMpC5II6l3SdobuA24PCIebm9dkiYAEwA+OGI8ezjlqpmZmVm79Yo5qxWShgC/A74QEa+n3b9P/z4IjE7b+wCXA0TEDGBGVVX7R8TYFgJVgFsiYkE6fy6wLfBliv/v3CbpwPbWFRGTImJcRIxzoGpmZmatiaauffRGvWZkVVI/ikD1ioj4fenQsvRvIytfT0dmEZfnpBIRy4A/A3+W9CJwJMUoq5mZmZl1oV4xsipJwK+AxyPih+04ZSpwQjp3J1ZOuZrb9q6SNk7ba6W6nq23PjMzM7MWNXXxoxfqLSOr7wQ+AsyUND3t+0or5X8O/FrSDGA6cH8H2n4LcKGkAen5/cAFHajPzMzMrKbe+lV9V+oVwWpE3AXUyjN3Y6nMfNKc1YhYAhzXQl2ja+ybA+yUticDk0vHbgJuam9dZmZmZtZ5FNE7F4jtjSZufkLWi71pPXmgM8svrmMiyOLMRNAjmvKv44618nNzv1V5ecnr+c9r7su1YWP+C5yb+XzeWvmf4QE1/+/Xsg3ryGZ7/CPnZJW/bcfWviyp7d6BeXnPAYZE3rXnv3thaeZnZMdl+T/DZ/vnvbe2riMl8SMD88YzVtRxq8ACNWaVH1jH7LVhkXfO0Dp+OQyr45x5mW/fQXX8uR6S2a/cPgEsz/yQNNXxPlkr85PYUEcbZz17RT0f9043/9B9uzQwG3nzHT3iOnP0ijmrZm3JDVRtzZQbqJqZ2arXK6YBmJmZma0JPGe1uQ6NrErK/6629fqOlDRD0hOSZkn6QAfqGi1pVtreT9Jrkqanx61p/8mSPtpGPYMlXSFpZurTXWm9VyQ1luqc3lLaVjMzMzOrT48ZWZW0M/B94OCImC1pC+BWSbMj4sFOaOLOiHhveUdE/KId530eeDEi3pb6uS3QkI4tiYixndA3MzMzM4+s1tDpc1YlbS7ptjRCepukzST1kfSMCutIapK0Typ/p6S3AqcB34yI2QDp328C/5PKTZE0Lm2PlDQnbY9OdTyUHntm9HWipNNK9X9H0v2SnkrpVQE2Ap6vnBMRT6YkAWZmZmbWxbriBqsLgEsjYgxwBfDjiGgEngJ2APaiSI26d1q7dFRE/B3YMe0vm5bOac1LFKOxuwLHAj9uodzepa/rv9pCmb4RMR74AnB22ncx8CVJ90g6T1I5Z+qgUp1/aKOfZmZmZq1yutXmumIawB7A+9P2ZcB30/adwD7AFsC3gP8C7gAeSMdF8xSp7bl1tx9wgaSxFClXt2mhXLNpADVU0rg+yJtrtk6XtCVwCHAQ8ICkPSLicdoxDUDSBGACwHvXHc9uQ97ajksyMzMzM+iepasqAeidwN7AeIrF/NcB9qNIjQrwKDCu6txdKUZXoVhCtNLfgaUypwIvAjun8/t3oK+Vr/cbKQXyEbEoIn4fEZ8GLgfe3d4KI2JSRIyLiHEOVM3MzKxVoa599EJdEazezZvZo04A7krb9wF7Ak0RsZQiDeqnKIJYKG6u+nLljvr07xeA76Xjc4Dd0nZ5lYDhwAsR0USRkrWOJY1bJumdkkak7f4U0xKe7cw2zMzMzKy2jk4DGCxpbun5D4FTgIslnQ7MAz4GEBHLJD0H3JvK3gkcD8xMx6dL+hLwpzSXdTSwf0Q8mcp/H/iNpI8Afy21+TPgd5I+CNwOvNHBa6q2FfBzSaII7v8P+F0nt2FmZmbWa+eVdqUOBasRLeawO6CF8nuXtq8Erqw6/nvSvFFJ3wbOk3RoRCyPiCeAMaXiX0vnPF21/8tp/xxgp7Q9BZhSoz8TS9v7lbbn8+ac1UuBS1u4niG19puZmZlZ5+gx66xWi4gzV3UfzMzMzLpTNPXOeaVdqccGq6ujEZkTmwfW8VXAu985t+1CJfNmDWy7UJVRn827UWzi917ObuO0htwP6xJGjsxLqDZ8y+WZbcCcaetklf+rhma3sX/fV7PKb37Iiuw2+rx1VFZ5bbNddhu37fiVrPIHPvrN7DaeHXtWVvlX6pjR/vlz8l4rgGV/uT+rfL+t3pLdxs2T8sofeMd/Z7ex94+/nVV+zp/z/6SMfk9j9jm55t6cV36dDZZkt/Gbf26Sfc6A6vVv2rBhQ/4fhfXJ+z03r0/+34QNM38Fza0j8vjiL8bnndDk79JXJw5WbbWQG6iamZn1RJ6z2lx3LF1lZmZmZlaXHhesStpA0pUpPeuDKXPUUTXKjZY0q8b+cyQd1I52dpEUkg7trL6bmZnZ/2fvvuPsqur1j38ekkkjpBCKKCWooUOChEg3KvoDRUABIxeUiIpy4aJwsaIYwYJYuEhswauAShGp4qVICQk1CSGFUIWANAkQjAnpM9/fH3sd2DlzpqyTmWEmPO+8zmv2WXu1fWbmzMo6a6+vrY0IdeqjJ+pWg9W0PdTVwJSIeHtE7EaxZ+vmVflaXL4QEadHxM3taO5Iij1gj2ypL5K61etjZmZm9mbT3QZj7wNWRsSvKgkR8VREnCdpvKTLJf0FuKmlCiRdIOlwSQdK+lMpfWwqWxkUHw6MBz4oqV9KHy7pIUm/AGYCW0j6YJrdnZnaH5jyni5puqQHJE1KdZqZmZnVLZo699ETdbfB6o4Ug8SW7AkcE4CcmagAACAASURBVBE193Gt8jdgD0nrp+fjgMvS8d7A/Ih4nGL/1XL41G2BiyJiV4oAA98E9o+ISujXU1K+iRGxe0TsBPQHDmpHn8zMzMxaFE3q1EdP1N0Gq2uQ9HNJsyVNT0l/i4iF7SkbEauBG4CPpGUDHwauSaePBC5Nx5ey5lKApyKiEmVrD4rwqndKmgUcA2yVzr1X0r2S5lLMCO/YwjUcJ2mGpBl3LXmsPV03MzMzs6S7bV01Dzis8iQiTpC0EcWMJuSHUr0MOAFYCEyPiMWSeqU2DpZ0GiBgmPTahpjlNkQxQF5jXWtaNvALYHREPC1pAlBzc7qImARMAjh3y6Mzd9UzMzOzN5PwSKGZ7jazeivQT1J59+oBa1HfZOBdwOd4fQnA/sDsiNgiIoZHxFbAFcChNcrfA+wt6Z0AkgZI2obXB6YvpTWsh69FH83MzMysBd1qZjUiQtKhwDmSvgK8SDHT+VWKdaHVtpVUDtl0clV9jZKuo7iR6piUfCRwVVU9VwDHA1Oryr8oaTxwiaS+KfmbEfGopPOBucCTwHTMzMzM1lJPXVfambrVYBUgIp6n2K6qlgtK+Z4EGmrkubyqvhOBE0vPx9do81rg2vR0p6pztwK71yjzTYqbr8zMzMyskyi8OKLLnNMFa1a3Wpm3L8WQyI8rv7jlbW5rmp4fapqDVi7PLvNiU9+2M5UsrWMb3YN//Pas/Hef8kh2G+OWz87KP3Ob/Nj1ixfmfVO+u7pPdhvbZK7g2awxfzbh2FlnZJc5bvSXs/K/lbyfK4ABmRtv/135P+9bR973cHUdkzX7LGvMyr+K/EZ6kfe2uIHy37PqMX+9vNf30T75b++DM2fQ+tfxF2RQ3reQp2tNAXWwLVbll9mlz6Ks/Outl/9i7fTEdd1iSvPJUR/o1LHC8Fl/6xbXmaO7rVk1q0vuQNXenHIHqvbmlDtQNbPO1e2WAZiZmZm9WfkD7+Y6bGZVUqOkWWlf1JmS9uqAOkdJ+lDp+XhJL6Z2Zkm6qI3yY9MNVpWyE9PxBEnPpjoelvTLtkKrSjpU0g6l55MljV67KzQzMzOz1nTkMoBlETEqIkYCXwd+0AF1jmLN6FIAl6V2RkXEp9ai7nMiYhTFpv87A+9pI/+hKa+ZmZlZp3AEq+Y6a83qIOAVAEmbSZqSZjEfkLRvSl8i6YeS7pN0s6QxabbyCUkHS+oDnAGMS2XHtdRYeZZT0kaSnszoax+KfVMr/f2cpOlphviKtLfqXsDBwI9SX96Ryh4haZqkRyvXZWZmZmYdpyMHq/0rH6sDvwHOTOn/AdyYZjFHArNS+vrA5IjYDVgMfBf4APBR4IyIWAmczuszqZVN/SuD11mSPr0W/T05hVB9Hng0Iir9ujIidk8zxA8Bn4mIuyi2tvpy6svjKW/viBgDfAn49lr0xczMzIwIdeqjJ+qMZQDbAQcAF0kSxYb5n04hSXeOiMUp/0rghnQ8F7g9Ilal4+GttFNeBvC7tehvZRnAJsD6kip7u+4kaaqkucBRwI6t1HFl+npfS32WdJykGZJm3L3ksbXorpmZmdmbT6csA4iIu4GNgI0jYgqwH/As8HtJlXWmq+L1TV6bgBWpbBP5uxSs5vVrydpzJA2Qb0h9hCLwwIkRsTPwnTbqW5G+NtJCnyNiUkSMjojRew4ckdM1MzMze5OJps599ESdMliVtB3QC3hZ0lbAgog4H/hf4F0ZVS0GNmhHvieB3dLx4Rn1k2Z/9wIqH+1vADwvqYFiZjW3L2ZmZmbWQTpjzeos4DLgmIhoBMYCsyTdDxwGnJtR523ADm3dYAX8GDhe0l0UM7rtUVmz+gDFrOgvUvq3gHuBvwEPl/JfCnxZ0v2lG6zMzMzMOkxTqFMfPVGHBQWIiF4tpF8IXFgjfWDpeEKtcxGxENi9qugFNep6GNillPTNlD4ZmJyOL6iUTe2t0Waprl8Cv6yRfidrbl01tnTuJVpfZ2tmZmZmdXC4VTMzM7NuojvsBiDpAEmPSPq7pK/VOH+KpAclzZF0S1ryWTlXCRI1S9K1HfGaKBzXq8uctdXRWS92Qx3fmtwiQ+tYbP1sr7xWdl2R38j9ffP/H9WPvI83BtZx7YMa88vkuq/P6qz8mzflf0CS++our+OTo9yf39V1tPGIlmXlnzTjR9ltfGf0N7PLDIq8V3hYHT9Xub+HDZm/H5D//vBEr/wL2bD2h3Itqucv1kaZ3Xopr0tAfe/XG2S+vvV8gpv3blLf7/rAzGv/53r5L1bu+3vvOr4fp/7jD93iM/JHtjuwUwdm2z58favXKakX8CjFdqLPUOzqdGREPFjK817g3ohYKul4YGxEjEvnlpQ/Pe8IHbYMwOyNlPtGZmZm1h11gyhTY4C/R8QTAJIuBQ4BXhusRsRtpfz3AEd3Zoe8DMDMzMysm4jo3Ed5//f0OK6qC28Dni49fyalteQzwPWl5/1SvfdIOrQjXpO1HqyW1ibMljQzhSZd2zpHSfpQ6fl4SROr8rwWYrWVesphWI+Q9JCk2ySNlbQo9XtOCve6SWafJkg6tb4rNDMzM+t65f3f02NSVZZaU7s1lyZIOhoYDZTXWG0ZEaMpIpj+T0fsoNQRM6uVyFUjga8DP+iAOkcBH2ozV57PAP8ZEe9Nz6emfu9CsR7jhDegT2ZmZmaviSZ16qMdngG2KD3fHHiuOpOk/YHTgIMjohIkiYh4Ln19gmJHpl3rfzUKHb0MYBDwCoCkzSRNSbOXD0jaN6UvkfRDSfelGc0xaQb0CUkHS+oDnAGMa8f+qqQ6f5mmnOdJ+k6N86cD+wC/kvSjqnOi2Oy/0u8xku5K+6neJWnbVvq0Q6nvJ9X7opmZmZl1E9OBEZK2TuOfTwBr3NUvaVfg1xQD1QWl9KGS+qbjjYC9Ka11rVdH3GDVP22u3w/YDHhfSv8P4MaI+F66s2xASl8fmBwRX5V0FfBdijvOdgAujIhr0+BydEScCMUyAIqB4j6ldt9ZOj4tIhamdm6RtEtEzKmcjIgzJL0PODUiZkgaC+yb+j0MeBX4Rsr+MLBfRKxO/2v4fkQcVqNPE4DtgPdSDHYfkfTLFL7VzMzMLNsbvXF/Gv+cCNxIEY30txExT9IZwIyIuJbiY/+BwOXFnB//iIiDge2BX0tqopgQPau8i0C9OmKwuiwiRgFI2hO4SNJOFCPz36awpVdHxKyUfyVwQzqeC6yIiFWS5tL6xvqXVQaKqa3JpXMfTwuEe1MMmHcA5tC6qRFxUKrrq8DZwBeAwcCFkkZQrNFoaKWOv6ap7xWSFgCbUkyfvyb16ziAj244hjEDR7TRLTMzM7M3TkT8H/B/VWmnl473b6HcXcDOHd2fDl0GEBF3U4Q73TgipgD7Ac8Cv5f0qZRtVby+uWsTsCKVbaKOwbOkrYFTgfen9ad/pZjlzXFt6ivAmcBtEbET8JE26lpROm6kRv/LC5k9UDUzM7PWdIegAN1Nhw5WJW1HMWX8copmsCAizgf+F3hXRlWLKT5ab49BFB/jL5K0KXBgRjsV+wCPp+PBFANsgPF19snMzMzMOkBHrlmFYruDYyKiMa0L/bKkVcAS4FMtVVDDbcDXUr2t7i4QEbMl3Q/MA54A7mxnG5U1qwIWAZ9N6WdTLAM4Bbi1nj6ZmZmZ1cOBRZtb68FqRO1YeRFxIXBhjfSBpeMJtc5FxEJg96qiF1TlHVs6Ht9CH8a2cDyZYga1Vpm7gW1KSd9qpU/lcju1dM7MzMzM6uNwq12ob+b/lrZfkRvVGYb1XtF2ppIFq3OX98InTuiTlf+YX72S3cbvPpJ/7bEsbyOGF+/NXwUz9ZWNs/I/2JAfK/2kwS9n5e+7fv5r1XdYXlDy3kPy3yp+c/tmWfm/eMbm2W1899v/yMo/YfQ3swPzfnvGdzNLwC07fqPtTCWjRz2f3caMWXmv736n9M9u48lJC9rOVHL0ITXnLloVq/N+FhtfeDW7jYenDs0r0ARDBy3LKnLu8vxVYiOb8t5Ll9Sx3HBo3svL0joWB/bLfJvrt17+hZx0Yt5rxYABbefppt7o3QC6I4dbtXVC7kDV3pz8J8DaI3egamadyzOrZmZmZt1ET71jvzP1uJlVSY0pilTlMbyN/E+mKApIWpK+Dpe0LJWfXYlU1UY9wyX9R+n5eEkT1/6KzMzMzKwlPXFm9bUgBGvp8VIwg89TRLA6ppX8wymicl3cAW2bmZmZNePdAJrrcTOrtVTPckq6Lm2d1V6DgFdS2eGSpkqamR57pTxnkba7knRySnurpBskPSbp7I64FjMzMzN7XU+cWS3v6zo/Ij5aZz3vSPVsAAwA3p3SFwAfiIjlKeTqJcBo4GvAqaUQreOBUcCuFJGsHpF0XkQ8XWd/zMzM7E3OuwE01xMHq52xDGAcMAk4AGgAJkoaRRFCdZuWq+CWiFiU6ngQ2ApYY7Aq6TjgOIAjho5hT4dcNTMzM2u3dWIZALCaNa8ld/PQa4H90vHJwAvASIoZ1dY2dytvatpIjcF/REyKiNERMdoDVTMzM2tNhDr10ROtK4PVJ4FRktaTtAUwJrP8PsDj6Xgw8HxENAGfBCq7XC+mWDJgZmZmZl2kJy4DqOVOYD4wF3gAmNmOMpU1qwJWAp9N6b8ArpB0BHAbUAmXMgdYLWk2RejX/LBMZmZmZq3wmtXmetxgNSIG1kgL4KgW8g+vLhsRTwI1Yw9GxGPALqWkr6f0VcD7q7JfUCp3UDu6b2ZmZmYZetxg1czMzGxd5W1Wm/NgtQvlLhDeQKuz23iA9bPyL2nt9rEWbPfHf2bl31bDstt4+vpFmSX68K+leffVNazXlNkGvNKr7TxlG0T+svDf/2uTrPyrc18q4MXnVmXl/8k33pbdxvIpC7Lyr7hpWnYbA2KzrPwN5H+8dsuO38gu8/5538/K/9DoL2a3cXv/vJ+tXa+fn93G0hVDsvLPuzT/571vQ9773L+Wb5Tdxr/UkJW/1+L84ULfhvxrX5xZZLP8PwnZ71kNdYyUXspso56bZf550TNZ+fsMyH+xBpyQXaRTeBlAc+vKDVb2Jpc7UDUzM7OewTOrZmZmZt1ET91eqjP1mJlVSUuqnq8RYrWFMq/lkbSxpHsl3S9pX0lPSpqbwqfOlXRIO/rwjdLxcEkP1Hs9ZmZmZta2HjNY7QDvBx6OiF0jYmpKe2+KYnU48LN21JG/eM3MzMysnZo6+dETrRODVUkfKc2a3ixp06rzo4CzgQ+lmdTqbasGUdo3VdLVku6TNC+FS0XSWUD/VP6PKWsvSeenfDfVqNfMzMzM1kJPWrPaP23iX7EhRZhUgDuAPSIiJH0W+Arw35WMETFL0unA6Ig4EUASwG0qDt4OfLxU97ERsTANPqdLuiIivibpxDQTi6ThwAjgyIj4nKQ/AYcBf+jwKzczM7M3hahj15J1XU8arC6rDBShWI8KjE5PNwcuk7QZ0IcimlV7vDciXpL0DuAWSZMjYglwkqSPpjxbUAxKX65Rfn5EVAbQ9wHDqzOkmdnjAD4+dAx7DRzRzq6ZmZmZ2TqxDAA4D5gYETsDnwey9jGKiMeBF4AdJI0F9gf2jIiRwP2t1LeidNxIjcF/REyKiNERMdoDVTMzM2tNU3TuoydaVwarg4Fn0/ExuYUlbQJsDTyV6nolIpZK2g7Yo5R1lZS5u7SZmZmZ1a0nLQNozQTgcknPAvdQDDzb4zZJjUAD8LWIeEHSDcAXJM0BHkn1VUwC5kiaCZzWYb03MzMzA5q8ZrWZHjNYjYiBVc8vAC5Ix9cA19QoU87z2nF6PryFdlYAB7Zw7qvAV0tJO5XO/bitazAzMzOzPD1msGpmZma2rvNuAM15sNqF+mXuxjulb368+8MGvJSV/5FXhma3MfulYVn539KQvzT6QgblFegL60deOzutyF9pPr9hVVb+t0b+Eue9VqxoO1PJ4736Zrexx+q816pp/j+y29hxRV6/Gt6xSXYbf79zeVb+fVbnb4U8etTz2WUeGv3FrPzbzzg3u42PjfzvtjOVDPriAdltPHP8nKz80/PfsthlRd4f5hW98/+Qr8ossrpxQHYbO6zO79dLvfLyL63jLpMhjXn5X65jVDAo82/bc73y33ufeXFwVv6BDSuz29g8u4R1FQ9WbZ2QO1A1MzPrjnpqlKnO1K6/8JIaU+Sm2ZJmStorpxFJEySdWl8X6ydpV0kh6f+V0oZLeiCznoGSfinp8RQl6z5Jn+v4HpuZmZlZWXuno5ZFxKi07+jXgR90ROOSOntm90iK6FZHrmU9v6EIxzoiInYFDqCIoLUGSZkf6piZmZm9LlCnPnqiej47HUQxcANA0pclTZc0R9J3SumnSXpE0s3AtqX0yZK+L+l24IuStpJ0Syp/i6QtU76W0i9Is5y3SXpC0nsk/VbSQ5IuKLUj4HBgPPBBSeXVVL0lXZjq/rOkAZIOTCFTK+XHSvpLim41BvhmRDQBRMSLEfHDUr7bJF0MzK3j9TQzMzOzFrR3sNo/LQN4mGKW8UwASR+kCEU6BhgF7CZpP0m7AZ8AdgU+BuxeVd+QiHhPRPwEmAhcFBG7AH8EfpbytJQOMBR4H3Ay8BfgHGBHYGdJlZCse1OEQ30cmAx8qFR+W2BSqvvfwH8CfwP2kLR+yjMOuCzVO7syUG3BGOC0iNihlTxmZmZmrWrq5EdPlLsMYDuKj8AvSjOXH0yP+4GZwHYUg9d9gasiYmlE/Bu4tqq+y0rHewIXp+PfA/u0kQ7wl4gIipnMFyJibhpMzgOGpzxHApem40tZcynA0xFxZzr+A7BPRKwGbgA+kpYnfJgae7emGeNZkp4rJU+LiPnVeVP+4yTNkDRj6quP1cpiZmZmZi3IXjMaEXdL2gjYGBDwg4j4dTmPpC8Bre1N8WprTbQjvbK3T1PpuPK8d1o7ehhwsKTTUj+HSdqghTYqzy8DTgAWAtMjYrGkB4GRktaLiKaI+B7wPUlL2nM9ETGJIvIVv9786B4aldfMzMy6Qk+d/exM2WtWJW0H9AJeBm4EjpU0MJ17m6RNgCnARyX1TwPEj7RS5V0USwYAjqK4Iaq19PbYn+Kj+y0iYnhEbAVcARyazm8pac90XLkJC4rlAu8CPkea/Y2IvwMzgO9WbqBK61975iplMzMz67Z8g1Vz7Z1Z7S9pVjoWcExENAI3SdoeuLtYFcAS4OiImCnpMmAW8BQwtZW6TwJ+K+nLwIvAp9tIb48jgauq0q4Ajk99eQg4RtKvgceAXwJERKOk6yhuyjqmVPazwI+Av0taCCxjzbCrZmZmZtYJ2jVYjYgWt2SKiHOBZuFXKh+X10gfW/X8SYqbparztZQ+virPTjXO/blGuWt5fe1sizdCRcSJwIlVaf8GPt9C/skUM7JmZmZma6WpZ05+diqH/TEzMzOzbsvhVrtQblzncYMWZLdx5aK8+Oqr88PKcz9L2s5U8jblBwx/PvJivgP0y43J0De/X/0y/3+3stX7DGt7sCHvm/JUr/zl+A2R96v/54vy3yoW9cnLf+Ok7CbYOvN7+GwdMclnzNosu8zt/fN+Tj428r+z2xg1+ydZ+R/f68S2M1W5sd/A7DK55vVtyMrfWMftJ8syy/TtnT+PM3x150+HPd07/+d3YOT16y2rs5tgSebLtXEdU4cX9cu79sY6hje/yy7ROZp66LrSzuSZVVsnZA9UzczMrEfwzKqZmZlZN+E9LpvrkJnV8p6jkj4k6TFJW0r6gqRPpfTxkt7aRj3jJU3siD6V6rxG0t1VaRdIOjyzngMkTZP0cAoKcFklBKyZmZmZdY4OnVmV9H7gPOCDEfEP4Fel0+OBB4DnahTtFJKGUOybukTS1i1FmWpHPTtRXNfBEfFQSjuYIlrWP6ry9k7RsMzMzMyyOChAcx22ZlXSvsD5wIcj4vGUNkHSqWkWczTwxzQr2V/S7pLukjQ7zVhWoku9VdINaXb27FL9H5R0t6SZki4vBSJ4UtJ3UvrcFLSg4jDgLxThVj/BmvaXNFXSo5IOSnXdK2nHUpuTJe1Gsafq9ysDVSi2woqIKaV835d0O/DFDng5zczMzIyOG6z2Ba4BDo2Ih6tPRsSfKaJAHRURo4BGighRX4yIkRQRp5al7KOAccDOwDhJW6Twrt8E9o+Id6W6Tik18VJK/yVwain9SOCS9DiyqlvDgfcAHwZ+laJSXQp8HEDSZsBbI+I+YEdgZhuvwZCIeE9E5N2ia2ZmZpY0SZ366Ik6arC6iiI86mfamX9b4PmImA7Fpvulj85viYhFEbEceBDYCtiDYiP/O1MkrWNSesWV6et9FINQJG0KvBO4IyIeBVanj/Mr/hQRTRHxGPAEsB3wJ+CIdP7jwOXVHZc0LM0OPyqpPDC+rNaFSjpO0gxJM+5e8ljbr4yZmZmZvaajBqtNFIO73SV9ox35Rcs3vK0oHTdSrKsV8LeIGJUeO0TEZ2qUqeSHYnZ2KDBf0pMUg9jyUoDq9iMingVelrRLKn9pOjePYu0rEfFymh2eBJQ3IXy11sVExKSIGB0Ro/ccOKKFSzYzMzMrBied+eiJOmzNakQsBQ4CjpJUa4Z1MVBZl/owxdrU3QEkbSCptZu97gH2lvTOlH+ApG3a6NKRwAERMTwihgO7seZg9QhJ60l6B/B24JGUfinwFWBwRMxNaWcDp0navlR+QBvtm5mZmdla6tDdACJioaQDgCmSXqo6fQHF2tBlwJ4UM5fnSepPsV51/1bqfVHSeOASSZXwPt8EHq2VX9JwYEuKQW6ljvmS/i3p3SnpEeB2YFPgC2nZAcCfgXOBM0tl50r6InBRuhHsZYpdAL7d8qthZmZmlse7ATTXIYPViBhYOn4a2Do9vaaUfgVwRanYdIq1qGUXpEelzEGl41uB3Wu0Pbx0PAMYm56+rUbed6XDe1u5lheo8bpExF+Bv7ZQZmytdDMzMzNbO45gZWZmZtZNNPXMG/Y7lQerXahv5srmW17ZJLuNT237dFb+Jx4alt3G8R9YnJX/R7fnL+89bOX62WW20LK2M5VsPOzF7DZyvyf/7JW/nP09/RZm5e83YFV2G0N3yItb0ff9u2a3cdtpefE/3n/78dltzDpgUlb+/pH/V2C/U/pnl9n1+rz4I4O+eEB2G4/vdWJW/nfclR8c8FsHt3eDl8JDj+e/Z40c9UxW/tXL8r+Hjz66cVb+of1r3i/bqpvXG5xdpiHz7WGz1fnX3r8pr5GXe+e3kfs2t6CO98Vzj+3bdiZbZ3mwauuE3IGqmZlZd9SEp1artWs3gNLeorMk/VPSs6XnfWrk31DSF0rP3ylpWcr/kKQL2rj7P4ukv0qaWpX2B0mHZtbzIUnTJT2c+nqJpM3bUa63pH/l9tvMzMzMWteuwWplb9G0v+ivgHNKe56urFFkQ+ALVWmPpPI7U9yAddjadLxC0rBU56aStlyLekYC/wMcHRHbAbtSbPS/VY28npE2MzOzDud9Vptb631WJX1F0gPp8V8p+Sxg2zQ7eVY5f4pUNZ10t76kz0q6UtJ1kuZLOl7SlyXdL+kuSUNSvpMlPShptqQ/lKo8HLiaYmA5rqp7/0/S1BRt6sBUzwxJ25b6f0caqH4NODMiHkn9jIi4OiLuLOX7nqQpwImS3iHpXknTgQlr+zqamZmZNalzHz3RWg1WJY0BjgLGUOyd+p8p+tPXSDOpEfG1qjL9KbagurGUvCPFQHMP4IfAKxGxK0X41KNTnq8AoyJiJFC+s+BI4JL0OLKqi1sA7wE+AkxKe7ReRhFti/QR/7CImJ36MLONSx4UEftFxP8A5wHnRsTuQP6dOmZmZmbWprWdWd0XuCIilkbEYooZzn1ayLutpFkUG+r/PSLmlc7dGhGvpj1OlwB/SelzKcKkQhHy9A+SjgJWAUh6G2nz/4h4EOglabtSvX+KiKY0W/o0MAL4E3BEOj8uPV+DpE3SrPBjkr5UOnVp6XhPioEvwO9buGYkHZdmc2fcseSxlrKZmZmZ0dTJj55obQerORPKlTWr7wTeI+lDpXMrSsdNpedNvL5jwf+jWC87BpghqRfFYHMYMF/SkxQD13JI1erlGRERTwFLJO2QylcGnPOAd6VMC1Jf/xcYWCpf3s+kXcs/ImJSRIyOiNH7DBzRVnYzMzMzK1nbweoU4KOS+ksaCBwCTAUWAxvUKhARzwFfT492SQPTzVMUqy8DGwMDKD723z8ihqdIVmNYcynAESpsQ7EkoDK1eVlqv2+akQU4Gzi9vJ41tdGSe0jLCSiWQpiZmZmtFd9g1dxaDVYjYhrFWtHpFIO3X0bE3PRx/gxJc6tvsEr+DGwoac92NtUbuFjSHIp1pT8ENgHeAswo9ecxYIWk3VLS3ykG1H8BjivtXHA58B+UlgBExP3AKamdRyTdSTELXP7ov+wk4GRJ01hz9tXMzMzMOkj2FkwRMaHq+dkUs5LV+arvzB9VOhcUNzQB3F1VbvPS8W9Kp/au0Z0tarS7Szo8uvpcKc9zQK8a6X/h9fWy1ef2qXr+d+DdpaQftNSemZmZWXv01Dv2O9Nab11lZmZmZtZZvLl9F/p35n8NltexuuRfz+XFMd9oSH4M7KYljVn514/8/xMNbsqLd/9vGliqZpPlrRq0fHlWfoD9Br6clf+OJcOy27hn6YZZ+T/0trzY6oW8/7rPOf3J7BZm92ttyXdz+/6s1oqh1u2zLC8e+xN98t/ynpy0ILvM0hVDsvI/c/yc7DZu7Je3+uhbB38mu42Nr/3frPzXjzo9u40RL+d9T1Yuzf8e9u+1Oiv/K8v6ZbexvI7Q9QMy3+K3acoPK/0cedeyoo5ZvUGZ19G7jnCiTQsWZuVXv4bsNrqLnnrHfmfyzKqtE3IHqmZmZtYzeGbVzMzMrJvwzGpz3WZmVVJj2oi/8hguabSkn3VgG09K2qij6jMzMzOzztWdZlaXpY34y56ktDVVeN6iuwAAIABJREFUhaTeEZG3CMnMzMysmwvvBtBMt5lZrUXSWEnXpeMJkiZJugm4SFIvST+SNF3SHEmfL5WZIukqSQ9K+pWkZtcp6WpJ90maJ+m4UvoBkmZKmi3plpS2vqTfprbul3RISt9R0rQ0EzxHkkNUmZmZmXWg7jSz2l/SrHQ8PyI+WiPPbsA+EbEsDTAXRcTukvoCd6aBLBSRrHYAngJuAD5GEYig7NiIWCipPzBd0hUUg/fzgf0iYr6kym3ZpwG3RsSxkoYA0yTdDHwBODci/iipDzX2bjUzMzNrL69Zba47DVZrLQOodm1EVPbu+CCwi6TD0/PBwAhgJTAtIp4AkHQJsA/NB6snSaoMiLdIZTcGpkTEfICIqOyV8UHgYEmnpuf9gC0pAhqcJmlz4MoUQWsNaVB9HMBHNxzDmIGefDUzMzNrr+40WG2P8qagAv4rIm4sZ5A0lubhb6NGnv2BPSNiqaTJFANQ1ShbaeuwiHikKv0hSfcCHwZulPTZiLh1jYYjJgGTAM7a6uieGpbXzMzMuoBnVpvr1mtW23AjcLykBgBJ20haP50bI2nrtFZ1HHBHVdnBwCtpoLodsEdKvxt4j6StU52VZQA3Av8lSSl91/T17cATEfEz4FpgF8zMzMysw/S0mdWy3wDDgZlpEPkicGg6dzdwFrAzMAW4qqrsDcAXJM0BHgHuAYiIF9PH9lemge4C4APAmcD/AHNSW08CB1EMhI+WtAr4J3BGp1ypmZmZvSn4I9jmus1gNSKaxQ6MiMnA5HQ8oepcE/CN9HhNmvxcGhHjatQ3vPT0wBb6cT1wfVXaMuDzNfL+APhBrXrMzMzMeiJJBwDnUtw4/puIOKvqfF/gIoob318GxkXEk+nc14HPAI3ASdXLNevRbQarZmZmZm92TW/wPquSegE/p/hk+RmKHZOujYgHS9k+Q7Gc8p2SPgH8EBgnaQfgE8COwFuBmyVtExGNa9OndW6wWp6N7W4aMuf2t16V38a0VXkBup5uyG/jpNF5O3RdemezTRLadMrt+RPWTTNuajtTyVNn3J/dxrOvbJCVf17//NgVH1+5Mit/48r8d7an72n2QUarHmNAdhurMz/MevL6/LejVeRd+xO98t8vjz4kf0e6eZfm3Q4wvV92E9keenyT7DLXjzo9K/+nZuWvhFp1yY/zCqzI+/0AWDrxhaz8fRvyf2+vWrkgu8z4Xltk5b+mb5/sNoZl7jC/op4PodfLa6NPHU2oX94fKw0dnN9IN9ENbrAaA/y9tKvSpcAhQHmweggwIR3/GZiYlkkeAlwaESuA+ZL+nuq7e2061JNvsDJ7Te5A1czMzGp6G/B06fkzKa1mnhRRdBEwrJ1ls61zM6tmZmZmPVVnz6yW939PJqVtNl/LUqNY9Xx4S3naUzZbl8ysStpU0sWSnkghTu8ubcjfZVJ41EdT1KpK2l/TeovqvGMlLSqFUr1Z0ibp3HhJE9PxoWmNhpmZmVm3FhGTImJ06TGpKsszFMGSKjYHnmspj6TeFFuCLmxn2WydPlhNaxiupogM9faI2I1i8e3m7SzfYSFMI2IecCVF+FQkHQo0RMSlVW1WZpynRsSoiNgFmA6cUKPaQylCu5qZmZmtlejkRztMB0ak/er7UIzZrq3Kcy1wTDo+nCIkfaT0T0jqm/asHwFMy7n+WrpiZvV9wMqI+FUlISKeiojzJA2XNFXSzPTYC16b1bxN0sXA3JR2dZqVnZemsEnpn0mzpZMlnV+a8dxY0hWSpqfH3qnIGcARkkZR7MV6Qso/QdIkSTdRbMdAqQ0BGwCvVKXvBRwM/CjNwL6jA183MzMzsy6V1qCeSBEQ6SHgTxExT9IZkg5O2f4XGJZuoDoF+FoqOw/4E8XNWDcAJ6ztTgDQNWtWdwRmtnBuAfCBiFguaQRwCTA6nRsD7BQR89PzYyNiYfoIf7qkK4C+wLeAdwGLgVuB2Sn/ucA5EXGHpC0pXvTtU9SqUymCBfw0Isq3qu8G7BMRy1JI1n0lzaJYNPwqVXu6RsRdkq4FrouIP9e6wPLakMOHjmGPgSNaf7XMzMzsTeuN3roKICL+D/i/qrTTS8fLgSNaKPs94Hsd2Z8u3w1A0s8lzZY0HWgAzpc0F7icNT9On1YaqAKcJGk2RbSpLSimlscAt0fEwohYleqo2J9iK4VZFNPSgyRtABARfwH+BfyiqnvXpgAAFZVlAFsAvwPOzr3e8toQD1TNzMzM8nTFzOo84LDKk4g4QdJGwAzgZOAFYCTFwHl5qdyrlYM0y7k/sGeaGZ0M9KP2XWcV66X8y1o430Tzm+5erZUxuRa4opXzZmZmZmulG+yz2u10xczqrUA/SceX0io7jA8Gnk+hUz9JEdarlsEUkRKWStoO2COlTwPeI2louinqsFKZmyjWXACQ1qiujX2Ax2ukL6ZYz2pmZmZmHazTB6vp7rBDKQaV8yVNAy4EvkrxMfwxku4BtqHlmc0bgN6S5gBnUiwFICKeBb4P3AvcTLGgd1EqcxIwOm079SDwhTq6v2+6cWo2xWD6v2vkuRT4sqT7fYOVmZmZrY1usBtAt9MlQQEi4nmKrQ9q2aV0/PWUfzKlkKkpbNeBLZS/OCImpZnVqyhmVImIl4BxrfRpeNXzCVXPJ1PM6NYqewFwQTq+E29dZWZmZtYp1oUIVhMk7U+xhvUmij1du6XceMiP5IeB5pND8mJgz//n0Ow2NHSzrPzb9N04u43Vfz4/v8wjz2fl32jr/Pjfyx/O+5UZEvkrRPr2ztvlY/1t87ciHrj98rYzlSz+v/wfxvuUF8t7+Ifzdzd59vK8X6r3LYNZ/fK+h7E6fwVZbmz5XVbk3/47r2/e6zty1DPZbYx4Oe+1WnXJj7PbaDjy1LwCq1Zkt8HEr2Rlb2zK/9Bxxz4bZZfplfkWtN2q/N/1VzMvZWkdn7cOzPwVeb5X/vxer1E75RVYv+euzmvqsfOfnafHD1YjIvOdztZFuQNVe3PKHaiamdkbz+/cZmZmZt2EdwNorkv3WZW0qaSLJT2RolHdLemjXdmHqv4cKGmGpIckPSwp/zMsMzMzM+s0XTZYTSFLrwamRMTbI2I3ipuuNm9n+fzFOq3XtxMwETg6IrYHdgKeyCjvWWkzMzPrUN4NoLmunFl9H7AyIn5VSYiIpyLiPEnDJU2VNDM99oIiGICk2yRdDMxNaVenWdl5KZQpKf0zkh6VNFnS+ZImpvSNJV0haXp67J2KfAX4XkQ8nPqyOiJ+kcp8RNK9aTuqmyVtmtInSJok6SbgIkk7SpqWtreak0LGmpmZmVkH6crZwR2BmS2cWwB8ICKWpwHfJcDodG4MsFMp9OqxEbFQUn9guqQrgL7At4B3UWzSfyswO+U/FzgnIu6QtCVwI1CZSf1JC/25A9gjIkLSZykGtpU9VncD9omIZZLOA86NiD9K6kPLQQ3MzMzM2uQ1q829YR9lS/o5RVSolRShVCemKFONFAECKqaVBqoAJ5XWuW4BjADeAtweEQtT3ZeX6tgf2KFYhQDAIElt7WmxOXCZpM2APkC5/WtLIVzvBk6TtDlwZUQ8VuM6jwOOAxg3ZAx7D/Tkq5mZmVl7deUygHkUM58ARMQJwPuBjYGTgReAkRQzquVNHV+LaiVpLMXgc8+IGAncT7G/amubFK6X8o9Kj7dFxOLUn91aKHMeMDEidgY+n9po1p+IuBg4GFgG3CjpfdUVRcSkiBgdEaM9UDUzM7PWNKlzHz1RVw5WbwX6STq+lDYgfR0MPB8RTRRhTVv6OH0w8EpELJW0HbBHSp9GEc51aLrx6bBSmZuAEytP0uwtwI+Ab0jaJqWvJ+mUUjvPpuNjWrogSW8HnoiInwHXsmY0LjMzMzNbS102WI2IAA6lGFTOlzQNuBD4KvAL4BhJ91B8fP9qC9XcAPSWNAc4E7gn1f0s8H3gXuBm4EFgUSpzEjA63QD1IPCFVGYO8CXgEkkPAQ8AldBME4DLJU0FXmrlssYBD0iaBWwHXNT+V8TMzMxsTU1Epz56oi5dsxoRz1NsV1VLeVby6yn/ZGByqfwK4MAWyl8cEZPSzOpVFDOqRMRLFIPKWv25DriuRvo1wDU10idUPf8B8IMW+mNmZmaWpWcOJztXlwYF6GQT0gznAxQ3RF39BvfHzMzMzNbSOrOxfUSc+kb3oS2565pfVmN2GwM2XJmVv+8LdWySsXhxVvaBdcRPaHppUduZStYbNoCVj/07q0w9YR2GDlualb/Py4Oy21i2Kq9jvYatn91GriVNDdll+nXB/4U30Oqs/FHHW17jCy2tSmrZv5ZvlJV/Re/8ux4aMze4Wb0sv42VSzNfrxV57z8ArFqRl7+hb34bmfo25P1cAfRr7Px+1WNQ5lv8ojp+bRszf7Tq2uNx1aq8/MuXtZ2nm/LWVc2tSzOr9iaWO1A1MzOznmGdmVk1MzMz6+l66k1QnanLZlYlbSrpYklPpHCpd5c2939DSLpG0t1vZB/MzMzMrGVdMlhVET7qamBKRLw9Inaj2BVg83aW7/AwppKGUAQpGCJp6xbyeObZzMzMukx08qMn6qqZ1fcBKyPiV5WEiHgqIs6TNFzSVEkz02MvKKJVSbpN0sXA3JR2dZqVnZfCmJLSPyPpUUmTJZ0vaWJK31jSFZKmp8fepT4dBvwFuJTSdlqSLpD0U0m3AT+UtL6k36by90s6JOWr2W8zMzMz6zhdNXO4IzCzhXMLgA9ExHJJI4BLKEKuAowBdoqI+en5sRGxUFJ/YLqkK4C+wLcoZkkXU0TKmp3ynwucExF3SNoSuBHYPp07EvgORZjXP7PmfqnbAPtHRKOk7wO3RsSxaTZ2mqSb2+i3mZmZWTbvBtDcG/Ixt6SfA/sAK4H9gYkpDGojxUCxYlppoApwUmmd6xbACOAtwO0RsTDVfXmpjv2BHYpVCAAMkrQBRZjXdwJ3RERIWi1pp4h4IOW7PCIq+0Z9EDhYUmVrrH7AlsBzrfS7fK3HAccBfGLIGPYeOKJ9L5KZmZmZddlgdR7Fx+4ARMQJkjYCZgAnU8xujqRYlrC8VO61DQ4ljaUYfO4ZEUslTaYYOLa2w9t6Kf8aG65J+jQwFJifBrKDKJYCfLO63VT/YRHxSFUdE1rp92siYhIwCWDiFkf31OUiZmZm1gW8G0BzXbVm9Vagn6TjS2kD0tfBwPMR0QR8kpb3Cx4MvJIGqtsBe6T0acB7JA1NN0QdVipzE3Bi5UmaBYViCcABETE8IoYDlRu+arkR+K90kxiSds3st5mZmZnVqUsGqxERwKEUg8r5kqYBFwJfBX4BHCPpHoqP0lsKF3MD0FvSHOBM4J5U97PA94F7gZuBB4FK+KOTgNGS5kh6EPiCpOEUH+PfU+rffODfkt5do90zgQZgjqQH0nMy+m1mZmbWLt4NoLkuW7MaEc/T8uzlLqXjr6f8k4HJpfIrgANbKH9xRExKM6tXUcyoEhEvAeNq5H9bjf69Kx3eW5W+DPh8jfyP1eq3mZmZmXWcdWUf0QmS9qdYw3oTxZ6u3c6i9fL+T/O2yP/2THm4XVvXvuYtZMblBp745YKs/Ds1DcluY/7VuTHGB7Fydd5KjCWr8uPdD2zIi0+9eR23dd7V0D8r/wZXLGo7UxUp72dx0Xr5q1wGRV7A8GduzG4i234rlvNg735ZZR6eOjS7nX8p72drVWZsdYBlmfcMP/roxtlt9O+1Oiv/0okvZLfBxK/kl8m0/Yxzs/L/ceTp2W00NeS/ly7olfd7uET5byi7rMz73e2b+XsLkPdTAoOb8tt45fzpWfnX650/h9j/yOwincK7ATS3TgxWI+LUtnPZuix3oGpvTrkDVTMze+OtE4NVMzMzs3VB9NiVpZ2nQ2+wknSOpC+Vnt8o6Tel5z+RdMpatnGBpMPT8WRJj6QbqB6WNDFt3F9PvRNKe6mW0/eQdK+kWZIeSltWIWm8pBdT+ixJF63NdZmZmZlZcx29G8BdQCVc6nrARhTRqyr2Au7s4DaPiohdKG52WgFc08H1XwgcFxGjgJ2AP5XOXRYRo9LjUx3crpmZmb3JNHXyoyfq6MHqnaTBKsUg9QFgcdoDtS9FqNNZkn4k6QFJcyWNA1ChpfSJkh6U9Fdgk1oNR8RK4CvAlpJGprJHS5qWZj5/LalXSj9A0kxJsyXdUl2XpM9Juj6Fdd0EeD610RgRD3bYq2VmZmZmrerQNasR8VwKXbolxaD1boptovak2Pt0DnAQMIoi8tNGwHRJU1L+Wul7AtsCOwObUuyj+tsW2m+UNBvYTtJKim2r9o6IVZJ+ARwl6XrgfGC/iJgvacNyHZJOpAixemhErJB0DvBIiph1A3BhRFSiVY2TtE86Pjciflf/q2dmZmZvdo5g1Vxn3GBVmV3dC/gpxWB1L4rB6l3APsAlEdEIvCDpdmD3VtL3K6U/J+nWNtqv7InxforIVNNT8Kn+wAKKyFdTUiAAImJhqewngWcoBqqr0vkzJP2RYgD7HxTRr8am/JdFxIm0QtJxwHEAh2w4ht0HvrON7puZmdmblYeqzXVGBKvKutWdKZYB3EMxO1pZr9rSBmutbbzWru9d+ph/Z+ChVN+FpTWl20bEhJTeUn0PAMOBNTYrjYjHI+KXFAPgkZKGtac/qeykiBgdEaM9UDUzMzPL0xmD1TspPupfmNZ4LgSGUAxY7wamUHx83kvSxhQzp9PaSP9ESt8MeG+tRiU1AD8Ano6IOcAtwOGSNknnN5S0VerDeyRtXUkvVXM/RbSqayW9NZ3/sNLULDACaAT+tfYvk5mZmdmamohOffREnbEMYC7FmtOLq9IGRsRLkq6iGLjOppjh/EpE/LON9PelOh4Fbq9q74+SVgB9gZuBQwAi4kFJ3wRuSjsTrAJOiIh70kfzV6b0BcAHKpVFxB1pC6u/SvoAxdKAcyQtpQjUcVRaG9tBL5eZmZmZtaTDB6tpbemgqrTxpeMAvpwetDO95rrQiBjbRl8uAy6rkX49cH1V2oTS8Y1AJfjjJ1qo+wLggtbaNzMzM8vRU7eX6kydsQzAzMzMzKxDONxqF+oXeUsH6llZsmHT6qz8z63XN7uN4cNeycq/dMHg7DaWrmzILjOgz6qs/K+u6p/dxqLVef16sU92E+ywIu972HtQY3Yby5bnXcc7ei/JbuOFpg2y8g/ZdFl2G/e9umHbmUpe6pXdBEMH5ver1+K8397VjQOy2+jbO2+uYWj/V7PbeGVZv6z8fRvyfnYBGpvyrqOeNv448vSs/EfNPiO7jdmjv5Fdpn/m34S3r8r/AW7MXLG2uo4VbkMyvyUP98mfO2zKvJDIfG27E4dbbc4zq7ZOyB2ompmZWc/gmVUzMzOzbsJrVpvr0JlVSZtLukbSY5Iel3SupDo+CG21jQmSnk0hVB+QdHAH1Vvzc05J20qanNp7SNKklD5W0qKUPkvSzR3RDzMzMzN7XYcNVtNepFcCV0fECGAbYCDwvY5qo+SciBgFHAH8Nm1B1Z4+1jOT/LNKexGxPXBe6dzUUtCB/euo28zMzOw10cn/eqKOnFl9H7A8In4Hr21hdTJwrKT/TDOuN0h6RNK3K4UkHS1pWpqd/HWKQoWkJZK+J2m2pHskbVrdYEQ8RLH36UaStpJ0i6Q56euWqZ4LJP1U0m3ADyUNlPQ7SXNT3sNKfanV3mYUIVgrbc7twNfMzMzMzFrRkYPVHYH7ygkR8W/gHxRrY8cARwGjgCMkjZa0PTAO2DvNlDamPADrA/dExEiKKFafq25Q0rsplne8CEwELoqIXYA/UsyIVmwD7B8R/w18C1gUETunvLe20d45wK2Srpd0sqQhpXr3LS0DOC3r1TIzMzOr0tTJj56oI2+wErV3W6qk/y0iXgaQdCWwD8Ws6G7A9BQRqj9FRCmAlcB16fg+SlGmgJMlHQ0sBsZFREjaE/hYOv974OxS/svTTC/A/pQ2+o+Iyj5MNduLiN9JuhE4gCI61ucljUz5pkbEQa2+KEW0rOMADh86hj0Gjmgtu5mZmZmVdORgdR5wWDlB0iBgC4oZ0+qBbFAMZC+MiK/XqG9Vil5FKl/u6zkR8eM2+lNur7zBYEuD6hbbi4jngN9SrI99ANipjbZf70TEJGASwE+2PLpnLhYxMzOzLtEUHipU68hlALcAAyR9CiCtPf0JRUjSpcAHJG0oqT9wKHBnKnO4pE1SmQ0lbVVn+3fx+ozpUcAdLeS7iVL4VklDW6tU0gGSGtLxW4BhwLN19tHMzMzMMnTYYDXNSn6UYj3qY8CjwHKgEtbjDoqP52cBV0TEjIh4EPgmcJOkOcDfKG5oqsdJwKdTPZ8EvthCvu8CQ9O2V7OB97ZR7weBSt4bgS9HxD/r7KOZmZlZi6KTHz1RhwYFiIingY9Up6f1qAsi4sQaZS4DLquRPrB0/Gfgz+l4QgttP0mxI0F1+viq50uAYzLaOwU4pUb+ycDkWn0xMzMzs47hCFZdKHcae1UdoY0f6JsX831ZHW3c/uKwrPx71XEhH1/+WF6B5TBmg62zirylf/59kb3Iu5YdVud/ePFQ37xfy7+tGpTdRr9eef3aflX+deT26k//eFt2Gy/3yZ8nGNSU9z08d/kG2W30bch7vXaoIyD78MwyN683OLuN5X3z8l+1ckHbmars2GejrPz9GjM7BTQ1rMjKf/forzKAXlllzp7x/az8AGft9q2s/Pf3yX/P2nFV3nUMrON28aca8n4PhzTlv5+c+ULe352Vddz3/rvsEp2jqcfOf3aeLhmsRsQFFGtXzTpF7kDV3pxyB6r25pQ7UDWzzuWZVTMzM7NuoqdGmepM2XPxkhpLG+HPkvS1ehqW9KSkvM9/2l/38LTFFJLGSlok6X5JD5WjZ61lG5Mlje6IuszMzMzAQQFqqWdmdVmKNtWTTI2IgyStD8ySdF1E3NdWIUm9I2J1F/TPzMzMzGrosK2r0kzpdyTNlDRX0nYpfaCk36W0OZIOq1H2lLSV1AOSvpTS1pf0V0mzU/q4lL6bpNsl3SfpRkmbldJnS7obOKFWHyPiVYroVO+Q1K/Ur/slvTfVM17S5ZL+QrEnK5K+kvLNlnRWqcojJE2T9KikfTvqtTQzM7M3pyaiUx89UT0zq/0lzSo9/0HafgrgpYh4l6T/BE4FPgt8C1gUETtD8034Je0GfBp4N0V0qXsl3Q68HXguIj6c8g1Om/OfBxwSES+mAez3gGMpbuT7r4i4XdKPanVc0jBgD+BM0oA2InZOA+ubJG2Tsu4J7BIRCyUdSBHE4N0RsVTShqUqe0fEGEkfAr5NEcrVzMzMzDpIRy8DuDJ9vQ/4WDren9cjSxERr1SV2Qe4Ks16IulKYF/gBuDHkn4IXBcRUyXtRBHq9G9p79ZewPOSBgNDIuL2VOfvgQNLbewr6X6K5RpnRcQ8Sd+lGPgSEQ9LegqoDFb/FhELS/3/XUQsTXkXluotX+/wWi+IpOOA4wCOGDqGPQeOqJXNzMzMzDdY1dDRuwFUNrNrLNUtWg+aUHMvmYh4NM26fgj4gaSbgKuAeRGx5xoVSEPaaGNqRBzUnnaTV6vytVR3retdQ0RMAiYBnLPl0f4JNDMzM8vQYWtWW3ET8FrkquplAMAU4FBJA9INUB8Fpkp6K7A0Iv4A/Bh4F/AIsLGkPVNdDZJ2jIh/AYsk7ZPqPKod/ZpSyZc+/t8y1V+r/8dKGpDyblgjj5mZmdla824AzdUzWO1ftXXVWW3k/y4wNN0kNRt4b/lkRMykCBgwDbgX+E1E3A/sDExL62NPA74bESuBw4EfprpmAXulqj4N/DzdYLWsHdfxC6CXpLkU4V7HR0SzMCcRcQNwLTAj9eXUdtRtZmZmZh0gexlARNQM7RERw0vHM4Cx6XgJcEwb+X8K/LTq/I3AjTXKzQL2q5F+HzCylDQhpU8GJtfIvxwYXyP9AqqibUXEWcBZVWljS8cv0cKaVTMzM7P2ivCKwWpdsQzAzMzMzKwu8gi+60zY6qhOf7HfuSov9vm/6giBnTsdX88amXr+F9WQ+eouqyNMfG6/Xlkv/1s+ODN+fe51A/TNLPN8Hbdi9slsI7dPACsyv4cDu2jB1uLMH5TMX9u61PNz0tAFbfTqgj9BCzIb6R/535Blyr+Qr913Zlb+s3f7VnYbfTOvpZ4fxfUzL72eSDv9M9uo462XTz/7hy74TWzbIVse1Km/Fdf847pucZ05PLNq64R6/kiamZlZ99fRW1eZmZmZWZ166h37nalbzKym0KfTUjjTeZK+k9IPSqFQZ0t6UNLn66z/yVK41JskvaUD+jxe0sS1rcfMzMzMWtZdZlZXAO+LiCUppOodkm6m2Ex/TEQ8I6kva3fH/Xsj4iVJ3we+AZzUnkKSekVE41q0a2ZmZtYujmDVXLeYWY3CkvS0IT1WUgymX055VkTEIwCSjqjs2yppSkobL+lKSTdIekzS2S00NwV4ZypzZJpxfSCFdSWlL/n/7J13uB1V1YffXxIgwKVKqNKrirQAgoAUARvFQgugFD+Rz4aigBUQRRT4QECkSAm9iXSFIAKhQ4A0OlIE6S0QWtr6/lj7cOfOmZlz5iQ3uTes9z7nuVPWnr3nnClrr732WpIOk3QXsKGk9STdnuq7W9J8SXTJNuoLgiAIgiAIOqSvWFaRNBC4F1ckTzSzuyRdCTwt6QbgauACM5sGHAx8zsz+m1KtNlgLWBu31D4i6QQzeyZX1TbAuJQh6w/AUOB1YISkL5vZ5cC8wHgzO1jSnMDDwM5mdo+k+elOOtBOfUEQBEEQBG0xLSyrTfQJyyqAmU01s7WAjwLrS1rdzP4H+Cye3eonwBlJ/DZguKRvAdngSzeY2YQU8P9BYNnMvhtTBqr5gSOA9YCbzOxlM5sCnEd3soGpwKVpeVXgeTO7J7XzzSTfqj4AJO0jaZSkUfdOfLzTrycIgiDchiqrAAAgAElEQVQIguBDSZ+xrDYwszck3QR8HrdujsMtoecAT+JpUfeV9CngS8BoSWul4tl0qVPpeX6bp0xTAEiqijP2XsZPVVDazamqr3E+p+K+tzMlzmoQBEEQBP2XiH/fTJ+wrEoa0hjOlzQ3sCXwsKTNMmJrAU8nmRXN7C4zOxh4BVi6g2rvAjaVtEhyQRgG3Fwg9zDum7peqns+SX1OyQ+CIAiCIJgd6StK1xLAWUlpHABcjCuOF0k6BfcRfRvYM8kfJWll3Op5AzAGV2bbxsyel/Qz4MZ0nL+b2RUFcpMk7QyckBTpd3FlOgiCIAiCYIYScVab6RPKqpmNxScq5fliifxXCzYPT5+GzDaZ5eVKjnM+cH7B9q7c+j3ABu3WFwRBEARB0Al9OXSVpIWBi/BQok8BO5nZ6zmZtYCT8DlCU4HDzeyitG84sCkwIYnvaWajW9XbJ9wAgiAIgiAIgj7PT/HJ5SvjI9s/LZB5B/iGmX0Cn3/0x1zkpgPMbK30aamoQh+xrH5YWMCq5nQ18149cQDerdn9mKuDDlzdMp1kVHhyjvoNG1SzyHJTOviCazJkSmuZPE/OWU9+2Un1v6u6vdRFptb/ribXLLL45PqDXy/MUe9Mat6CAEzsoMwSNX/3dzowGzxT84JfooPrfZVp77YWynDFXDUvXmC1yQNbC00nE1Xv2lqhgzbdP2f96/fIob+qJX/gvb+pXce5ax5cS/79Dq7FumfeweOERWo+Hwb140lKfTx01fbAZmn5LOAm4KCsgJk9mll+TtJLwBDgjU4rDctqMFtQV1ENgiAIgqA2i5nZ8+Bzf4BFq4QlrQ/MCfw7s/lwSWMlHZuyk7akV5VVSb+Q9EBq1OgUbmqmIulQSf9N9Y+XtN0MOu7E1lJBEARBEATtY2a9+snGf0+ffbL1S/pn0pfyn+3rnIekJYBzgL1SQieAnwGr4bHuFyZnlS2j19wAJG2IZ4tax8zel7QIrl23KjcoE3R/RnGsmR0t6WPALZIWzXxxM7stQRAEQRAEs4Rs/PeS/aURjyS9KGmJFFFpCeClErn5gWuAX5rZnZljP58W35d0Jp7wqSW9aVldAnjFzN4HMLNXku/CepJulzRG0t0pbumeki6RdBUwAkDSAZLuSVbZXzcOKmn3VG60pFNSuCskTZR0eDrunZIWyzfIzB4CpgCLSFpW0g3p+DdIWiYdZ7ikYyTdCPxBUpekMyWNS7Jfy7Slsr4gCIIgCII6TMN69TOdXAnskZb3AJpCfqY09ZcBZ5vZJbl9S6T/Ar4MjG+n0t5UVkcAS0t6VNKfJW2aTuAiYD8zWxOPV9rw4N8Q2MPMtpC0NbAysD4eP3WopM8ky+jOwEYpNetUYLdUfl7gznTckcC38g1KbgjTgJeBP+Ff5Bp4qtXjM6KrAFua2Y+BXwETzOyTSfZf7dYXBEEQBEEwG/F7YCtJjwFbpXUkrSvptCSzE56+fs9kWMxmGj1P0jhgHLAI8Nt2Ku01NwAzmyhpKLAJsDmupB4OPJ/ilmJmbwKkzKfXm9lrqfjW6XN/Wu/Cldc1gKHAPanM3HSboCcBV6fle/EvscGPJO0OvAXsbGaW3BQa8VrPAY7MyF+SSbe6JbBL5rwa8cSq6vuA5AuyD8COC63Phl0rF4kFQRAEQRD06TirZvYq8NmC7aOA/0nL5wLnlpTfopN6ezV0VVL4bgJuSpr0d6H0V3g7syzgCDM7JSsg6fvAWWb2s4Lyk607oe5Uep7bsWZ2dKvmVrSlqM1V9XUfNOMbcuwyu/fdKzAIgiAIgqAP0mtuAJJWTSlRG6wFPAQsKWm9JDOfpCIl7zpgb0ldSW4pSYviAWh3SMtIWljSsh028Xa6Laa7AbeWyI0Avpc5r4U6rC8IgiAIgqCSaWa9+umP9KZltQs4IWUtmAI8jg+Hn5m2z437qzbNOjOzEck/9Y403D8R2N3MHpT0S2CEpAHAZNxa+3QH7fsBcIakA3Af1r1K5H4LnChpPG5B/TXwtw7qC4IgCIIgCGrSmz6r9wKfLtj1CrBBbtvw9MmWPw44ruC4F+H+r/ntXZnlvwJ/TcuHlrTvKaDJd8LM9sytT6R75lvL+oIgCIIgCDqlf9o+e5fIYBUEQRAEQRD0WXp1glXQk4WmtpbJMqGDlNlrUy+x1mPT5q1dx2TVS+z8WgfnsdC0DpJH12RCB121VSfVyxHx9Bz1b7H3a/aru6bVz0k+sGYdU1T/R6x7nQxhUu063pk6uJb8Gx1di/XLvF6zngVrPhsAuqze9zv3tPr2mueo9/1+pGabAN6ueR/O38Hvscakej9IJ7nrPzG5/sX1as0i5655cO06dh9zWC3509euX8erA+pdW++p/rW4ZM3nyVsD+q8tbgbEQp3t6L+/ZhAEQRAEQTDbE5bVIAiCIAiCPkJYVpvpF5ZVSVNTBoTxKS3rPB0eZ2Ju/UeS3pO0wIxpaRAEQRAEQTAj6RfKKvCuma1lZqvjmaP2nUHHHQbcA3ylaGdJDNggCIIgCIJewcx69dMf6S/KapZbgJUAJO2frK3jJf2wIVC2PYukFfFYsL/EldbG9j2T9fYqPCEAkg6QdI+ksZJ+nZG9XNK9kh5IaVWDIAiCIAiCGUi/shwmS+cXgGslDcUD+X8KT4l6l6SbcQW8abuZ3Z873DDgAlz5XVXSomb2Utq3IbCGmb0maWtgZWD9dLwrJX3GzEYCeyeZuYF7JF2a8uYGQRAEQRDUJnxWm+kvltW5JY0GRgH/AU4HNgYuM7O3U+D+vwGbVGzPswtwoZlNSzI7ZvZdb2avpeWt0+d+4D5gNVx5BfiBpDHAncDSme0fIGkfSaMkjbrp7cc6/waCIAiCIAg+hPQXy+q7ZrZWdoNUGnStZTA2SWvgiuX16TBzAk8AJyaRt3PHO8LMTskdYzM8VeyGZvaOpJugOSihmZ0KnAowfKndo7sUBEEQBEEpFpbVJvqLZbWIkcCXJc0jaV58ktQtFduzDAMONbPl0mdJYClJyxbUcx2wt6QuAElLSVoUWAB4PSmqq9GcQjYIgiAIgqAWMcGqmf5iWW3CzO6TNBy4O206reGXWrY9wy6472uWy9L2F3P1jJD0MeCOZIWdCOwOXAvsK2ks8AjuChAEQRAEQRDMQPqFsmpmXSXbjwGOqbG9K/1fvmDf/pnV4bl9xwHHFTQhr/AGQRAEQRB0TEywaqY/uwEEQRAEQRAEszn9wrI6u/DKwN6v45YBhUboUjpJBfbKwHq9vmUnt5zz1sSTc9TvWc7Vem5dD95R/ToemKv3b5lBNc9j3OD6F1bdM++aVrsKJtX82V8e2DQ/cYbX0cFlxTsddOnr1vNqB5fV4lPq1lH/Pny/ZpH3O7AI1f1+J3Twe8xl9U5kSv2vqqN7pG4173dw7qevfXAt+W/ef1jtOo5bp14dXTV/D4DH56wn38FP2Gfor36lvUlYVoPZgrqKahAEQRAE/YN+raxKMknnZNYHSXpZ0tVpfTtJP615zEMlHZHbtpakh1qUu0nSunXqCoIgCIIgyDIN69VPf6RfK6t4PNTVUwYpgK2A/zZ2mtmVZvb7mse8ANg5t20X4PyOWxkEQRAEQRB0RH9XVgH+AXwpLTdSqAIgaU9Jf0rLO0oaL2mMpJFp20BJR0saJ2mspO+b2SPAG5I+laljJ+DCVOaklJHqAUm/nhknGARBEATBhwPr5b/+yOygrF4I7CJpMLAGcFeJ3MHA58xsTWC7tG0fYHlgbTNbAzgvbb8At6YiaQPgVTNr5Er9hZmtm+raNGXDCoIgCIIgCHqBfq+smtlYYDncqvr3CtHbgOGSvgU0pk9vCZxsZlPSsV5L2y8EdpA0AFdaL8gcZydJ9wH3A58APl7VPkn7JEvsqDsnPlYlGgRBEATBh5xpZr366Y/0e2U1cSVwND2Vyh6Y2b7AL4GlgdGSPoJHt2j65czsGeApYFPga8DFAJKWB34CfDZZYq8BKuPtmNmpZrauma27QdfK9c8sCIIgCILgQ8zsoqyeARxmZuPKBCStaGZ3mdnBwCu40joCT5k6KMksnClyAXAs8G8zezZtmx+f1DVB0mJEBqsgCIIgCGYg4bPazGyhrJrZsyklahVHpYlU44GRwBjgNOA/wFhJY4BdM/KX4MP8F2bqGYMP/z+AK8i3zbizCIIgCIIgCPL06wxWZtaUrsnMbgJuSsvDgeFp+asFh5gC7J8++eO8DMxRsH3PkrZs1l6rgyAIgiAIiumvfqW9yWxhWQ2CIAiCIAhmT/q1ZbW/MbhmZ2lm5CTvpI5lJ9dLbfpiB1fZgtPqp0+tW+I99X6u9E56gwtPrSc/qYNMs01DBi1QBx39iTVPvm6ue4AXal5bXR2cx+CavwfAKwNby2SZv4O88nW/34EdnPv8dcsMqH8xdtU896kdXO91L60FO7gWn6778AU+UvM518FlwqsD6rXruHUOrl3HfvcdVkv+2+seWLuOjaZUzmVuopPrva/QX/1Ke5OwrAazBR28v4IgCIIg6AeEZTUIgiAIgqCPED6rzcwWllVJJumczPogSS9LurpFucUkXZ1SsD4oqSqpAJKWS9EEivbdJGndzs4gCIIgCIIgKGJ2say+DawuaW4zexfYCvhvG+UOA65vhL2K1KlBEARBEMxKwme1mdnCspr4B/CltDyMTDYrSQtLulzSWEl3ZpTSJYBGwP9G6lbkHCVpfIrNunO+MklzS7owHfMiYO7eOrEgCIIgCD4cRLrVZmYnZfVCYBdJg4E1gLsy+34N3J9SpP4cODttPxE4XdKNkn4hacm0/avAWsCawJZ4QoElcvX9L/BOOubhwNDeOKkgCIIgCIIPM7ONspqsosvhVtW87+nGwDlJ7l/ARyQtYGbXASsAfwFWA+6XNCTJX2BmU83sReBmYL3cMT8DnJupe2xRuyTtI2mUpFG3TXxs+k80CIIgCILZlki32sxso6wmrgSOJuMCkCiKbGQAZvaamZ1vZl8H7sGV0HYjIbX81c3sVDNb18zW3ahr5TYPGwRBEARBEMDsp6yeARxmZuNy20cCuwFI2gx4xczelLSFpHnS9vmAFYH/JPmdJQ1MltbPAHdXHHN13PUgCIIgCIKgY8ym9eqnPzK7RAMAwMyeBY4r2HUocKakscA7wB5p+1DgT5Km4Ir7aWZ2j6RRwIbAGNx6eqCZvSBpucwxT8occzTNymwQBEEQBEEwncwWyqqZdRVsuwm4KS2/BmxfIHMUcFTBdgMOSJ/s9qeA1dPyu8Au09v2IAiCIAiCBtP6qV9pbzK7uQEEQRAEQRAEsxGzhWW1v/B+zQT2U3unGT2YXLNNAE/PUa/Xt+jU+pW8PrB2ERao+YW918G5z1vT3WeO+lXw4sB63+/gtucDdvNuTfnJM6Gn/2wHT6Pla17Aj9e8dgEGD6j//da1AjxX8zcHGDKtXrte6qCOQTWvrTk7uEyer9muDh4NLFDzu3p4zvp+fQtOq2/7mVJTvoNHKe+p3vfbZfUr+fa6B9aSP2XUkbXrOHLor2rJ90/PTMf6aSzU3iQsq8FsQV1FNQiCIAiC/kFYVoMgCIIgCPoI4bPazGxnWU2pUm+V9IXMtp0kXVsgu3dKpzo2pVZtmoSVkx8uaYeC7ZtJunrGnEEQBEEQBEHQYLazrJqZSdoXuETSjbiL0+HA5xsykgQsDfwCWMfMJkjqAobMijYHQRAEQRBA+KwWMdspqwBmNl7SVcBBwLzA2cBUSQ8BN+IxVH8IvAVMTGUmNpYlrQWcDMwD/BvY28xez9Yh6fPAH4FXgPtmwmkFQRAEQRB86Jjt3AAy/BrYFfgC0Jh6uCpwtpmtDdwKvAg8KelMSdtmyp4NHGRmawDjgEOyB5Y0GPgLsC2wCbB4WSMk7SNplKRRd058bMacWRAEQRAEsyXTzHr10x+ZbZVVM3sbuAg4x8zeT5ufNrM70/6puGvADsCjwLGSDpW0ALCgmd2cypyFp1vNshrwpJk9lhIInFvRjlPNbF0zW3eDrpVn2PkFQRAEQRB8GJgt3QAyTKNnuLW3szuTonk3cLek64EzgWPbPHb/7J4EQRAEQdBnsVAvmphtLautkLSkpHUym9bCLa8TgNclbZK2fx24OVf8YWB5SSum9WG929ogCIIgCIIPJ7O7ZbWKOYCjJS0JvAe8DOyb9u0BnCxpHuAJYK9sQTN7T9I+wDWSXsH9X1efaS0PgiAIgmC2JKIBNDNbK6tmdmhm+SkyCqWZPQ1sUVJuNLBBwfY9M8vX4r6rQRAEQRAEQS8xWyurfY1JNVMuv6r6OUS/udJzteTfeG7u2nUsc953askf/NULatdxyDfq9yxt8uR68u9Oql3H5CffrCV/2uila9exrU2sJb/awSu2Fsph0+p9v6+fOaZ2HWc/t2Qt+f1PXr92HY/97/W15NcA/m4L1Crzg+/NWUse4IWzn60l/+zL9doEcPbger/hcXvPVbuOaS+9Vkteg+eoXcfAtWoOStW8zwFe/8s9teSnTa35sAZ+8+JHapdZf0q932SRyfUz3i+peufyeP3LnY2mDK4lf+TQX9Wu48B7f1O7TH8lMlg1E8pqMFtQV1ENPpzUVVSDIAhmNuEG0MyHdoJVEARBEARB0Pfp88qqpF9IekDSWEmjJX2qQna4pB1aHG+4pCfTse6TtGGJ3L6SvjG97Q+CIAiCIGiXSArQTJ92A0iK5DbAOmb2vqRFgA48apo4wMz+Kmlr4BTclS1b7yAzO3kG1BMEQRAEQRBMB31aWQWWAF5pZKAys1cAJB2MpzqdG7gd+LblnDwkDQWOAbqAV4A9zez53PFHAisl+ZvSsTYCrpQ0HzDRzI6WtBJwMjAEmArsaGb/lnQAsBMwF3CZmR1CEARBEARBh4TPajN93Q1gBLC0pEcl/VnSpmn7n8xsPTNbHVdYt8kWkjQHcAKwg5kNBc4ADi84/rbAuMz6gma2qZn9X07uPOBEM1sT+DTwfLLKrgysjycUGCopn5Y1CIIgCIIgmA76tGXVzCYmC+kmwObARZJ+Crwl6UBgHmBh4AHgqkzRVfGYqtfLw3YMBLJW1aMk/RJPBPDNzPaL8m1IFtalzOyy1Kb30vatga2B+5NoF668jsyV3wfYB+DLC6/P+l0r1/wWgiAIgiD4sBChq5rp08oqgJlNBW4CbpI0Dvg27mO6rpk9I+lQIB/kTcADZlY4eYrks1qw/e2CbWVB6gQcYWantGj/qcCpAEcsu3tcgUEQBEEQBDXo024AklaVlDVFrgU8kpZfkdQFFM3+fwQY0pjpL2kOSZ/opA1m9ibwrKQvp2PNldKwXgfsndqApKUkLdpJHUEQBEEQBOA+q7356Y/0dctqF3CCpAWBKcDj+JD6G7iv6VNAU2oSM5uUQlgdL2kB/Dz/iLsLdMLXgVMkHQZMxidYjZD0MeCO5GowEdgdeKnDOoIgCIIgCIIcfVpZNbN78QlNeX6ZPnn5PTPLo4GmCU9Zmdz2zXLrh2aWHwO2KChzHHBcceuDIAiCIAjq0V9jofYmfdoNIAiCIAiCIPhw06ctq7MbZTO1yhjYSR01ux9mdVsFmmveWvLzWf0+kYbUy+EugPcn1SozedyTteQBbEo9+Tk66CBLM6FXPbXmiXTA5LozWqdNq13HgAH16hjUyWnPM0/tInPOU6+irjnqXbsAU2fC41uD56gnv1C9+xaAeeerJ//eu7WrGDCo3nXSyXNxEh1cvzVvkUEdWNzeGlDv+Vv/zGFg3Vu9gzo+TFhEA2giLKvB7EFNRTUIgiAIgv5BWFaDIAiCIAj6COGz2kxYVoMgCIIgCII+S59SViU9JWmRmVzncpLGV+yfR9J5ksZJGi/p1kxs1amSRqftl6T4q0EQBEEQBB0RcVab6VPKah9lP+BFM/ukma2Op2ednPa9a2Zrpe2TgH1nVSODIAiCIAhmR2aZsippXknXSBqTLJM7Z/bNLelaSd9K67tLujtZMU+RNFDSTpKOSfv3k/REWl5R0q1peaikmyXdK+k6SUtkto+RdAfw3RZNXQL4b2PFzB4xs/cL5G4BVpqOryQIgiAIgg851st//ZFZaVn9PPCcma2ZLJPXpu1dwFXA+Wb2l5QlamdgIzNbC5gK7AaMBDZJZTYBXpW0FLAxcIukOYATgB3MbChwBnB4kj8T+IGZbdhGO88ADpJ0h6Tf5tK/AiBpEPAFPKtWft8+kkZJGnX3xMfaqC4IgiAIgiBoMCuV1XHAlpL+IGkTM5uQtl8BnGlmZ6f1zwJDgXskjU7rK5jZC0CXpPmApYHz8YxVm+BWzlWB1YHrU7lfAh9N6VcXNLOb0/HPqWpkyoS1AnAUsHBqx8fS7rnTsUcB/wFOLyh/qpmta2brrt/VpOcGQRAEQRB8QPisNjPLQleZ2aOShgJfBI6QNCLtug34gqTzzb9VAWeZ2c8KDnMHsBfwCK6g7g1sCPwYWAZ4IG89lbQg1LODm9lE4G/A3yRNS21+iOSzWudYQRAEQRAEZfRXhbI3mZU+q0sC75jZucDRwDpp18HAq8Cf0/oNwA6SFk3lFpa0bNo3EvhJ+n8/sDnwfrLSPgIMkbRhKjeHpE+Y2RvABEkbp2Ps1qKdG0laKC3PCXwceHr6zj4IgiAIgiBoh1npBvBJ4O40jP4L4LeZfT8EBks60swexIfwR0gaC1yPT3oCt6YuDYw0s6nAM8CtAGY2CdgB+IOkMcBo4NOp3F7AiWmCVavcfSsCN0sahyvEo4BLOz/tIAiCIAiCYqyXP/2RWekGcB1wXW7zcpnlvTKyFwEXFRzj32RSGZvZ1rn9o3E/1ny5e4E1M5sOrWjn2cDZJfu6ysoFM5m55oyUq0EQBEEwO9LbjrzxacvZeZ++WCbq+PDV0VfbFXX0rTr6aruijr5VR19tVyd1xGfWfmZ5A/rKB/gc7iqQ/Vw2k+oe1RfLRB0fvjr6aruijr5VR19tV9TRt+roq+3qpI74zNrPLHMD6GtYsVtCEARBEARBMAuJdKtBEARBEARBnyWU1b7BqX20TNTx4aujkzJRx4evjk7KRB0fvjo6KdNX6whmIUr+G0EQBEEQBEHQ5wjLahAEQRAEQdBnCWU16PNIapoIWLQtCIIgCILZj1BWg/7A3e1skzR/1WcmtHOWIekfmeUDZ2VbgpmLpIGSfjSr21GEpOXb2RYEQVBFWKdmMpK+WrXfzP5WUXYjYLSZvS1pd2Ad4Dgze7qijIDdgBXM7DBJywCLm1mRAtirSNq/ar+ZHZOTXxRPrTu3pE/Sna1sfmCegkM8gGeTE7Ak8FZa7gL+CywzPe1vB0ldZjZxBhznq41rQdJCZvZ6iyKLZ5Z3AY6c3jaUtGsDM7uzZpllzOw/Hdb3JeATwODGNjM7rJNjVdQxEFiMzPOwVXslLQUsmyszskR2LuBreIa+rHzheUgaAIw1s9Xbab+ZTZW0PXBsK1lJr1ORcdHMFm5RfkXgWTN7X9JmwBrA2Wb2RkmRS/HnVJa/AkNn0PHbRtJwM9szLe9hZme1UWaEpcyIkn5mZkdMbzta1Nf2dZXkhwDfovna2ruizELAyvS8p5rqkJT/3XpgZvdNTxlJV1F9LW5XdSxJGwMrm9mZ6XvoMrMnC+QGA/sCKwHjgNPNbErVsYO+RyirM59t0/9FgU8D/0rrmwM3AaXKKnASsKakNYEDgdPxVLCbVpT5MzAN2AI4DFfgLgXWKxJON/1BwMfp+TDbIif3FsUPGrm4FVky50v/V031X5nWtwWKHshfAvYGPprOo8FbwK/ywma2dGrbn4FrzezKtL4tBWl3mxre5rm34EEKlOKkbP8FWAr4B3BQQwGVdLeZrZ8r8ku6r4UbaH7h5+lopqSk35nZz9PyVmZ2fYsif260RdIdZrZhG9VcnilzqZl9rc22nYx3SjYHTgN2oNjKni2zEZ4+ufHCb1yPK5TIfx84BHgRv0/Av8s1Kur4A7Az/ltPzZQpUyquACYA9wLvV7Ufb+w0SWNqKvm3SfoTnpb67cyx8grFIvh3cgjwMnBOWt+N4g5gnkuBdSWthD9/rgTOB76YFZK0Gt7JWCDXQZ+fzL3V6fFzdW0AnAB8DJgTGAi8XfAMyqbY3g9oqawCQzLLOwJtK6sdXIt1ryvwa+sW4J+ZMlVt+h/83D+KJ77ZALgDfz/k+b+KQ1mLMoOBdYEx+HmvAdwFbJyRPTr9/yre2T43rQ8DnmpxHoek468KnAnMkcpvVCB+FjAZ/56+gD/f96s6ftAHmdVZCT6sH+BqYInM+hLA31qUuS/9Pxj4ZnZbG2Xuz2wbUyE/Avgm8BCuBJ8B/GEGn/sIYL7M+ny4clkmv1PN4zdlJyna1um5A/uXfH4MvFZy7FuBzwMLAj/BrcAr5n+bjPz9RcsVbX8DV24vyyx/8Gl1fbRzLXXSrk7LJNmxuf9dwIgWZR7GX0iLAh9pfCrkH6/aX1LmEWCuGvLj6xw/lfkX3im7AVfYrgSurJC/seDzrwr5uwq23dlGuxrPkwOA71dcv9vjSsSr6X/jczzw6ek9fq7MKNxqdj+uqO4FHF527PxyO+dbp8x0XIu1rqtUZnRN+XG4Ijk6ra8GXFT3+myjnguBT2bWVweGl8iObGdb/rxxJTj7bBlbds6Z5UF1f8f49I1PWFZnHcuZ2fOZ9ReBVVqUeUvSz4Ddgc+k4cs5WpSZnOQMPrAeTquQ/4iZnS5pPzO7GbhZ0s0t6mgM2WetkVUWoWWASZn1SfgwVv6YPyhaztRxfMnxX5P0U7ynbfj31WoYHdo/998BRwFFQ0llfuBdZnZtWj5a0r3AtZK+TrFVdG5Ja6fjDU7LDTcIrNlilrVW/qmkDTOCAWkYcUBmOduu1wrKWMlyK95N/9+RtCSu+LTyd5xgZv9oIZPlGdzqWYcn8PuupZU0cbukT5rZuBp1/LpOg8xs8zrygEnaGbjYzN3rtAkAACAASURBVBrL7TBZ0jBgD7pHiZqeQWZ2BXCFpA3N7I4a7Wrr+AX1PS5poJlNBc6UdHuB2EclHY9fr43l7DGanjHACpKuTGUay9kyVUPVda/FutcVwNWSvmhmf29T/j0ze08SkuYys4clrdqqkKTVaR5xOruiyGrZ693Mxktaq0R2iKQVzOyJVNfy9LRoFzEpXbeN99q8FbKTM+2Y4p5xQX8jlNVZx02SrgMuwF/gu+DWkCp2BnbFraovJP/To1qUOR63ti0q6XB8KPWXFfKNG/v55C/4HD5kVIik7fChnyWBl/Ahr4fwIcAyzgHulnQZfu5fwd0Z8rR6YJWxK/6yb7woRuJDS61o99zvAy43s3vzO9IwWxGStICZTQAwsxslfQ0f9izyE3wBOKZgGQqG4Mzshlxlg/Bh0efM7NWSNoFfF/vjL+PGcva4x+TkF8CHsxtP/KzSbEDREOeakt5MZebOLKcqCl1GwF/EC+LX+H3p+KcVCWZ85W6UdBRuUf7gpZ9X7jPn+QR+L16Tk8+fN5JOSG14Bxgt6YZcmR/k5Mcl+UHAXpKeSPKN4eBSV4PUWWqJpI/iHd9bM+fVlXafb2aPlxTdFR86P0nSNOBO3BWgFXvh/n+Hm9mTSbE4Ny+U+a5IymcPShTDto+f4x1Jc+K/yZHA80CR8nJAZnlUi2M22D6zfHSpVIYOrsVa11Uq03DDEvBzSe/jz68qNyyAZ9M9dTlwvdyH+bkW53MIsBmurP4dtxbfSvEzu8FDkk6jp8HgoRLZH+H34BNpfTng21VtAi6WdAqwoKRv4e5ifymRbTx/oPkZVPVdBX2ISAowC0m+XJuk1ZFmdlkL+XnxnvFUSavgQzj/MLPJLcqtBnwWvzlvMLOyhwaStsF9e5bGX2bzA7+25P9ZID8GV5z+aWZrS9ocGGZm+7Ro01C6/ZdGmtn9VfIzg3bPPVkiXjWzVwqOsZiZvViwfVfgCctNTkodjl+Z2bems+0nAn82swfkkQ9ux4dEFwT2M7OLS8odUnVcM6tl4est5JOUBjeU/YL9VR09s2af66rzNiuY/CRpjxZlery8JS1bIY8VTIyU9E1gYTM7Kq0/i1+HAg40s5Ny8hcA55nZ1Wn9ETw7zzy4datJAU0jLd+tGJmoRNLcwDJm9kiFTNV3hRVMbkrtOsvMdq/ZnmXxkak5ccVnAfxeKFPUs2UXAt6wNl+EkubAh7T/a2YvlcjUvRZrf1czAkmb4t/VtWY2qUJuHO7ve7+ZrSlpMeA0M9u2osxg4H/pniswEjjJzN4rkZ8Lf58BPGxmLa3LkrYCtsbvjeustb990I8JZbUfkYaONwEWwi0ho4B3il5ImTJFVru3Wim4Ndo0yszWTUrr2uaTQ4omDOXLtZyBLenHZvZ/ko6lYPjYzPbPyV9WJJeRr4zE0C6SBlnN2aR1y0haD3jGzF5I69/Ah/qfBg7ND7dLesDMPpGW9wM+a2bbyYfPrzazVhO02m3XsvjLfUJa3xz4Mj4h4sSil56keYDJjWsuKftfBJ6q6qClcj/GFaNvSVoZWLWhmJWU+WA4sWpbZt+OZnZJq225/fuZ2XGttmX2nWNmX2+1LW2/B/h8wxou6f7UCRyM++t+Jid/X/a3bcin5VvMbBMKkHSzmVVNzCxEPlnxaGBOM1tePrR7WIvh8DrHvw7Ytkp5KinXjgJ9MO728HBSjv4BrIW78+xqZv8sKHMycELqBC6AT0aaio+G/MTMLqjTzhbn8IExIq0PxH1Y36ko8xXcN7lxPy4IbGZml1eUaWsWfUb+bjNbP71/Nsd9qcc3njedoumLjLM88HxD+U2//2Jm9lSBbEfPn6BvEXFWZzKS3pL0ZsHnrcxQRWnx9OD6Kv4A/QrVw+3gw6cvA48Cj6XlJyXdl6yb+fatIukGSePT+hqSqtwG3pDUhfecz5N0HMW+nNk6vo9bQq7HJ5pdk/7n+Xf6Px6fkJT/5PkTcCLwLO6Xe076TMEnL1RS49zvzpQ5odVxOyxzCsmvV9JngN/jw24TKM5rnX25b0WKJGBmz9E95N6EpIYSiJwzJE2QNFbuJ5vnYtIQa1JULgH+g7/0/1wgD3AtySdZPsv7Dtxd4HuSfl/WNnxCzvtAI+LAs8BvK+TBwyLlKVU8gZ+1uS1LkSVszwr5HvdoUkIKQzcBA6yn28YlAOmlPHeBfH5m/Wczyx+paNMtko6TtGG6zteQVOqWkOFQYH18Eh9mNpoCP2JJi0g6RNIPJHVJOknSeElXpGugjKfwyAa/krR/41PVoKRAj8avMyStpZxvaWJnup8De+D3xRB8MuXvSg6/iZk1njV7AY+a2Sfx368ynrGk3yXlsbG+kKSq6/cGev7Gc+Oz/Ks4JDvaYB7iq3TUQD6icBDd13hjFn0Vo9J5/AV3AbqPkqgcksalZ0fhJye+bcVnmxZtuoSecy+mUn6fd/r8CfoQ4bM6kzGz+VpLlSJJG+K+Zd9M2wa2KHMtcJmZXZcOsDU+K/1iXLn4VE7+L7hv1ympvWMlnU+5krA98B4+/LYbPqzUKg7mfriFrMqXkoZ1wMxOb3G8hvwN4A/krAVK0uVAOz6A7Z57VvkrCpVSRN0yAzPW052BU83sUuBSSaML5CdI+jzuf7YxHnuxoRgVKTkN9gOGp+Vh+HDfCsDauL9z3jI3d1KAwf3QzkjW7wG4wlDEQmb2WFreA7jAzL4v9zO8F/hpSbkVzWxnJZ9HM3tXKp4doZqhkiR9AbeuLKWeE23mp6SzldqxK7B8ThmaD5/8lZf/GfBzun3kwK+DSRR3OMDvnw8ws9+lYw2gWPl8S9IqZvZokn8tya8GVMX7bVhVsxZ3o3WItylmNiH3MxSNZpyPj/ysjCs2ZwLH4dfTabgPZBHPpc8AukPdteJQXIG+CVyBlrRcgdykzHD/54ALkxXzIZVnxMt3AhudhxdKLsUsX7AUFi6VeV3SFymfMzDYMjGazWxisgpWUWRwqnqvfwW/t+9LdTwnqfJ7NrPvpMWTJV0LzG9mecWzQSslM3vcvdqVLWBQ1vpuZpPS86SITp8/QR8ilNX+xX54j/iyNCy1Aq0nZa1rZvs2VsxshDy25v7yobA885jZ3bkHcaml1Mzezqy261tVawa2pOspdgPYuqTIopKWywwJLUN7k7XaPfdOfGfqlhmobteBzwJZH+Ci+3Zf3LK8OPBj6440sSXJ4lTClIxLyDZ4APZXgX/KJ6vkyX45W5AsNMn9o6yO7LlvQZoUmF4wVZEpJqXhvcZEnRUpnym9amr/gnTPIgcfsizyB34OV6a2w19YWfmybFC345N3FqFnDMq3gKaXt3kA+SMkHWFmray1DUZI+q2Z5RWaw/DQankOwSeiHU73ZLehuJJcGkuyzD2gDcbL/a8HJov8D/DvJc9iZvbz1Ll42pIPLvCwpO9WtKsTH+kiBbqI9+Wz2l/Eh7N/ktlXphS+Ifdl/y/eyfwmuFsP1Z1A8O9oLkv+l+laLnrmNnhb0jqWJmDJR77erZAHt3oeg48oGfB9el7PedqeRS/pQeA8XKn/N0DRMHsWy/hhy31bG/G877ZyH98F8Ou40VG6GXctqXpHvCxpO+uOpb090DSHoNGszHKd50/QhwhltR9hnmVkZGb9CfxlUcVrkg7C496BW+leTxa3ohv1laQUNB5mO+Av6ELUMznAnPiwUlFA7ixtz8BOZF/cg3HfzSoH/B/jw5yNIb+VcWf/VrR77qulIS0BK2aGt6pmedctcwEeOusV/IV1S2rTShQo+mb2MLClcqGCzOw6SVUP/WmSlsBDe30WODyzr+hl/C9JF+MRChYiJbVIxyjzMxwr6Wj8hb8SSenKDpGWcAiuaC8t6TxcWdizSNBqhkoyszHAGEnnW5v+2+lF/DTdbgltYWY/U5tZg3DL/mmSHscDqoNbu0cBTZEmzOzaZEk+kO5nwXjgq2Y2Pi8v92FetvEdyUPCNaIHXGglvr0Zvg/8Ar//zgeuo3jUZWpqn6VrOEupgiD3oTyQ5qxlVYk52lWg98PdRIYAxzb8NJO1s2yC57fxEYbFgR9a8iHH75VrKtoEPrx+g6Qz8WfK3lR36PcDLpHUGLlYAn9eV/F9PEHKRWl9BNXRXurMoh+GR6kZkX7DC3Cf38roAQCSdsKVwpvwZ9wJkg4wsyI3nTPwa3antP513BJf5dO6L+529qd0/GeAb5TIdvr8CfoQMcGqH9HJg1zSIvhLf2P8pr4VD+s0AZ+Q8HhOfgV8iPLTuALzJLCbVaR0zZX/MrB+dvirQKbQp6qOVUUtJogkK8bH0+qDuEWhMsNLu+euzmZ51yojn0CwGP7CGtGwYMujQHRZQarDtL/HhJu07V4zK0tvuQ3u9jAQuMpSVAL5TOEDzexLOXnhL9DFgUvM7L9p+9rAog13k1yZufEX8RK428CYtP3T+FD/OQVlhIcNewfPsiM8aH2Z9aRRbjBu/crfI4XpJ5NycwTNMSQLswylMu1mTGrIF2YNanHfrkC3r+uDDctWhfza1kZEjaT0X5SxSD2KZ4qaB/8tas3Er6jnDbxjLXzov6GYC9jYzBYqKTcCV7x+giskewAvm9lBFXXNgyvQjZGW64DfWvnM88H5fZIWtuIYwdOF3DVnS/y8RxTdH0luAH5d3IOPEgifFV/akUoGh9+b2QFlMiXlas+iT9f8zrih4HF8KL1MyUU+4XarhjU1vbv+aWZrFsiONrO1Wm0rqacL12PeqpCp/fwJ+iDWBzITxKe9D72cXQr3f9opLc9LJstUzeO0zIST5ObDFa9WcvNnPgviVo1H26zjM8DJwAu9de64L+FXgKEzqgxwb/p/Q5vHWx9/ID+DW5Yan19SktklU3ZOfCJJdtu8Zb8Nrpz9c0ZddxXtureDMpcAv8En5+2R7pnjKuRvTdfTWDxG8KF4uLKqOtrKmJSRr501CE+juSswb5vnfSOeMek3wCcq5O7LrWczAN3SRj3XAwtm1hfCFZ683KZVn1a/efaaBW6ukB8IHFXzGrkG93lsrC/R6lrDrbE/xzuzZzQ+LdpV6x7BOzB1r/fSLGUzok0Fx9gsXffvt5Abl1sfkN+WPW+8A9NY36jsuwB2T/8LswhO57ldOj3l49O7n3AD6F/Uzi5Vxxpr7nf4PXyo5+38/pLjZ4dqBuD5mivN9clv7BxSMPw0xPQN6551m+cBugNgT8EtnqVxSZOv1664FWAI3UpbKXXOXdLVwE/Ns7IsgfsKjsKH9081sz/OgDIDkgV6FRXMhrZml4l5cV/KQfT0z30Lz2leirnv1pFkhrervgPzOL/vKJPkoB1UM1c6cKek9czsnnbrAFYysx0lbW9mZ8knyBVasxJzm9kNkmRu3T5U0i1UzKiGtjMmNegka9AxuCXrCEl349bGq63EWmhmm0taHB9KPVUea/ciM8sP0ecnm2X9vhdp0SaARcxnnDfqfV2evS7fnpvVWdzUWklJ0rVYFlmhjMuBv8qTciyNp7L9SXURrsBdcf5JcnGoosN7ZERq09/MrN0hz/vlk/0uAT64Z60g7NN03Lfr4S4BX8OjNZxKdYQN8Ox8jaQ34NdyWZatfYGz5b6rAl6jPLpGw8d2eiYql1E6mhLMekJZ7V/UepAnzsNfdNuQGVarkL9e0k9SmezDr2yILDuZZQr+MNu+WPQDTsV7wTcCSNoM95v6dJGwmS3d4nik4/wafyi+iD8k18Md+9uKJkD75768dfsD7gVcb2bfkM+qvQ1oUlY7KLMLHr90EG08mNN3eaOkM62132ERdV+U7wHj5JPfst9VlQ/16fjkpXtp44WPT4L5tqSnUx0tMz/RfY+8kTpFL1CQyjfDe2kI9rHUWfkvnsu9inYzJjWonTUo0xkdiE8K+RZuzSv1BTf3pzxeHpT+QOBgmv1JJ0payZL7j5m9DB+4l7TTQZ0maRlLMZGTe0vh9ZKUoyGS5rT246b+NiktP6Y7MUfZhLcGbStsaftf0u93OSlbkplVdTbAJ1+WuiKUUPce2R+/jqZKepfu673K/39hPBJF1vhgpNB109MmSb8jzXHA5zxsZGbPVrSluwFmByRDRsP97FQriWlqPiy/ZupgYWalIRzN7JR0T7xpZse205YahE9kHyZ8VvsRqpldKpW518yGShrbeMmrwt9TUlFw6CrrV20kjbGc71LRtrR9KTzxweuS1sUffo9bQWB4Sa/iVthjgL8ni+ET7ba93XPP+lPJUyP+xcwuzO+b3jJp3xesRn5xearHn+Iv4WzChcqkAPKJcvPiHY73aPGiVEnWHavItiPpLjPLh0qralOhn69V+E/L/UMvBdbAJ2l04RnCTimRXw93q1kQH0JfADjScpnGCtrVacakTWkja1CSnRvvDO6Mh5i62sy+XyL7sSS3Iz4r+kJ8WPOlnNwX8fvjN/SMHvArvANZOWlI7oN5Kt2h4D4D7GPlvpinpLZfSU/lqGwyZW3kE5jymOX8lHMjFMIn8owjTa6qapM8PurtZlZmHSwqU/se6W1K2mSWy76WZA/BfVMfnY76FsF9lv9jufTU8vi4Yxv3szxpQyPxyX5WnajgRjPbvNN2lRyzyd8/6DuEsjqbI+lOM9sgDckcj1t0/mpmK9Y4RqFlRB4u5EB8ogn4sPZhZnZr1VCTPNPUfbgrAHi8znXN7Ms5uV/gFqVpeED8L+EvyfWBe8zsxzn5OfAYssPwl+j1aX0pM+soREnRuUu6CveFfBa3di1vZm8k5WKUFWR26aRMKjcX/gBfjp7KZ2EsW0kP475148jMurYWE3RmBvIA3ANpkSu9pOy8uKV5V8tN+uovyCcCfRwP5VQ1uoGki/AYyNfiMZFvqrqGJd2JjyZcYi1ma0taEw8M37jmxuN+n2VxcvPlF6F70tsdVjHpTW1OpkwW6ifM7OTc9h8Bi9e1aqrAfaSsLWVtSmUa0U6Ed+bex633beWVTxbcVdLqI9Y6NfZ2dIdwuqmoU56T/yhuuNgotfNWXNFrywIqaWlgF+sOLVYk8108pe8baX0hPKV2UxIQlbs7rYB30P+YkR0LbGBm7yRDzDH4s3ttYEcz+1xFmw7HO335UbCWz5KKY36Q/S3oe4Sy2g+QZzwq/aGqhl5LrLGHmtlVLeoUPgy7K57+cLHc/u/gYU8OxB9G4P6qv8WDf/+8yFKayi6ERyTYOG0aiVuIX8/JPYg/uObFe9uLm9nbSSkdXabgpbLz4DE0h+Ev/RFmVhbapO65L4rHvVwCTzHaCIWyOT5h6uiCY9Yuk/Zfi0du6DF0bmb/VyJ/m5m1m6igYYktJf/wl+cJr7oWS4foVZwz3axkVnx60X8R/x0+j1tM/1Z27Sar5evmyRx2wl/6j+M5yd/PyS4CfBcf4jwDD7OzCT4x68dFVlJ55IBf4D51x+CuK40y/1OgHG2HdxBfw32mT8QtsssBB7WwQn8edxVpx12iUWZOfPKW4YpRVb73T5rZuHaPnSvbMgyXpJ3M7OIax3wQWD2vkMtdNMaa2eptHOPjuPvMMGCCma3bbv29gdy96SzcNUr4M3iP/HeVkf897rp0Xto0DJ/4VRq0Pg3nn0/Pjv9uZrZVRZlFcAv8MGApPG53qc9u0chPmWKnnmmffw6sZhl3p+zzITuaJukM/Jr9Q1qvtHLWfZa0g6StG8/loO8Rymo/oGw4qUGLl95GZnZbq22ZfZ/ClYOv4P5Q3wWuLFAkH8J9mPI56j+CWw/3N7OTcvsG47PsX85tXwx/ueTDyWTznPd4ONYZspH7C37NWviutnvuMxNJ49t5UWfkt8Ytsf+kp/Wy0FWk5KGfKdbz4V82NJ8p0FaIsyrkoXWG4VmGbsStJyeY2XIVZU7Eh/4H4yk1u3Cr5KfxbGC75eRH4J2s+fBoAGcCV+HK525mtllBHbfiFv6GH+UPM2V+azkXB3n4nh1xC9CNwBpm9kTquNxgnraz7HwGA9/BO3QNi9lJ+XskI/9FPATZv3HFaHncF7PQhUQ+iWxh3Gp7kXmc3paozTBcycI2CPiOteFDnVVyau5bFr9WhuEuLMviozRPVdR1PW65y1oKL2xhyfsKPvN+QlpfENjMUpa9kjL34iMBj6T1VfBh9bIwcmOBtRoKu9w38/4WHcC2wj4lZfEr+PNtFeAyYGczazXnodGuNS0pC6ldY0tGkNp2d0rH/TQenu5J/Bk9Ku170Mw+nj9+J0xPBzvoO8QEq/7BRRQreYsCpc7oiRPomVKxcFsaVtkJz/N+AW4FHFWlCOcV1bTtVUlP5xXVxPG4ApF3/t8SfynnA/cvIPdrGgDMnyxV4C/jBXKyyAOc16aTc0/lVsFnES9HzyH6qviZdcvcXtMKthuutHXR7QZguM9gE1bf72sJq/DnLELS7mZ2rkpyvFuzr+B1+GjAxtYduP24FtVsbmYfT0ref/GYr1PlPpNFqSE7ybDUZWanpvbsa2aNGdHXSyoaRp1myd9P0pMNpc3MXpJUmhUucTYeyeGEtD4Mt56VRXY4Bv8OHk/1rYiHaCpUVs1sE7k/+M7AWckqe5GZtcqVvh9u/bvTPALBavgoSf7428hjLl8jj8hwEj3dUvLPjnckrWzdaTFJ57EyJVmc5BEYFsD9c3cws8fS9/xUi3MYYm1ENMhxiGUmCJm78ByCT9IqY46GoprKPJpGhapYELfEQ8EzroBXJO1O96z7YRSk/gVewtPe/hK41cwsKeDtcB2eTOBk/FmyL+VZ8Z6R9H3cYLFOQ07u7pQ/9z/iHZ43gYcyiuralCSiSQaFU4EVcVenvc3soRbtb6SAbdzXDSv0briiHPQDQlntH5QpeVtRrOQhaUO81zokpyTMj/sN5tkHt0idRAqRo5SSr4Q3Ja1pKcBypt41KU+lurGZ7ZPfaGbnpSGjPLfRndXkdnq+qItm7zZCNq2M+7U2hou3oXtCSBF1z73BJXgM19Nob3Z7J2U2BvaUT/56H1rOiB9a0xL7O0sJHCRtZa0DhP+Z1NGRdIeZtZPNqW64maH4cO4/JT2BKyNF12yW9wDSb/e0peHz9FIu8hPsJMNSdnu+k1hUZkCy2g3AZ9EvBB+kqy3K6Z5lVevpRnNjstSW8ZL1dF14AldQSjFP6HCMpH/gaXN/A7RSVtsOw2Vml6frdiQeH7pxTxnNYYIOBv4hn8jUmIizbmrXD0va8jJu4V0Mv/cfo8KClmGq2oxokKHo92r1/hwl6XR6KkdVqVCPwCMb3IhfJ58hpTOuYG88zfKx+Dncnrbl+Tl+T50EnC/3iW6Xg/Bn5P+mdo3An19FfBPv7G+JW24bnYIN8NGLDzCzM5KVe3l85KDBC3jElCJOxDv7I3E3rz/iIzClWPcEro2sp4vUTyXdltob9HHCDaAfUDUkUjZEJvff2wzvBWcnLbyFZyrKWzAG4jEXh+FhUG7EHzhLm+enzx9/Y9y36kz8AWy4xWUPPHDzrQVlHjKzj+W3V+1L7fqymV1aVK7kWNfhw3xvpvVGzMkvlMjXOvdMudLMUDOqTNmwe9lwe3o5Hpm16LQ4/gfuFGrDtUIVrhm9gTw2ayPG42jcv+7UArlnceui8CH6hrVWeJrMpXPytTMsSXoH94EVbtl5PFNmBTObNyf/JN2Tc/KYVWfJGg6c3LBiJ4vSHmb2nZxcI87xVvgQ+MWpzh1xH8AekxAz5VamO3rAW/jozV/NrDS1cip3Ga5I/BC/V17HLYhfzMnNhVvxdgAOsBYThVKZ1fF0s43O1njg6KpRBXmYq6/h18hKuGXyc2Z2d0WZWhENUpkzgDdwZcnwNKcLmdmeFWXmwq15jfBNI/GoEaWpouWTktZL8ndZd3rXMvlFrEVWt5z8CnSnUV0Zjyd8mbU541/SwsBHzaxotKJIfj78Wp9YIdP2MzH/jGrnmZWRHQ18r/Fukmew+rO1kSkrmPWEstoP6ETJy+xftkyxqSgzGLdGDsMftDeY2a4FcovjfnWfwB+uD+CThwofsPIEBgfkXyTy8EH/Z2afKSl3i5ltUqP9D+P+gZPS+lzAGDNbrY2ybZ17kj0Ut15dRk//0NK0je2WSS+FLAa8YS1uWLl/1iq4IpW1xBY+0DtQVsfgnaABwL/S8gfKWNG5SxphZlun5Z+Z2RFVdZTUOwBXyHYxsyari2rO9E6duSr5Jkt8WcchUyafMndj88gYTek9y1C3f90ceNrN/6T1ZfG0q6vn5IvCNmWaVJpm9h7cYn1Jw8JYF1WE4ZL0CD4h7jdmVjiM3+LYXVUKTkmZRXEFfBje0SyNz6waEQ2S/Lx4eK8t06YReNaywti0aSh7ReCBVsPUqd0/x5XtccARVhFrNJXZFp8YOAUfJdjJWseKzR/jk7gP605WER1G0k24FXMQ3mF8Gc8qVujWk8pkE78olSlM/CL3Nx9ubST/SCMt2clgR2fXrSS2bio7FP/OFsDvqQm4G0HHEQSCmUcoq/2ATpW8JFPLR1LS8paJb5eskl8zs6qXYltIWh+3/Ayn51DfN3Al5K6Scr8EJtIcpqTwgS6P1/cV/GVJWr7MmrP5ZMsMwP3eLs5smx/4ipX4rqqDmLTtlimxynUBY/CZ50+VHL/wpWMloasqLJKNcsfk5J/Ch7zbthbmrLF1LCFX4grVFWVKQadIusHMPivpD1Y/2Hu7dTRiHNc55xk2gU0tsn/J/SdXxq+zx1qMIuQ7T/l25TtbHzezBzPr87bzG8rdl07H/YOXkbsVfTtvUS4p+0EdVZ10ScKH5Fcws8MkLYNHGim0xqaRl9+b2QGt2pDkD8Zn5d+LRyI5wsz+UiF/bZIdiXeU56uy2KYyY3El8+FkdT/SSmJnTy+N+1c+uW5pMztEmbjdJWVuB35hPRO//M7MmhK/yCNBrIJHfKlM/tFp5yx3jPlx3aftLF7BrCeU1X5Ap0peKjsGdwPIhz4q9J0qerEWDdOofIZlphGUowAAIABJREFUpU+lfOb/d+ge6nsA+JPlgpfnyjxTsNnMbJmKMuvhw3uG5zxvp9c+skrx7wukYd99zOzzJfuXA54zT4iwMT7Z6twKxb7KImlWEs+1DnWtt5lym+KWsi/hk0NKU45KOr7qWJYL75ZekP+L3xu7klO+i6wt6o652bSLgpib8tinD6X2X9iqTWWoRoxZtRm+SdLn8NBb/0nt/yjwLSsJ3VPSecqcSnEHLQ21nkabyqeku3DXgSszHZzKiBgd1NGY7LWFmX1M7ks8wszWq6jjX2Ud/ALZB4D1zOOHfgS3PFcdOz9Lvp0RjlrD4blrt/EbNn7Ppms3V3Yc7iZ1Fq6A3tOGstoy8Yukv+PvgrIMaNMdWSRX/2LA74AlzewL6V7Z0NrPcBjMQmKCVT/AzO5OCut36c6ZPB74VJWSl5hixTPzeyCf1fsJfAb+VzO75qc5nzh0z7CshZm9SIu86wVl2kq3muNdfKan0f6Mz7bSrUrawsz+lfuesu1tGorqpEyZXLI0l3E5sF6ysJ6Nzwg/n5Lfy9LwuEpCnBWcR624rIkVkpVUmeVsme0KytRNOVo1caWIg/FMXx8lZ03Gr5kmxcTM6uYj3wYfNt6ibvtUHGP25BLZ2uGb8FjIW1p3tIJVgCvoTvDRAzNbvk77MxyLT4C5Mh1njKTKDqGZPePGzw9oNRGxbh2fMrN1JDUyV72evu8q6qR0fc/M3kn7X02jNlVIPSffDcyu558/iUXVc+Jsj/X8iEgH126Ww/CIALcmRXUFfDJbFU9I+hU947/mR5WG4+4UZ+GW4cqECVk6VDyH43MsfpHWH8Wf9aGs9gNCWe0nJKX0kPRQ/RhuGXijuhQAV8kD+Lfyq1wVf7kuiKd4bPAWriTk21O719upNTaVXQ3P/pMNRH5+iez38B77ZenYF0s60QoyruRoDCFlQxcVzVzeFPfX3JZmyvJyd1KmCUldVM8kn2Zmk5NS/EczO77xUm5BWyHOgEYygsG4dX8M/h2vAdxFd6KHLNtnlguTH5Sh5pSjhS4ZVjOFpZn9FfirpF+Z2W/abEutoXBzP8gL5X7lVTP5s3XkY8yeA6xvBX66Sb7T8E0vWWZSjXlYpcqsWpk6GznfG6MWVeGb6iqfzyRLqaVn3Q9w63QlNeuYnDpAjbihQyiPANFgYTwkVLYTU3bfrpjpkCm3XtQ5WwDvzGRPoNHpK3r+gFvF56tYLyVZnhtzAEZai8lS5iHaLsmsP4FPaqtibzyk2d/gg8llPa5hM7tY0jV4x3GUpHPoGd6sKiXvcOornoukOn+Wjj9FUttJN4JZSyir/QgVBP6WVBr4O9FIKJD1t2p6AJrZFcAVkjY0szvaaEutIdFER9bYZEncGs/Ocx3+Ir8VtxgWsQ/+gp+Yyv8OD+lSqay2az0ys0PS/7LwKtNdRsUxSRfCJzr8qaLoFEk74nnPG+lrS2M7qmaIM0txWSVdiLsjjEvrq9Nz4kO2TFXYsFLUM+XoiVSkHJWns60K/N1DQchYiK8pshaXWIgbUS8Kh8LJ3VPKZJ7LKVKNOorcAOrGmK0VvkndsYrHJwUqGz2gdAZ9pvyf8YlAjbie+8pDnpXFpq2rfO6LW32XwmN1jqBn53FG1HE83pFdVB5jeQc8ckEpde51enbOoEUHzSqSXVSUaYpt2w6S9sONDw0l+zxJp5rZCQWyB5rZkSrJoFjlxmKeSKUdN5fJuKV6LlzZbjctdieK59vJLaNxT25AeZjFoI8Rymr/olbgb+ho+O4ZeXiaylzTnQwrTYcP0s7AWsB9ZvZ1eXiXUyrkhT8EGzRyebckvfSWo+dktLNzMsMtTYCQtEc7Vr0OyuS/X8PjD+5u1QkC9satykeaZ0tanm7Foog58Ylbg3J1vom/xMtYLdsO81zghSFgKizqjbJlFvUzcT/NdqwftSy2dFuIC5tEsRtA3XtpVGuRJmrFmDWz7dUdvunXklYCFpS0vhVPGMrGKp5Ad4zKt4BWgfHBRwhWN/sgm9FZ+Az2Mmopn8kavVvZ/hlUx3ny7FKfxZ8LX7bWM/Y/io80VD4X0/E76pylepbC3Tiyz5/C9KxJfgiufC6XK1M20eibuBtEYyLaH4A76E4+kaXxnbR9HeddfPJkO43yEGLH4O4b6zRcJ9qkE8Xzx6muFeXxVYdQ/YwL+hAxwaofodwEILm55marjgYwBz6RpCFzE3BKmX+QOsg1ncotSs8h+qZwOB1aY5F0t5mtn14wm+GRAcZZyaQLSQfiQ6nZaAAXmFmlQpOGoVbEw7M0FCTLWxDUwez2Tsok2R2tO1NS6bbpRZnZ08nHrssqwudIugC3iJyL/6a7pzLDio5dVXe+E6MZ5N/bW6jEH7JKqeiwnrZizObKLIZ37nahRfimgrJrm1mly4ikvwE/ylwry+Iz5Zt+905Q8US5CXhGuStmUB2fxEdpwDMnjW+jTNvPxU47Z0lx3Bl4kJ7Pn0Kf7lTmdtwSn59AWxiXOrVtPUuTFOWh+u6xitS/dUiuJM/gHeS7oGni4s0Z2VuAfa0gnFUb9ayDK9ir4/M3huBuMJUuDZIG4S5vwuMQt+0nG8xaQlntB6jDwN+p7Gn4MHDDkvd1YKqZ/U+JfNEszqZc05l92+FWqiXx+KHL4i+AwlzenSBPmXkQbnH5Ad3p+b5RUWY93C9LuF9WO9EAHgI+bi1uCnUwu72TMmWyJdtWxCcMvY5ndTkF76A8js/yrowlKE+JuS/+wrsX96M7xrrTkOblB9OzEzSSitz1dZD0a/PwOEVhaqzCaoS6Z63nC1WFE1udZn/osyvkr8qsDsazpd1r5eHghuDXb76OdmeXD8Anau1Sde4F5T7ogFTIrIIrtrviE4MqA6TLw+itR7fLwHq4Za4xoSjvblFL+ZR0Kq5INjpjX8MjhiwNPGFmTdms2q0jWaCvSMcaiz8bPolHRNi+Rees6RlY9lzMdM4K03taSYQNeWzaNawiaUA77Wohvz/uGtbw598ej3H6xwLZtq2kmTID8ffUMNyP/RrcUFBbIW1FXcUzKccjceX+NjN7a0a3Keg9/r+9M4+7vprX//vqaR6eQiINOGlAx9MoQj8phFBolMjspAHVIUMppZOQSEQaUJRIkkalQYPmOcPRkelkSp1K4/X747P2c3/3vr/jvvf93EPrer32697DWt+19r6/e38/67Ouz3XlYHUGoOKi3UPTxbtRQmTgtfMI8nrRa3oX25tVHZ/YMj3PocW3KbCDS2xVS/o2ZmNL+jwLmNsi+JpLcPmKW2NNq+5TgN3d7OJzF7E9KyIT0idLNJiJHaaPpFcR1eDbEoUDPcwlAurnD7S/mPifzSUukvsQdrMvIXzNX9Dwnq6zvY6kNxNb0f9JBGCVRW9dkbbqvkgUCC5KbG/fV5VRrzjGG6uyRun1JxUeLk4s6J5o+xMV7fcjsvXPAc4EXkVUPbfeHpS0CkG7KM0uSjqH+B/uRSwI3gr8xQ36rpKex/jt3dKscgo692b8FvK4gDhtaffkreYQwdtG7rdrrZpTJzOFrsGnpJ8Cr3DSfE0ByTlEAHSjS5z82o6RgtqHgH2cuM8puPo0sITt3Wred6ffxdTnUvfbe5Y+V3jtJ4TzXmszBIU97c9tn9mhz3qMFUJeXJVN75Ilrei/GPE5fQY4wCW82K6o2m0pzKnOFODfiPf9EsIQ4kHi/X9govPKmHxkzuoMgLuR+wfxqKTVnETh0xe2jgNY5jVdN/7DTvIskhayfUHazqpEVTaWkM6q6rM9sJrtgyStIml9V2vF7kcUWRWzbGYsC1iF5YFbJF1Jv3LCYAahWKzWls/Vtc8fU7vX0S97dC8h3j+IZZzUDiS9y3bvovoTSW0coxZRUEa2InRvH1ZJUVAPaYt6f8YHR5UZTOK82p4IKno6wc9qMbciPs8YvWMcbP9t4KnDJV1CVByX4U3APOBa27ukbfQq3/Mq/J4x3eAyPMn2MZL28JgcV9OF/htEZupmxopO6lQjTiGkrb5Gzfdb0kUEN/W7BP/5VoV6QGOgChGgpMzh6rbPU6g1LFyTpXoWoWfaCz6PohB8lrRfCViKMf7hUoQ80aOSqjKObcfYnMhcFivOH5W0b8Vciij7XWzKci+l5GKW5rVxej9VuB+4TtL59P/+1BUq7QHsK+khIhBv1E0lzg+nW11B01MZy5LuSMssaQpSX5P6PYMoaBsVdadMTaWHWlUVB4f/AeJzegjYlAqptozphxysziCkDGvZFmfdj+bewAWKYg0RwUVl8Jmym4NbeXsSW8tluFshp3QRUVl6F6H1WIcDiZVtXza2qrGkLxFUhk2Agwiu5FeILcgy7Ei407TeTkvYv00jp+IoVfBJR9HHIXV0vaQTm7a3EooXncFCgzYVtl8F7iCkqC5KAUldwcIxRNDcx5Vrgu1fS5rjKJo6VsG564LaQjn1V/YvRATFdcWAD9h+TNIjKRt/F+VSQcUxitXRCxHFf3XSVL3/358kvYZYiKxcNwbwgrIsYg1a6SkTi52nEzSP3ufSentN0ruIheATCX73ysR3sSrD2DX4PJQI2C4k/tebAAcrjBHOm+AYD7nEpctRSd70W3F/2bZ3A94BfCPRD+bbe9a0Pz3dWsMdC101pgZwKvH5fksVagDpO3oWcFYhS3qhpMosqaLgbm2i6PeTbsEH7oKJJG4k/Qb4K8E9PgbYzRXqIhnTDzlYnVk4o3B/caJw6I9VjRVctwcIS8Uet+e2IYK4D1IdrL4+jfEBgpO1LCEiXYeu2diN3S/i/XfVi3jfTFyIW73PFAyf2LStVYKPUNAfrHluIn1eKelAxjKYVZmTtSRdk15fM90nPV6j9l3EAY8gMiDRSfodYSpQhX+6XjKtDPen/9t1kg4F/kR9pql0qg2vF6v8HyGy69vWtL9K0nJERvJqonivScKpmBl/hMg2XVrVGPhUClg+RNAg5lKeHS/iMg1YljaglZ6y7dco9GLfBPyXwmr0CZLWa6LWJOxKcHSvSMf7VaLzVKFT8Jky0GemMQTsa7v3G1dld9p2jMUlrcv4BY8I6aRxkPRawoiiJ420re1WC6y08zNPLe09XVAIUZgCrNKCutSzjn2m7QMTJWVFV1jH0k0NYJgs6VuIZMIawO6F3Zk2Gd9OSAu/59JPJau79hxB0AB2ANYldjgucoUVdcb0QuaszmCkYPS8Ml5aoc1ltl84wXHudElVceJ7nW17847HO4/Ybv40sfV+F1GhOs43OrW/AnghUTCxnoKXeJ5TdX1J+/UJJ6cb6L9wl/KdUrZhe2BFYnv0JNvX1cy/E5902D6p36+BNxB8vTr9zNWqXgMY5gdZ0u9cYWkr6RCC7/h9+j/jyoAnZWvvIrLkHyAWNl8e3IJWvXnEGrZLA4uJQmFVO7cqQJC0qlvwqkc0l00IzvGfic+3ycZ40B2I1L4pS/w04tzfHniK7VrlBklX2N5IY37xCxOScnWGHisyFnxeWQg+q9o/gVhgF4OQWqWFNmOkYLauSn/Tkj43EAHqbZI2IrjJtbzdQt9OLktpfq8jFqXXERq6P7Ndprnc69PJOlYd1AAGsqTfGXWWdCKQ9BVgSWIr/+vE4utK2+9o0XdpYndxL2Bl25XScBnTBzlYncGQtCbwY9uVvD9JnySCtu/XBTsN49QFLacDb2nKGgz0WYrIxi7EWDb22x7PN+y135nIIm9AZDm2JbaYxvmtp/Y3pXY30u+Icn7DvJ7O2IV7caKw4DsuOP2kdvOIrd8D6OdC3gtc4BDEHjx25z6p3wXAZpO1XZUuxqUvURMYpnkNwnULpw5z6iR1lfp00rHVELax6ld0ONV2rYuPKsTUC2NUchHTIuWDjD+HR+qXnsYSkeFeweFOVNf2UMI5b2dgN0LT9xbbH63p0zr4lPROgoe5MhGwvQC4rOm8GibAbQMNKG8MPm7o+xOSy5LteSmwv7YsMEztewuAdxJZ1f0k3dCwELimt+vkMWm8ugLaohoARNKgSg3gMcasZYvn8cizpF3R+1wKf5cmrnGvqOnzWSKzujSRTb6YKLCqPeczpgcyDWAGQWM6pWJMJL62opi44C1FbGP9i4ofGtVroC5Rc/x/ATcqdAiLntmlF+KUjf1hysY+RoV9Zmp7JvAftk9QaKxunuazTcMq/++ut+orRQoE/ovYHl2XCHj3Y0CU3d35pEP1SdgHOFNRkFPMYPa9P0n/oF7Dtsoq9CmEMPxgsCyiiGT8AcP69lPAFS5ULqfscSXUUlbK9v8MkbUvXpz3oOa8SijSBdanv4it1BSA/u3j2oxlQpEu8EniXGqL39luzV+UtCTxXV/V9rslrQ6safuMivYnAO8naAxXETschxAi7XX4MLGVfCPwHkJBobIgrSr4pPzzJbXdELjc9qbpXKt1a2o7hoarJF9B/c5ufY8bfme6uiwtnDLE2zJmI9qETtaxtj+XMrgvJs7nXVyhBmC7ztZ5qvFA+nt/2h34O9Bk2nE5kRn/30mdWcakIAerMwgezjWqVZ9hjp3w43RrO59HJd0vadkW2djjgHPSdtShbq/V9wsFz/N0+gO8Jv7XIsAWRGZ1M+Bn1F8o2/JJJ9LnIIJHuTgh91SF5Wteq8MZhJj/ONpDuqgNPrc7wVu8FehVuPe0LA+ixk2NyIz3MF9Wqqxhx/MEOhQJpePP3/JNWalxW8ANYzSO534O4p5N2d4B3KbQvv0R/edwFV/wWCLg7lFpfk/woEuDVeDfbd8jaUeicn4fImitDL5SUHS87Z0Ijm8bdA0+/2X7X5KQtFjafl9zRGP0KslXID6nn6bHmxJmKWWf7dfoL9AbfFyHri5LBxB2u5fY/oVCueVXDWP0rGOfohrr2LTd/15COeFGgn7TVAg7nXGGgmt+KGMLzSYVj1OBHSX1+L2rAk91Nb83YxohB6szAGlb9O7eRVtRPb8VUb19pO2HSvq83/aX0v3ndgj0OsH28Qr5mlVt396yW6tsbMpK/JjYNr9K4TBV3BKturD2+J8vLR6OCukqST15li2JwpGe7/19Ze0LOJwWfNIJ9nli3dZWDx6wJFUU0SxeeKqUJ1jH8bK9Y8nT7wLWt/1/Co7n9yQ9w/YXGF+4Mni8rrJSXbL2Kyt0NFW4T0Of+S/XzbuAeZLuSWMske5Du0VKVwrOEkSQWvzf10nzrGZ7O0k7EJN5IG3vV2HRtC39esLM4SFJtXNMC4gnS1q07DenAl2Dz9+nIOQ04Ny0Y1DLcW07hlMluaQzCJ74n9LjFYEjyw5suzar24AP0sHe06ESckrh8X8TmrGVcHvr2OMJVYqLCS3hZwPjDBamOxRmL3faPjA9XpoIvm8jZMXqcCSJ30so0txLBLBVqjIZ0wg5WJ0ZOJngbP5T4b9+ClGctA7wZaDMjaqnCwjhoNKKZ9UVimrZw4is3zPT/A5wvcxLl2zsw0SgshiR0Wjkbtp+Sctj97AvIWeylweqpxtwJ3BTh0B1mD7nSXqF7XPaNFZUyH6e2BL9GyHr80vG7CUnijm9rX/bd0h6KRGwPp2GYFXdZaWK50nv86oaYxjt207wAizEcHeJnofSorGXxVuNejWMrxPOTTcRVdGrEhfvJtwBXKrgqhcXEFULx07Bp+2t0939FbzoZQn5pDp0DXCf4X7jj/+lQTEjba+/i/EmDZVSVLavUZgo1LosKeTALnQoK4iQVXoT8Vm/tWqbvoDlCWmtY9Ni4pm2BwvunuPElZV0DM2KF9MVXyXoYL0ixEMI7vQ6wNHULAYIFYSiqsw/VK8qkzGNkIPVmYElPFbduhPwDdufVagBVFatF1AbREwQ+xOZzAsBbF8nqZY71DYbK2kLYlvydGA92/e3mVC6sHwKWMn2looq3OfbPq5iPpumfqtJus/2gykIex5wgu27K4ZqxSedYJ9dgX0UOpAP04428CKiInjdlDWuzc50xJ8lrdOjDaQM65YEv7fJX3xQVuoOSmSlJL2eqNI9Mj2+kshKmQqOtjvq2Gqs+GmYTGwrqJ8HvmSXTKzCZeqLxP/SwCXAHrZ/X9FlPyKoW0XSt1O/t1Ud3/bnKWSiJN1JNY+0iD+m20K02A7vEnym37MbbK+d+raSkhsiwL1Q0tlEAaUJ2k9ZwWARPySykufRUlc4nXdn2b5Z0seA9SR9yuOL9/YgKE8QOzzzCP7lusQ2f+XiW2GAsgEREB9LKG18i/j/FzE/SHZwZ9u8hemIOYWEwnbA0Q5Hu1MlNV0LO/F7M6YXcrA6M1D8ZXkZocuJQ8y8qs9ykrYmLipzNVBcUMN964pHbP9zYB61WcMO2diPEsVUXSkMxwHfZiyw+RUhF3VcQ79TgQ0Ulq7HEEHyiYTkVBna8kmH7uPuXOJHbP9FoWEr2+cmLtuosDMDpg+J+7azpK/WdWzJC4UI6LcvPF6UKIJamrggj0LH9qqK+yPDEP+7Io4lzr1eoL1Teu7lFWOdq9DWfQHxe7GH7b9WHVyh/bkTA5lCYuu6El22xbsGn+n37Hp1kAgbJsC1/f7029ijBR1t+wd1fYAl3WCPW4KP2z5F0ouJIsbDgKOAjQbaPVLIuG5JLJD/RuyqHNowxtZEUHsNgO0/Sio773oUFuinsUx5ZX9HzJG0cPrN2YwwqOihKZ7p8XtX0Bi/9+OTM82MUSMHqzMDP5V0MiGi/gRSYUDiWlVxx37GmBPVRfTb1NXa0nXETYoijTmKCuTdqagiL2B/WmRjh9jO72EF2ydK2jsd52HVV+H28FjKOmwNHG77i70towq04pNOpI/C1vQ62/dJ2omgcxxeczH/p0Ia7BLgBIWj2MiyBzWZPVwjjK9QV/gQ0HNluooomvt14eLTw6K27yw8viRlU/6e3lvZ8Xs6tisNZEnnUuKo1jUTOwV4su1jC4+PUzjJ1WFxQtVhYeA5kurkm84kApw+aawqSDrc9p6SfkS5osM42s8wwSehdXxzyqYXaQaltKIhx4D4jXqEeC9ttsTPkPRq22d2GKP3m/Maghf8Q0n7l7R7LP2W/4MIwIqLyzolFghXLivxjau+HwuSwjLJOImgrfyVUAS4GCAlGJpMF9ryezOmIXKwOjOwJ7HlsSLw4sIq/KlUSJx4rJhgHH+paZu+I3ZLc3iQyASdTWzB16FzNrYj7lMUGPV+wDekHR/vYUWBylsZC+4XqWnfiU86ZJ+jiKzIPCLjeAzBQa4SJt+KKEzak8iCLktka6YMkt5ISIIdTFTvisiUfk/S+4jzpWjX+YRif9vvLzx8csUwfyQC4NfRL0N1L/VuUcO4kC0I/DUtTk5Kj3cgOMilUDgRbUe4t/WCTxML1TIs2ZHq8M3097AOfaBj8EmDTNUoxpC0LfAZYrEs4IuS9rb9vZox9gD2ldTzlW+TkfxD2m3YnJDDW4zY6RrEJ4hzdw5wem8nScF3bdIAPTmNsZyC+/p22is1zDjYPkjS+cT//Bx7Pvd/IeJaVAlJ73AYMtxWeO4Q2x+etAlnjAzZFGAGQiGHsgmhxXh1Q9txItaSrra9/ojmsm6LAoDBPscA5xOajW8ksrGL2H7viOa0AfAFworveqLIaJumeSq4re8lRMhPSkH9drYPqWh/L6Fh25ZP2rmPxkS/PwH8wWFHWSlMLulg2/s2PbcgoTAeeJ3tOwaefwZx4fhccX6Jc3mh7a8NtH8P8FLbO9SMtYhb6NhqSEexBQVFwdOXCOc2gEuJrf1SUwBJtwPPc0srZUl7EcHvGfRzp++paD+Ue1cKuMahLR91MsaQdD3wctt3pcdPJhzxSoX0JzCvJQkpvBsdxVMrEpJh4xaqiSrwoEOy6jmp323ARS5oGVeM83JCNUKENvG5o3wfswUKk4Zv2f52evxlYDG3cL3KmHrkYHUGQCG18mHbN6UfvGuIlfhqBN+qzH1kLSJYO5T+Sum5wN62nzuiuV1ArHJPIdyeGvml6Uf8o4zJ8pwNfMrJAnBE81qUkGcR4bDTVmpnWkFRiHUWYQ+4CWHBeJ2rXXDKFieVjjYLApJusf2citdut73mwHMrEJXdD5K4eEQmdjFi665S1FtR7NWoY6shHcWmK9KFeJumwKbQ/r1EtrtYBGZXO9V1cu8aFgot0i8S391FiWzjfaPkVEq6sfj9UfBer6/6TqU2Itz2ehqdqwArukGjM51nPTrTxQ5zkME2+xFyUgsD5xKc1guJjOzZtks55xrS7vrxCkVR7+lEMeirCPOYGSff9XhFDlZnACTd3AsuJe0LrGV7ZwWR/lKX2PEpKqq3IrZFi0449xJBZROvtMv8nkpkqLYjguHv2q6kAgyTjZ3g/DYF9rHd5LC0OiEJ9hz6bRtL3YqG4JN27pM+2x0J/+6LU8btpbZPGGj3HiIrvAZQVFhYBriqLhs52UiZrNcOvkeF3NWPys7f9PrLiAUXwM22f1rWbqDPr+mgY9s2E7ugoZZqABpTNViJqCI/n/5MaZWT3G8In/q7Ws6naOc5/36Lfp2CT0lXEcV1pxBV7jsDq9ftDAwxxmcIpY8exWI7okirsoBK0lEkjU7bz1bYu55ju1KjU9IehNxVrz5gayK58MWBdjcSC6fFCFfClR2GDUsQLnF1dqud7a4fb0iUsB6WIRbCl5IWqe4mV5gxVbCdb9P8RgQ3vfvnA9uXvVbR94ULcJ7/TnDbHmpodwGxxXUg8NwRjv//gFsI7/LjCDmXywkqwLYt+l9CcCdvIDJz+wOfrGl/A5G5m5fu7wH8rGGMzn0KfZcnLTBLXnsC4U5zCpFx791WmMpzN81tK0Lr9W3pHFmbyBTfTmRKRznWBcBCHdpvCVxL2DXeQyzm7pkGn9m56TNaON3eBpxb0u6tdbea4/8IWLzDfK4pu9+i31XpvLyWCCJ3AQ6ua5/+3lB47uejHCP1eQMhi/d5YOu27x+4tvDc9Q19bgCWKjxeqvi+Cs9fW3Y/PW76fT8bu1+cAAAPT0lEQVSZ0Ms9hqh2PwI4YqrP3+l0A35LcH97t98Wn5vq+eVbu1susJoZuFPSboSF4nokDcG08q4rAOr1/QHt9Ro7QdKziczEmwgO3HeJqu9KOCwRe9nYoxUyOrXZ2JY4nOC/XkZs81xJBJtNfuc9LGH7fElycAP3l3Qx1Z7uj9h2ymJ/wcEnfWvDGK36pGzRIUQQdSCxCFgeWEjSzrb7dCQd29b/ALaRtDbh/Q1RLdsqezZZsH2apN8S58VuRLB+E7GAGLctOkF01bEdxoVsQaCVGoDHVA2WIpycHk2P5xCZuio8BFwr6af0f05V0lVDu3c5FB/mpLkdK6luV+f+ROG5XiHb9CciyKtFxzEgMmsP014NYBiNTtGvyfpoem4QD0la0qEjPb+WQNKyLcboZHf9eITtZ8L8wrqzHFnrjxPX0gOndHIZrZGD1ZmBdxDcus2Jgp+eSP0LCO3FOnTSaxwCxxFFGu8jtqpb8U5t/xk4InFe9yG2ZCYarGL7vHT3e+li12TBV8S/En/tV5LeD/yB8BGvwr2SPkJ8ppuki1nT4qFtny8RzlrLElJlr7J9eeIin0S1sPquhJHAaempkyUdafvLDfOaVNi+XtL+DgvJyURX7dthXMgWBDqpARA7LpsT7x1C8ugcYOOK9memWyt4eOmjrsHnW4jK7l0JFYeVaTa16DSGhlMD6Gl0PkVjGp0fa5jXscAVKVkAscNwTEm7TZwK42wXg9NFiAx5Hb5Ht0XK4xkfc1h4v5i4/n2Wct3bjGmIzFmd5SgrrpF0ne11JnjchQkporcT21AiLizHAh91DQ+wIhv7Pbfkz9Uc97/p97s+vPjY9unjOvX33xC4FViOWHEvS2iBXl7RvhWfdJg+xf+RpFttP7vwWiVnUFF5v7FToY3CO/vnruG9LShIuojgVv6CkFS62PaNIx7jKtsbdGi/IfG/7uJCNulQvxqACV3QOjWAcd/prt9zSRvZvmIC0y475tMJO9NFieBzLqE5+uuBdoOuZVcQC0UTfPPKQLLtGIX2Q6kBpIViT2Ltp26h0amwGH4x8ft4kUfM1Zd0ObD5wPf9HNtVi5THLXq/m5I+TeyknNiFf50xtciZ1RmARKKvhKs1CwH+0jFD0xafIcjqz7R9b5rnXEKH8TCCi1mF4xgiG9sClzKWQR58bPoLzcbB9i/S3f8jeG+1SNnhzwFIWh64sy5Q7dinmGF5YPAwNUOIgrUiY/JYUw7bm6QM2IbAS4EfS1ra9hPre3ZCVx3bYVzIJhUpO/bGhu/1IO6TtJ6Tlaek9Rl/3vQq399ILBrOtn2rwtZ4X4L33GSZ2wolwefPGAs+LwMGA8lB17LF6HctGxesDjFGDwsNLIz/Rrn+6SCWJDixpkasf6Cg5450m/+aR1vQs7gLChAO++MlR3j82YS2urcZ0xA5WJ0ZeCGxXXkScAXdgo+3ExmazzOWoWkMxFpgS2CN4vZp4gK9jyieGhesFrKxqxGVsW8gfNkbs7FtYPst6UK/lcMvuhW6Lga68kmH7FPHEVx8oC0ac4H6JnC5pN773xo4vu79LSik7beXpNtyxILl4hEPsyuwj6S22rfDuJBNKmw/mgKxLhSWPYFTJP0xPV6R/uCvh68D/0Zkt4+S9Cti4fCRhm3wrugafHZ2LRtijB7OknQ2/WoAtZQIhc7xNoQlswhe7CkVPPurid/a3u907zdS6X6pusiQGFykbEDJIiUDiBqJLYDDbN+tkIHcu6FPxjRBpgHMAKQA7OVEVvR5BKH+JLfQNK043p4u0WbteIxf2l6jy2uSPk9kYz9Qko19wHZdNrbL3C52B6tWSX+hZjHgAXFxhbxOj096NAN80rJtpWH6dIH6dTA3JALC3tbjL2o7LyAoLG+vIuTBzvQ00L6VdAixpdvFhWzSkXiRyxIUmaIr0zUV7RcjsvFrEv/324gM4oMD7W4mzAMeVRRo/hV4lu0/jXj+v3BB1knSl5ycyCRdbvsFA+1/bftZFcf6je3VRjDGnsRuy3WEQ11xe/4H1EDSrcC6vV2g9NldU6TnTAXSd/07hIObgacRdQ21ZjEZGTMNOVidYUgXpR2IbfgDPKDZ1/IYv3OF+HeHY5wGfL+Ea7kTUeU9bgszZXH6srHp+TnAbbZXn8icCsf7GLG1O3ihr3Ln6bQYGIZPOiwHtS1mAvdK0nKEKsUmBBXgMcIt7OMjHKOrjm1nF7IFAUXh4SBs+2UV7cvMIBqfK2szCnQNPjWEa9kQYxxGFJytRchK/ZwIXi9r2ppXmC7s4FTcms7lb9mutDKWtDWxEPpnoc9LbZ9W1actUpB6p+0/S1oEeA+xU3UL8IkRUw0yMqYcmQYwQ5CC1NcQAdUziOrU79f1qTvcCKa0K/B9SW9nbNtrQ4LLtXVFHw8GqunJRyWNctX0nvS3KKFloDRAd1TSnkVsD/YWAxdKqloMDMMnHZaD2hZPllQlOzTlBUNpDncriuBWIYrxNqZZPaErjiIoFPOIbeJjCGpElSXnMiMefySwvWmbdoqCvZUIqsi6jH235xIcy0GsJamXnRWwZnrcC9JHFbheIeldFcFnmVTUB4DTJO1IiWvZKMawvVd6fVHCcGBjgib1NUl3u8JlLeFB4GZJPSvTzYFLJB2Rjl1mvrBfMWObzv/9GFPqmAh63EsImti+hCzcOsTOzZtGMEZGxrRBDlZnACQdTwip/4TQDb1pgoeccHBk+w/ARhpzGRLwE9vn13S7JfEzy7Kxt010ToW5rdK1T8fFQCc+6QT6dMEcgqs3LYqpyqBwTbqd0Pr9CrDLJFABOmnfds3ETjbqFhxQuuh4JWEYsDKpcC/hXiKAGcRICqhaoFPw6Sh42lj9rmU/dr1r2TABLsSCei5Bs1iW2EJvUqU4m5AHe4zQSy3LfA+irHhnVNfcOYXs6XaEM9apwKmSrhvRGBkZ0waZBjADIOkxxrazi/+wyi3LtL1Z9s8VIX6/wBcqklYiAsAHKMnGpgB4VGOtxXjb1BMr2hYXA98ZwWJggWOytnNHCUkLuV9HcjLG+BmRJd+FoBv8hQhGS4M0hdTXPIL+8U0iE/sG26WZ2MlGyrxBcE83ZEzB4rUEt/KdFf3e6G5FhQd7wMK07LmJQkNY5k7WGJKOTu3uJbjplwOXOww1qo5dlOj7HyIAXYUo4NrX9RJ93yDc9I4kfut2A55g+21d3l/FsW8C1rH9iKTbgHfbvqj3mu21JzpGRsZ0Qg5WMxY4BrKxNzdkY4c5/seAVxDctLOJ7NMltt9Q0b7zYmC6YYZwVlv53U9wjE7at70gX1Ht/YeUiZ3ywF/SOYR8Va8QcRngFNtbDLTbyfa3JH2IksVpFf2jgs86TpN5NkHSWYQCx00EX/UyGgwhVF8Uer/tca5ihb5LAR8ntutFmDR8yvZ9VX06vJePAq8mCuRWBdZLOwrPAo63/aKJjpGRMZ2Qg9WMWQdJNxLcrWtsz1NIlHy1rOhrtkCj128cORLf70Qigwnh4vVm26NyUxscb3ngbw3BSKdM7IJCypbNc6rmTzSV622vNdDuPba/WsjIFmHbBwy2B94LrEFQMnpYBriqrJBpNkGSiIXyxum2NiEnd5ntcZ+hFlBR6DBQyOGtSJgA3JeeWwNY2hWqERkZMxWZs5oxG/FAKtp6JGWk/sxotQ2nHaZ7oJrQyu9+GGgI7duE7YhM7DtSZfWqhNLGVOObwJUKq04TRYtl2eEfA9j+5OALkl5b0v5kgnv5aeDDhefv9QQd5GYCUtB5k6S7gX+m25bA84GqgH+ootAUOO5FcODnX2tdoejQFS5x1rP9y1EcOyNjuiFnVjNmHRQuJf8JvBnYHbgHuNX2zlM6scc5JJ1HuJcV3dR2sb1ZZaf2x56wjm2bTOyChMKqs6cXXGrVKel24JW27xh4fhfCC32cPmmhzdqE1iiE9e1Qus0zBZJ2J7KpLyJkyi4lqACXEvab4/jUGkKir9DmeqKQ8GqiKAsAZw3UjIzOyMFqxqxG4nDNzdtiUw+V+93vPorKe3XUsa3LxAJ1mdgFBoXj1+q2j1X41y9t+7cDbV4NfAF4te1fpec+QmSLX1XFB5a0KyE/15NRej1wpO0vT867mXpI+hxJW9UtTRAmUhQq6Wrb60944hkZGTlYzZidkLQ9sJrtgyStAqyQMxrTDxqBm1o6TtHBq1H4fhSZ2MlE4qBuAKxpew1JTyMKrMYVzkjajNDd3Ap4JxFMbdlQ5X4DsLGTr7ykpYGf237e6N/NzMcwRaGS9gfuAn5A6LQCM4ayk5ExrZCD1YxZB0lfIsTmN7H9bElPBM52wZoxY3pAI3BTS8d5lFB0EJH1ur/3ErC47UUG2k+qo9hEkbQy1yWKBNdNz91QFUymLOxpROZwWydb0Jrj3whsMFDAddVUF5bNJkj6bcnTtj2r+fMZGZOBXGCVMRuxcZIjuhYik6FwrcmYfhiJiYHtOR27TLaj2ETxUJIiMsyXQRoHjekpixDD3wy4K1W9j5Ndk7Sw7UcI2sPlknrarFsDx0/OW3l8wvYzp3oOGRmzBWUOGxkZMx0PS1qIFHRIehL9wUnG9MFUBYbzJN2Tgr3npfu9x9Mhu3hyKhRcTtK7gPOArw02sr2M7bnp76K2lyo8LtMHvjL1OxR4N5GBfgB4r+3DJu/tPH4gaZ/C/W0GXjt4wc8oI2PmI9MAMmYdJO1MZIo2AL4BbEvY1H5nSif2OIWmoZvaTICklxPmFiJoLOc2dGlzzCmnOMx2dOVPZ2RkNCNfJDJmDSSdCfyH7RMkXc2Yc8w2noEWqrMFtpeZ6jnMRKTg9NyepNaIDvtkSR+sGbPU8SqjE1Rxv+xxRkZGC+RgNWM24TjgHEnHA4fOdt3IjNmHCZgbtMUcYGly0DSZcMX9sscZGRktkGkAGbMKqRDlE8AWxIV+Plc1Z40ypjsmW1Irb0NPProqU2RkZDQjZ1YzZhseJi4UixF+57mwKmMmYWHb5wBIOqBnqWn7tijwnzByRnWSMYQyRUZGRgNysJoxayBpC+BzwOnAerbvb+iSkTHdMNmSWhO2ts3IyMhY0Mg0gIxZA0kXExI8mauaMSORt5AzMjIyxiMHqxkZGRkZGRkZGdMW2RQgIyMjIyMjIyNj2iIHqxkZGRkZGRkZGdMWOVjNyMjIyMjIyMiYtsjBakZGRkZGRkZGxrRFDlYzMjIyMjIyMjKmLXKwmpGRkZGRkZGRMW3x/wGkbJ9GJIV0mQAAAABJRU5ErkJggg==\n",
      "text/plain": [
       "<Figure size 864x648 with 2 Axes>"
      ]
     },
     "metadata": {
      "needs_background": "light"
     },
     "output_type": "display_data"
    }
   ],
   "source": [
    "#correration matrix\n",
    "corrmat = train.corr()\n",
    "f, ax = plt.subplots(figsize=(12, 9))\n",
    "sns.heatmap(corrmat,vmax=0.9, square=True)\n",
    "plt.show()"
   ]
  },
  {
   "cell_type": "code",
   "execution_count": 168,
   "metadata": {},
   "outputs": [
    {
     "name": "stdout",
     "output_type": "stream",
     "text": [
      "Original: \n",
      "\n",
      "Pave    1454\n",
      "Grvl       6\n",
      "Name: Street, dtype: int64 \n",
      "\n"
     ]
    }
   ],
   "source": [
    "# Data Transformation \n",
    "print (\"Original: \\n\") \n",
    "print (train.Street.value_counts(), \"\\n\")"
   ]
  },
  {
   "cell_type": "code",
   "execution_count": 169,
   "metadata": {},
   "outputs": [
    {
     "data": {
      "text/plain": [
       "Normal     1198\n",
       "Partial     125\n",
       "Abnorml     101\n",
       "Family       20\n",
       "Alloca       12\n",
       "AdjLand       4\n",
       "Name: SaleCondition, dtype: int64"
      ]
     },
     "execution_count": 169,
     "metadata": {},
     "output_type": "execute_result"
    }
   ],
   "source": [
    "train['SaleCondition'].value_counts()"
   ]
  },
  {
   "cell_type": "code",
   "execution_count": 170,
   "metadata": {},
   "outputs": [
    {
     "data": {
      "text/plain": [
       "WD       1267\n",
       "New       122\n",
       "COD        43\n",
       "ConLD       9\n",
       "ConLI       5\n",
       "ConLw       5\n",
       "CWD         4\n",
       "Oth         3\n",
       "Con         2\n",
       "Name: SaleType, dtype: int64"
      ]
     },
     "execution_count": 170,
     "metadata": {},
     "output_type": "execute_result"
    }
   ],
   "source": [
    "train['SaleType'].value_counts()"
   ]
  },
  {
   "cell_type": "code",
   "execution_count": 171,
   "metadata": {},
   "outputs": [],
   "source": [
    "# Turn into one hot encoding \n",
    "train['enc_street'] = pd.get_dummies(train.Street, drop_first=True)\n",
    "test['enc_street'] = pd.get_dummies(train.Street, drop_first=True)"
   ]
  },
  {
   "cell_type": "code",
   "execution_count": 172,
   "metadata": {},
   "outputs": [
    {
     "name": "stdout",
     "output_type": "stream",
     "text": [
      "Encoded: \n",
      "\n",
      "1    1454\n",
      "0       6\n",
      "Name: enc_street, dtype: int64\n"
     ]
    }
   ],
   "source": [
    "# Encoded \n",
    "print ('Encoded: \\n') \n",
    "print (train.enc_street.value_counts())"
   ]
  },
  {
   "cell_type": "code",
   "execution_count": 173,
   "metadata": {},
   "outputs": [],
   "source": [
    "def encode(x): return 1 if x == 'Partial' else 0\n",
    "train['enc_condition'] = train.SaleCondition.apply(encode)\n",
    "test['enc_condition'] = test.SaleCondition.apply(encode)\n",
    "data = train.select_dtypes(include=[np.number]).interpolate().dropna()"
   ]
  },
  {
   "cell_type": "code",
   "execution_count": 174,
   "metadata": {},
   "outputs": [
    {
     "data": {
      "text/plain": [
       "0"
      ]
     },
     "execution_count": 174,
     "metadata": {},
     "output_type": "execute_result"
    }
   ],
   "source": [
    "sum(data.isnull().sum() != 0)"
   ]
  },
  {
   "cell_type": "code",
   "execution_count": 175,
   "metadata": {},
   "outputs": [
    {
     "data": {
      "text/plain": [
       "array([ 7,  6,  8,  5,  9,  4, 10,  3,  1,  2], dtype=int64)"
      ]
     },
     "execution_count": 175,
     "metadata": {},
     "output_type": "execute_result"
    }
   ],
   "source": [
    "train.OverallQual.unique()"
   ]
  },
  {
   "cell_type": "code",
   "execution_count": 176,
   "metadata": {},
   "outputs": [],
   "source": [
    "# Linear Model for the  train and test\n",
    "y = np.log(train.SalePrice)\n",
    "X = data.drop(['SalePrice', 'Id'], axis=1)"
   ]
  },
  {
   "cell_type": "code",
   "execution_count": 177,
   "metadata": {},
   "outputs": [],
   "source": [
    "from sklearn.model_selection import train_test_split\n",
    "X_train, X_test, y_train, y_test = train_test_split(\n",
    "                                    X, y, random_state=42, test_size=.33)"
   ]
  },
  {
   "cell_type": "code",
   "execution_count": 178,
   "metadata": {},
   "outputs": [],
   "source": [
    "from sklearn import linear_model\n",
    "from sklearn import ensemble\n",
    "lr = ensemble.GradientBoostingRegressor()"
   ]
  },
  {
   "cell_type": "code",
   "execution_count": 179,
   "metadata": {},
   "outputs": [],
   "source": [
    "model = lr.fit(X_train, y_train)"
   ]
  },
  {
   "cell_type": "code",
   "execution_count": 180,
   "metadata": {},
   "outputs": [
    {
     "name": "stdout",
     "output_type": "stream",
     "text": [
      "R^2 is: \n",
      " 0.9984899832277064\n"
     ]
    }
   ],
   "source": [
    "print (\"R^2 is: \\n\", model.score(X_test, y_test))"
   ]
  },
  {
   "cell_type": "code",
   "execution_count": 181,
   "metadata": {},
   "outputs": [],
   "source": [
    "y_pred = model.predict(X_test)"
   ]
  },
  {
   "cell_type": "code",
   "execution_count": 182,
   "metadata": {},
   "outputs": [
    {
     "name": "stdout",
     "output_type": "stream",
     "text": [
      "RMSE is: \n",
      " 0.00025735424733067504\n"
     ]
    }
   ],
   "source": [
    "from sklearn.metrics import mean_squared_error\n",
    "print ('RMSE is: \\n', mean_squared_error(y_test, y_pred))"
   ]
  },
  {
   "cell_type": "code",
   "execution_count": 183,
   "metadata": {},
   "outputs": [
    {
     "data": {
      "text/plain": [
       "<matplotlib.collections.PathCollection at 0x2ba38f2d4e0>"
      ]
     },
     "execution_count": 183,
     "metadata": {},
     "output_type": "execute_result"
    },
    {
     "data": {
      "image/png": "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\n",
      "text/plain": [
       "<Figure size 432x288 with 1 Axes>"
      ]
     },
     "metadata": {
      "needs_background": "light"
     },
     "output_type": "display_data"
    }
   ],
   "source": [
    "plt.scatter(y_pred, y_test, alpha=.75,color='b') "
   ]
  },
  {
   "cell_type": "code",
   "execution_count": null,
   "metadata": {},
   "outputs": [],
   "source": []
  },
  {
   "cell_type": "code",
   "execution_count": null,
   "metadata": {},
   "outputs": [],
   "source": []
  },
  {
   "cell_type": "code",
   "execution_count": null,
   "metadata": {},
   "outputs": [],
   "source": []
  }
 ],
 "metadata": {
  "kernelspec": {
   "display_name": "Python 3",
   "language": "python",
   "name": "python3"
  },
  "language_info": {
   "codemirror_mode": {
    "name": "ipython",
    "version": 3
   },
   "file_extension": ".py",
   "mimetype": "text/x-python",
   "name": "python",
   "nbconvert_exporter": "python",
   "pygments_lexer": "ipython3",
   "version": "3.7.0"
  }
 },
 "nbformat": 4,
 "nbformat_minor": 2
}
